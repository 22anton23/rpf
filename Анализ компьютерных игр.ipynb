{
 "cells": [
  {
   "cell_type": "markdown",
   "id": "9074d95e",
   "metadata": {},
   "source": [
    "# Сборный проект"
   ]
  },
  {
   "cell_type": "markdown",
   "id": "4c8ac5b8",
   "metadata": {},
   "source": [
    "## Описание проекта"
   ]
  },
  {
   "cell_type": "markdown",
   "id": "595ad9d5",
   "metadata": {},
   "source": [
    "Вы работаете в интернет-магазине «Стримчик», который продаёт по всему миру компьютерные игры. Из открытых источников доступны исторические данные о продажах игр, оценки пользователей и экспертов, жанры и платформы (например, Xbox или PlayStation). Вам нужно выявить определяющие успешность игры закономерности. Это позволит сделать ставку на потенциально популярный продукт и спланировать рекламные кампании.\n",
    "\n",
    "Перед вами данные до 2016 года. Представим, что сейчас декабрь 2016 г., и вы планируете кампанию на 2017-й. Нужно отработать принцип работы с данными. Неважно, прогнозируете ли вы продажи на 2017 год по данным 2016-го или же 2027-й — по данным 2026 года.\n",
    "\n",
    "В наборе данных попадается аббревиатура ESRB (Entertainment Software Rating Board) — это ассоциация, определяющая возрастной рейтинг компьютерных игр. ESRB оценивает игровой контент и присваивает ему подходящую возрастную категорию, например, «Для взрослых», «Для детей младшего возраста» или «Для подростков»."
   ]
  },
  {
   "cell_type": "markdown",
   "id": "41852bcf",
   "metadata": {},
   "source": [
    "## Шаг 1. Открытие файла с данными и изучение общий информации"
   ]
  },
  {
   "cell_type": "markdown",
   "id": "5c7466a4",
   "metadata": {},
   "source": [
    "### 1.1 Подключение библиотек"
   ]
  },
  {
   "cell_type": "code",
   "execution_count": 1,
   "id": "1a1caca6",
   "metadata": {},
   "outputs": [],
   "source": [
    "import pandas as pd\n",
    "import numpy as np\n",
    "from scipy import stats as st\n",
    "import matplotlib.pyplot as plt"
   ]
  },
  {
   "cell_type": "markdown",
   "id": "9dc8d569",
   "metadata": {},
   "source": [
    "### 1.2 Откытие файла"
   ]
  },
  {
   "cell_type": "code",
   "execution_count": 2,
   "id": "8b9b39ac",
   "metadata": {},
   "outputs": [
    {
     "data": {
      "text/html": [
       "<div>\n",
       "<style scoped>\n",
       "    .dataframe tbody tr th:only-of-type {\n",
       "        vertical-align: middle;\n",
       "    }\n",
       "\n",
       "    .dataframe tbody tr th {\n",
       "        vertical-align: top;\n",
       "    }\n",
       "\n",
       "    .dataframe thead th {\n",
       "        text-align: right;\n",
       "    }\n",
       "</style>\n",
       "<table border=\"1\" class=\"dataframe\">\n",
       "  <thead>\n",
       "    <tr style=\"text-align: right;\">\n",
       "      <th></th>\n",
       "      <th>Name</th>\n",
       "      <th>Platform</th>\n",
       "      <th>Year_of_Release</th>\n",
       "      <th>Genre</th>\n",
       "      <th>NA_sales</th>\n",
       "      <th>EU_sales</th>\n",
       "      <th>JP_sales</th>\n",
       "      <th>Other_sales</th>\n",
       "      <th>Critic_Score</th>\n",
       "      <th>User_Score</th>\n",
       "      <th>Rating</th>\n",
       "    </tr>\n",
       "  </thead>\n",
       "  <tbody>\n",
       "    <tr>\n",
       "      <th>0</th>\n",
       "      <td>Wii Sports</td>\n",
       "      <td>Wii</td>\n",
       "      <td>2006.0</td>\n",
       "      <td>Sports</td>\n",
       "      <td>41.36</td>\n",
       "      <td>28.96</td>\n",
       "      <td>3.77</td>\n",
       "      <td>8.45</td>\n",
       "      <td>76.0</td>\n",
       "      <td>8</td>\n",
       "      <td>E</td>\n",
       "    </tr>\n",
       "    <tr>\n",
       "      <th>1</th>\n",
       "      <td>Super Mario Bros.</td>\n",
       "      <td>NES</td>\n",
       "      <td>1985.0</td>\n",
       "      <td>Platform</td>\n",
       "      <td>29.08</td>\n",
       "      <td>3.58</td>\n",
       "      <td>6.81</td>\n",
       "      <td>0.77</td>\n",
       "      <td>NaN</td>\n",
       "      <td>NaN</td>\n",
       "      <td>NaN</td>\n",
       "    </tr>\n",
       "    <tr>\n",
       "      <th>2</th>\n",
       "      <td>Mario Kart Wii</td>\n",
       "      <td>Wii</td>\n",
       "      <td>2008.0</td>\n",
       "      <td>Racing</td>\n",
       "      <td>15.68</td>\n",
       "      <td>12.76</td>\n",
       "      <td>3.79</td>\n",
       "      <td>3.29</td>\n",
       "      <td>82.0</td>\n",
       "      <td>8.3</td>\n",
       "      <td>E</td>\n",
       "    </tr>\n",
       "    <tr>\n",
       "      <th>3</th>\n",
       "      <td>Wii Sports Resort</td>\n",
       "      <td>Wii</td>\n",
       "      <td>2009.0</td>\n",
       "      <td>Sports</td>\n",
       "      <td>15.61</td>\n",
       "      <td>10.93</td>\n",
       "      <td>3.28</td>\n",
       "      <td>2.95</td>\n",
       "      <td>80.0</td>\n",
       "      <td>8</td>\n",
       "      <td>E</td>\n",
       "    </tr>\n",
       "    <tr>\n",
       "      <th>4</th>\n",
       "      <td>Pokemon Red/Pokemon Blue</td>\n",
       "      <td>GB</td>\n",
       "      <td>1996.0</td>\n",
       "      <td>Role-Playing</td>\n",
       "      <td>11.27</td>\n",
       "      <td>8.89</td>\n",
       "      <td>10.22</td>\n",
       "      <td>1.00</td>\n",
       "      <td>NaN</td>\n",
       "      <td>NaN</td>\n",
       "      <td>NaN</td>\n",
       "    </tr>\n",
       "    <tr>\n",
       "      <th>5</th>\n",
       "      <td>Tetris</td>\n",
       "      <td>GB</td>\n",
       "      <td>1989.0</td>\n",
       "      <td>Puzzle</td>\n",
       "      <td>23.20</td>\n",
       "      <td>2.26</td>\n",
       "      <td>4.22</td>\n",
       "      <td>0.58</td>\n",
       "      <td>NaN</td>\n",
       "      <td>NaN</td>\n",
       "      <td>NaN</td>\n",
       "    </tr>\n",
       "    <tr>\n",
       "      <th>6</th>\n",
       "      <td>New Super Mario Bros.</td>\n",
       "      <td>DS</td>\n",
       "      <td>2006.0</td>\n",
       "      <td>Platform</td>\n",
       "      <td>11.28</td>\n",
       "      <td>9.14</td>\n",
       "      <td>6.50</td>\n",
       "      <td>2.88</td>\n",
       "      <td>89.0</td>\n",
       "      <td>8.5</td>\n",
       "      <td>E</td>\n",
       "    </tr>\n",
       "    <tr>\n",
       "      <th>7</th>\n",
       "      <td>Wii Play</td>\n",
       "      <td>Wii</td>\n",
       "      <td>2006.0</td>\n",
       "      <td>Misc</td>\n",
       "      <td>13.96</td>\n",
       "      <td>9.18</td>\n",
       "      <td>2.93</td>\n",
       "      <td>2.84</td>\n",
       "      <td>58.0</td>\n",
       "      <td>6.6</td>\n",
       "      <td>E</td>\n",
       "    </tr>\n",
       "    <tr>\n",
       "      <th>8</th>\n",
       "      <td>New Super Mario Bros. Wii</td>\n",
       "      <td>Wii</td>\n",
       "      <td>2009.0</td>\n",
       "      <td>Platform</td>\n",
       "      <td>14.44</td>\n",
       "      <td>6.94</td>\n",
       "      <td>4.70</td>\n",
       "      <td>2.24</td>\n",
       "      <td>87.0</td>\n",
       "      <td>8.4</td>\n",
       "      <td>E</td>\n",
       "    </tr>\n",
       "    <tr>\n",
       "      <th>9</th>\n",
       "      <td>Duck Hunt</td>\n",
       "      <td>NES</td>\n",
       "      <td>1984.0</td>\n",
       "      <td>Shooter</td>\n",
       "      <td>26.93</td>\n",
       "      <td>0.63</td>\n",
       "      <td>0.28</td>\n",
       "      <td>0.47</td>\n",
       "      <td>NaN</td>\n",
       "      <td>NaN</td>\n",
       "      <td>NaN</td>\n",
       "    </tr>\n",
       "  </tbody>\n",
       "</table>\n",
       "</div>"
      ],
      "text/plain": [
       "                        Name Platform  Year_of_Release         Genre  \\\n",
       "0                 Wii Sports      Wii           2006.0        Sports   \n",
       "1          Super Mario Bros.      NES           1985.0      Platform   \n",
       "2             Mario Kart Wii      Wii           2008.0        Racing   \n",
       "3          Wii Sports Resort      Wii           2009.0        Sports   \n",
       "4   Pokemon Red/Pokemon Blue       GB           1996.0  Role-Playing   \n",
       "5                     Tetris       GB           1989.0        Puzzle   \n",
       "6      New Super Mario Bros.       DS           2006.0      Platform   \n",
       "7                   Wii Play      Wii           2006.0          Misc   \n",
       "8  New Super Mario Bros. Wii      Wii           2009.0      Platform   \n",
       "9                  Duck Hunt      NES           1984.0       Shooter   \n",
       "\n",
       "   NA_sales  EU_sales  JP_sales  Other_sales  Critic_Score User_Score Rating  \n",
       "0     41.36     28.96      3.77         8.45          76.0          8      E  \n",
       "1     29.08      3.58      6.81         0.77           NaN        NaN    NaN  \n",
       "2     15.68     12.76      3.79         3.29          82.0        8.3      E  \n",
       "3     15.61     10.93      3.28         2.95          80.0          8      E  \n",
       "4     11.27      8.89     10.22         1.00           NaN        NaN    NaN  \n",
       "5     23.20      2.26      4.22         0.58           NaN        NaN    NaN  \n",
       "6     11.28      9.14      6.50         2.88          89.0        8.5      E  \n",
       "7     13.96      9.18      2.93         2.84          58.0        6.6      E  \n",
       "8     14.44      6.94      4.70         2.24          87.0        8.4      E  \n",
       "9     26.93      0.63      0.28         0.47           NaN        NaN    NaN  "
      ]
     },
     "execution_count": 2,
     "metadata": {},
     "output_type": "execute_result"
    }
   ],
   "source": [
    "try:\n",
    "    data = pd.read_csv('games.csv')\n",
    "except FileNotFoundError:\n",
    "    data = pd.read_csv('/datasets/games.csv')\n",
    "    \n",
    "data.head(10)"
   ]
  },
  {
   "cell_type": "markdown",
   "id": "44fb00da",
   "metadata": {},
   "source": [
    "### 1.3 Информация о датасете"
   ]
  },
  {
   "cell_type": "code",
   "execution_count": 3,
   "id": "b4c41e9e",
   "metadata": {},
   "outputs": [
    {
     "name": "stdout",
     "output_type": "stream",
     "text": [
      "<class 'pandas.core.frame.DataFrame'>\n",
      "RangeIndex: 16715 entries, 0 to 16714\n",
      "Data columns (total 11 columns):\n",
      " #   Column           Non-Null Count  Dtype  \n",
      "---  ------           --------------  -----  \n",
      " 0   Name             16713 non-null  object \n",
      " 1   Platform         16715 non-null  object \n",
      " 2   Year_of_Release  16446 non-null  float64\n",
      " 3   Genre            16713 non-null  object \n",
      " 4   NA_sales         16715 non-null  float64\n",
      " 5   EU_sales         16715 non-null  float64\n",
      " 6   JP_sales         16715 non-null  float64\n",
      " 7   Other_sales      16715 non-null  float64\n",
      " 8   Critic_Score     8137 non-null   float64\n",
      " 9   User_Score       10014 non-null  object \n",
      " 10  Rating           9949 non-null   object \n",
      "dtypes: float64(6), object(5)\n",
      "memory usage: 1.4+ MB\n"
     ]
    }
   ],
   "source": [
    "data.info()"
   ]
  },
  {
   "cell_type": "markdown",
   "id": "8d7297c2",
   "metadata": {},
   "source": [
    "Итак всего у нас в датасете 16715 столбцов. В столбцах Name, Year_of_Release, Genre, Critic_Score, User_Score, Rating есть пропуски. Начнём подготовку данных к анализу."
   ]
  },
  {
   "cell_type": "markdown",
   "id": "e64b77aa",
   "metadata": {},
   "source": [
    "## Шаг 2. Подготовка данных"
   ]
  },
  {
   "cell_type": "markdown",
   "id": "1604a0b6",
   "metadata": {},
   "source": [
    "### 2.1 Замена названия столбцов (нижний регистр);"
   ]
  },
  {
   "cell_type": "code",
   "execution_count": 4,
   "id": "1826fa84",
   "metadata": {},
   "outputs": [
    {
     "data": {
      "text/plain": [
       "Index(['name', 'platform', 'year_of_release', 'genre', 'na_sales', 'eu_sales',\n",
       "       'jp_sales', 'other_sales', 'critic_score', 'user_score', 'rating'],\n",
       "      dtype='object')"
      ]
     },
     "execution_count": 4,
     "metadata": {},
     "output_type": "execute_result"
    }
   ],
   "source": [
    "# new_columns = []\n",
    "# for column in data.columns:\n",
    "#    new_columns.append(column.lower())\n",
    "# data.columns = new_columns\n",
    "# data.columns\n",
    "\n",
    "data.columns = data.columns.str.lower()\n",
    "data.columns"
   ]
  },
  {
   "cell_type": "markdown",
   "id": "47d50918",
   "metadata": {},
   "source": [
    "### 2.2 Преобразование данных в нужные типы. "
   ]
  },
  {
   "cell_type": "markdown",
   "id": "3a5ea717",
   "metadata": {},
   "source": [
    "Для удобства поменяем типы столбцов. Столбец year_of_release сделаем типа int, так как так на много легче будет сравнивать год, можно было поменять в тип datetime, но так как у нас нету ни месяца, ни даты это не имеет смысла"
   ]
  },
  {
   "cell_type": "code",
   "execution_count": 5,
   "id": "11a0bb4f",
   "metadata": {},
   "outputs": [],
   "source": [
    "data['year_of_release'] = data['year_of_release'].dropna().astype(int)"
   ]
  },
  {
   "cell_type": "markdown",
   "id": "ead3c5d3",
   "metadata": {},
   "source": [
    "Посмотрим на значения в столбце user_score"
   ]
  },
  {
   "cell_type": "code",
   "execution_count": 6,
   "id": "2c62d2f1",
   "metadata": {},
   "outputs": [
    {
     "data": {
      "text/plain": [
       "array(['8', nan, '8.3', '8.5', '6.6', '8.4', '8.6', '7.7', '6.3', '7.4',\n",
       "       '8.2', '9', '7.9', '8.1', '8.7', '7.1', '3.4', '5.3', '4.8', '3.2',\n",
       "       '8.9', '6.4', '7.8', '7.5', '2.6', '7.2', '9.2', '7', '7.3', '4.3',\n",
       "       '7.6', '5.7', '5', '9.1', '6.5', 'tbd', '8.8', '6.9', '9.4', '6.8',\n",
       "       '6.1', '6.7', '5.4', '4', '4.9', '4.5', '9.3', '6.2', '4.2', '6',\n",
       "       '3.7', '4.1', '5.8', '5.6', '5.5', '4.4', '4.6', '5.9', '3.9',\n",
       "       '3.1', '2.9', '5.2', '3.3', '4.7', '5.1', '3.5', '2.5', '1.9', '3',\n",
       "       '2.7', '2.2', '2', '9.5', '2.1', '3.6', '2.8', '1.8', '3.8', '0',\n",
       "       '1.6', '9.6', '2.4', '1.7', '1.1', '0.3', '1.5', '0.7', '1.2',\n",
       "       '2.3', '0.5', '1.3', '0.2', '0.6', '1.4', '0.9', '1', '9.7'],\n",
       "      dtype=object)"
      ]
     },
     "execution_count": 6,
     "metadata": {},
     "output_type": "execute_result"
    }
   ],
   "source": [
    "data['user_score'].unique()"
   ]
  },
  {
   "cell_type": "markdown",
   "id": "ef263700",
   "metadata": {},
   "source": [
    "\"tbd\"... Поискав в интернете, мне удалось найти некоторые расшифровки аббревиатуры \"tbd\". tbd — это сокращение произошло от выражения «to be determined”. Так же это аббревиатуру можно перевести как To Be Done - должно быть сделано, или To Be Discussed - подлежит обсуждению. Последний вариант скорее всего что на самом деле подходит нам.\n",
    "\n",
    "Из-за того что мы не можем поменять \"tbd\" на число 0 до 10. Тогда следует заменить их на пропуски(np.nan), так как это больше всего подходит по смыслу. Затем весь столбец поменяем на тип float для того, чтобы мы могли производить расчёты с этим столбцом."
   ]
  },
  {
   "cell_type": "code",
   "execution_count": 7,
   "id": "0d3e1e07",
   "metadata": {},
   "outputs": [],
   "source": [
    "data = data.replace('tbd', np.nan)\n",
    "data['user_score'] = data['user_score'].dropna().astype(float)"
   ]
  },
  {
   "cell_type": "markdown",
   "id": "cebbc3dd",
   "metadata": {},
   "source": [
    "Интересно почему же в столбце с рейтингами >40% пропусков. Проверим на кикие строки расспространяются пропуски"
   ]
  },
  {
   "cell_type": "code",
   "execution_count": 8,
   "id": "a66cf61c",
   "metadata": {},
   "outputs": [
    {
     "data": {
      "text/html": [
       "<div>\n",
       "<style scoped>\n",
       "    .dataframe tbody tr th:only-of-type {\n",
       "        vertical-align: middle;\n",
       "    }\n",
       "\n",
       "    .dataframe tbody tr th {\n",
       "        vertical-align: top;\n",
       "    }\n",
       "\n",
       "    .dataframe thead th {\n",
       "        text-align: right;\n",
       "    }\n",
       "</style>\n",
       "<table border=\"1\" class=\"dataframe\">\n",
       "  <thead>\n",
       "    <tr style=\"text-align: right;\">\n",
       "      <th></th>\n",
       "      <th>name</th>\n",
       "      <th>platform</th>\n",
       "      <th>year_of_release</th>\n",
       "      <th>genre</th>\n",
       "      <th>na_sales</th>\n",
       "      <th>eu_sales</th>\n",
       "      <th>jp_sales</th>\n",
       "      <th>other_sales</th>\n",
       "      <th>critic_score</th>\n",
       "      <th>user_score</th>\n",
       "      <th>rating</th>\n",
       "    </tr>\n",
       "  </thead>\n",
       "  <tbody>\n",
       "    <tr>\n",
       "      <th>1</th>\n",
       "      <td>Super Mario Bros.</td>\n",
       "      <td>NES</td>\n",
       "      <td>1985.0</td>\n",
       "      <td>Platform</td>\n",
       "      <td>29.08</td>\n",
       "      <td>3.58</td>\n",
       "      <td>6.81</td>\n",
       "      <td>0.77</td>\n",
       "      <td>NaN</td>\n",
       "      <td>NaN</td>\n",
       "      <td>NaN</td>\n",
       "    </tr>\n",
       "    <tr>\n",
       "      <th>4</th>\n",
       "      <td>Pokemon Red/Pokemon Blue</td>\n",
       "      <td>GB</td>\n",
       "      <td>1996.0</td>\n",
       "      <td>Role-Playing</td>\n",
       "      <td>11.27</td>\n",
       "      <td>8.89</td>\n",
       "      <td>10.22</td>\n",
       "      <td>1.00</td>\n",
       "      <td>NaN</td>\n",
       "      <td>NaN</td>\n",
       "      <td>NaN</td>\n",
       "    </tr>\n",
       "    <tr>\n",
       "      <th>5</th>\n",
       "      <td>Tetris</td>\n",
       "      <td>GB</td>\n",
       "      <td>1989.0</td>\n",
       "      <td>Puzzle</td>\n",
       "      <td>23.20</td>\n",
       "      <td>2.26</td>\n",
       "      <td>4.22</td>\n",
       "      <td>0.58</td>\n",
       "      <td>NaN</td>\n",
       "      <td>NaN</td>\n",
       "      <td>NaN</td>\n",
       "    </tr>\n",
       "    <tr>\n",
       "      <th>9</th>\n",
       "      <td>Duck Hunt</td>\n",
       "      <td>NES</td>\n",
       "      <td>1984.0</td>\n",
       "      <td>Shooter</td>\n",
       "      <td>26.93</td>\n",
       "      <td>0.63</td>\n",
       "      <td>0.28</td>\n",
       "      <td>0.47</td>\n",
       "      <td>NaN</td>\n",
       "      <td>NaN</td>\n",
       "      <td>NaN</td>\n",
       "    </tr>\n",
       "    <tr>\n",
       "      <th>10</th>\n",
       "      <td>Nintendogs</td>\n",
       "      <td>DS</td>\n",
       "      <td>2005.0</td>\n",
       "      <td>Simulation</td>\n",
       "      <td>9.05</td>\n",
       "      <td>10.95</td>\n",
       "      <td>1.93</td>\n",
       "      <td>2.74</td>\n",
       "      <td>NaN</td>\n",
       "      <td>NaN</td>\n",
       "      <td>NaN</td>\n",
       "    </tr>\n",
       "    <tr>\n",
       "      <th>12</th>\n",
       "      <td>Pokemon Gold/Pokemon Silver</td>\n",
       "      <td>GB</td>\n",
       "      <td>1999.0</td>\n",
       "      <td>Role-Playing</td>\n",
       "      <td>9.00</td>\n",
       "      <td>6.18</td>\n",
       "      <td>7.20</td>\n",
       "      <td>0.71</td>\n",
       "      <td>NaN</td>\n",
       "      <td>NaN</td>\n",
       "      <td>NaN</td>\n",
       "    </tr>\n",
       "    <tr>\n",
       "      <th>18</th>\n",
       "      <td>Super Mario World</td>\n",
       "      <td>SNES</td>\n",
       "      <td>1990.0</td>\n",
       "      <td>Platform</td>\n",
       "      <td>12.78</td>\n",
       "      <td>3.75</td>\n",
       "      <td>3.54</td>\n",
       "      <td>0.55</td>\n",
       "      <td>NaN</td>\n",
       "      <td>NaN</td>\n",
       "      <td>NaN</td>\n",
       "    </tr>\n",
       "    <tr>\n",
       "      <th>20</th>\n",
       "      <td>Pokemon Diamond/Pokemon Pearl</td>\n",
       "      <td>DS</td>\n",
       "      <td>2006.0</td>\n",
       "      <td>Role-Playing</td>\n",
       "      <td>6.38</td>\n",
       "      <td>4.46</td>\n",
       "      <td>6.04</td>\n",
       "      <td>1.36</td>\n",
       "      <td>NaN</td>\n",
       "      <td>NaN</td>\n",
       "      <td>NaN</td>\n",
       "    </tr>\n",
       "    <tr>\n",
       "      <th>21</th>\n",
       "      <td>Super Mario Land</td>\n",
       "      <td>GB</td>\n",
       "      <td>1989.0</td>\n",
       "      <td>Platform</td>\n",
       "      <td>10.83</td>\n",
       "      <td>2.71</td>\n",
       "      <td>4.18</td>\n",
       "      <td>0.42</td>\n",
       "      <td>NaN</td>\n",
       "      <td>NaN</td>\n",
       "      <td>NaN</td>\n",
       "    </tr>\n",
       "    <tr>\n",
       "      <th>22</th>\n",
       "      <td>Super Mario Bros. 3</td>\n",
       "      <td>NES</td>\n",
       "      <td>1988.0</td>\n",
       "      <td>Platform</td>\n",
       "      <td>9.54</td>\n",
       "      <td>3.44</td>\n",
       "      <td>3.84</td>\n",
       "      <td>0.46</td>\n",
       "      <td>NaN</td>\n",
       "      <td>NaN</td>\n",
       "      <td>NaN</td>\n",
       "    </tr>\n",
       "    <tr>\n",
       "      <th>25</th>\n",
       "      <td>Pokemon Ruby/Pokemon Sapphire</td>\n",
       "      <td>GBA</td>\n",
       "      <td>2002.0</td>\n",
       "      <td>Role-Playing</td>\n",
       "      <td>6.06</td>\n",
       "      <td>3.90</td>\n",
       "      <td>5.38</td>\n",
       "      <td>0.50</td>\n",
       "      <td>NaN</td>\n",
       "      <td>NaN</td>\n",
       "      <td>NaN</td>\n",
       "    </tr>\n",
       "    <tr>\n",
       "      <th>27</th>\n",
       "      <td>Pokemon Black/Pokemon White</td>\n",
       "      <td>DS</td>\n",
       "      <td>2010.0</td>\n",
       "      <td>Role-Playing</td>\n",
       "      <td>5.51</td>\n",
       "      <td>3.17</td>\n",
       "      <td>5.65</td>\n",
       "      <td>0.80</td>\n",
       "      <td>NaN</td>\n",
       "      <td>NaN</td>\n",
       "      <td>NaN</td>\n",
       "    </tr>\n",
       "    <tr>\n",
       "      <th>30</th>\n",
       "      <td>Pokémon Yellow: Special Pikachu Edition</td>\n",
       "      <td>GB</td>\n",
       "      <td>1998.0</td>\n",
       "      <td>Role-Playing</td>\n",
       "      <td>5.89</td>\n",
       "      <td>5.04</td>\n",
       "      <td>3.12</td>\n",
       "      <td>0.59</td>\n",
       "      <td>NaN</td>\n",
       "      <td>NaN</td>\n",
       "      <td>NaN</td>\n",
       "    </tr>\n",
       "    <tr>\n",
       "      <th>31</th>\n",
       "      <td>Call of Duty: Black Ops 3</td>\n",
       "      <td>PS4</td>\n",
       "      <td>2015.0</td>\n",
       "      <td>Shooter</td>\n",
       "      <td>6.03</td>\n",
       "      <td>5.86</td>\n",
       "      <td>0.36</td>\n",
       "      <td>2.38</td>\n",
       "      <td>NaN</td>\n",
       "      <td>NaN</td>\n",
       "      <td>NaN</td>\n",
       "    </tr>\n",
       "    <tr>\n",
       "      <th>33</th>\n",
       "      <td>Pokemon X/Pokemon Y</td>\n",
       "      <td>3DS</td>\n",
       "      <td>2013.0</td>\n",
       "      <td>Role-Playing</td>\n",
       "      <td>5.28</td>\n",
       "      <td>4.19</td>\n",
       "      <td>4.35</td>\n",
       "      <td>0.78</td>\n",
       "      <td>NaN</td>\n",
       "      <td>NaN</td>\n",
       "      <td>NaN</td>\n",
       "    </tr>\n",
       "  </tbody>\n",
       "</table>\n",
       "</div>"
      ],
      "text/plain": [
       "                                       name platform  year_of_release  \\\n",
       "1                         Super Mario Bros.      NES           1985.0   \n",
       "4                  Pokemon Red/Pokemon Blue       GB           1996.0   \n",
       "5                                    Tetris       GB           1989.0   \n",
       "9                                 Duck Hunt      NES           1984.0   \n",
       "10                               Nintendogs       DS           2005.0   \n",
       "12              Pokemon Gold/Pokemon Silver       GB           1999.0   \n",
       "18                        Super Mario World     SNES           1990.0   \n",
       "20            Pokemon Diamond/Pokemon Pearl       DS           2006.0   \n",
       "21                         Super Mario Land       GB           1989.0   \n",
       "22                      Super Mario Bros. 3      NES           1988.0   \n",
       "25            Pokemon Ruby/Pokemon Sapphire      GBA           2002.0   \n",
       "27              Pokemon Black/Pokemon White       DS           2010.0   \n",
       "30  Pokémon Yellow: Special Pikachu Edition       GB           1998.0   \n",
       "31                Call of Duty: Black Ops 3      PS4           2015.0   \n",
       "33                      Pokemon X/Pokemon Y      3DS           2013.0   \n",
       "\n",
       "           genre  na_sales  eu_sales  jp_sales  other_sales  critic_score  \\\n",
       "1       Platform     29.08      3.58      6.81         0.77           NaN   \n",
       "4   Role-Playing     11.27      8.89     10.22         1.00           NaN   \n",
       "5         Puzzle     23.20      2.26      4.22         0.58           NaN   \n",
       "9        Shooter     26.93      0.63      0.28         0.47           NaN   \n",
       "10    Simulation      9.05     10.95      1.93         2.74           NaN   \n",
       "12  Role-Playing      9.00      6.18      7.20         0.71           NaN   \n",
       "18      Platform     12.78      3.75      3.54         0.55           NaN   \n",
       "20  Role-Playing      6.38      4.46      6.04         1.36           NaN   \n",
       "21      Platform     10.83      2.71      4.18         0.42           NaN   \n",
       "22      Platform      9.54      3.44      3.84         0.46           NaN   \n",
       "25  Role-Playing      6.06      3.90      5.38         0.50           NaN   \n",
       "27  Role-Playing      5.51      3.17      5.65         0.80           NaN   \n",
       "30  Role-Playing      5.89      5.04      3.12         0.59           NaN   \n",
       "31       Shooter      6.03      5.86      0.36         2.38           NaN   \n",
       "33  Role-Playing      5.28      4.19      4.35         0.78           NaN   \n",
       "\n",
       "    user_score rating  \n",
       "1          NaN    NaN  \n",
       "4          NaN    NaN  \n",
       "5          NaN    NaN  \n",
       "9          NaN    NaN  \n",
       "10         NaN    NaN  \n",
       "12         NaN    NaN  \n",
       "18         NaN    NaN  \n",
       "20         NaN    NaN  \n",
       "21         NaN    NaN  \n",
       "22         NaN    NaN  \n",
       "25         NaN    NaN  \n",
       "27         NaN    NaN  \n",
       "30         NaN    NaN  \n",
       "31         NaN    NaN  \n",
       "33         NaN    NaN  "
      ]
     },
     "execution_count": 8,
     "metadata": {},
     "output_type": "execute_result"
    }
   ],
   "source": [
    "data[data['user_score'].isna() | data['critic_score'].isna() | data['rating'].isna()].head(15)"
   ]
  },
  {
   "cell_type": "markdown",
   "id": "203b831e",
   "metadata": {},
   "source": [
    "Посмотрим в каких годах выпускались игры с пропусками. Возможно это связанно с годом выпуска, когда выходили игры в 90 - х годах не сохраняли рейтинг."
   ]
  },
  {
   "cell_type": "code",
   "execution_count": 9,
   "id": "29f0696e",
   "metadata": {},
   "outputs": [
    {
     "data": {
      "text/plain": [
       "2009.0    876\n",
       "2008.0    835\n",
       "2010.0    826\n",
       "2011.0    682\n",
       "2007.0    607\n",
       "2006.0    478\n",
       "2015.0    395\n",
       "2005.0    377\n",
       "2002.0    374\n",
       "1998.0    354\n",
       "Name: year_of_release, dtype: int64"
      ]
     },
     "execution_count": 9,
     "metadata": {},
     "output_type": "execute_result"
    }
   ],
   "source": [
    "(data[data['user_score'].isna() |\n",
    "      data['critic_score'].isna() |\n",
    "      data['rating'].isna()]['year_of_release'].value_counts().sort_values(ascending=False).head(10)\n",
    ")"
   ]
  },
  {
   "cell_type": "markdown",
   "id": "4987a623",
   "metadata": {},
   "source": [
    "От года это явно не зависит. Может быть из-за платформы на которой выходила игра."
   ]
  },
  {
   "cell_type": "code",
   "execution_count": 10,
   "id": "05fdede0",
   "metadata": {},
   "outputs": [
    {
     "data": {
      "text/plain": [
       "DS      1683\n",
       "PS      1044\n",
       "PS2     1000\n",
       "Wii      829\n",
       "PSP      816\n",
       "GBA      581\n",
       "PS3      548\n",
       "X360     385\n",
       "3DS      363\n",
       "N64      319\n",
       "PSV      311\n",
       "PC       307\n",
       "XB       244\n",
       "SNES     239\n",
       "GC       200\n",
       "SAT      173\n",
       "PS4      153\n",
       "2600     133\n",
       "GB        98\n",
       "NES       98\n",
       "XOne      88\n",
       "WiiU      58\n",
       "DC        38\n",
       "GEN       29\n",
       "NG        12\n",
       "SCD        6\n",
       "WS         6\n",
       "3DO        3\n",
       "TG16       2\n",
       "GG         1\n",
       "PCFX       1\n",
       "Name: platform, dtype: int64"
      ]
     },
     "execution_count": 10,
     "metadata": {},
     "output_type": "execute_result"
    }
   ],
   "source": [
    "(data[data['user_score'].isna() |\n",
    "      data['critic_score'].isna() |\n",
    "      data['rating'].isna()]['platform'].value_counts().sort_values(ascending=False)\n",
    ")"
   ]
  },
  {
   "cell_type": "markdown",
   "id": "354c91b3",
   "metadata": {},
   "source": [
    "Платформы тоже не влияют на рейтинг. Скорее всего рейтинг и оценки не ставят вместе(то есть у строки пропущены сразу 3 параметра одновременно) и по какой-то причине ей вообще не поставили ошибку(человеческий фактор или технический баг). Проверим"
   ]
  },
  {
   "cell_type": "code",
   "execution_count": 11,
   "id": "71df4d01",
   "metadata": {},
   "outputs": [
    {
     "name": "stdout",
     "output_type": "stream",
     "text": [
      "68.25 % От всех пропусков\n"
     ]
    }
   ],
   "source": [
    "all_na = data[data['user_score'].isna() | data['critic_score'].isna() | data['rating'].isna()].shape[0]\n",
    "not_all_na = data[data['user_score'].isna() & data['critic_score'].isna() & data['rating'].isna()].shape[0]\n",
    "print(round(not_all_na / all_na * 100, 2), '% От всех пропусков')"
   ]
  },
  {
   "cell_type": "markdown",
   "id": "5986bbce",
   "metadata": {},
   "source": [
    "Похоже на правду."
   ]
  },
  {
   "cell_type": "markdown",
   "id": "e633b3bc",
   "metadata": {},
   "source": [
    "### 2.3 Обработка пропусков"
   ]
  },
  {
   "cell_type": "code",
   "execution_count": 12,
   "id": "14454b93",
   "metadata": {},
   "outputs": [
    {
     "data": {
      "text/plain": [
       "name                  2\n",
       "platform              0\n",
       "year_of_release     269\n",
       "genre                 2\n",
       "na_sales              0\n",
       "eu_sales              0\n",
       "jp_sales              0\n",
       "other_sales           0\n",
       "critic_score       8578\n",
       "user_score         9125\n",
       "rating             6766\n",
       "dtype: int64"
      ]
     },
     "execution_count": 12,
     "metadata": {},
     "output_type": "execute_result"
    }
   ],
   "source": [
    "data.isna().sum()"
   ]
  },
  {
   "cell_type": "markdown",
   "id": "550e9e2e",
   "metadata": {},
   "source": [
    "Удалим строки с пропусками в столбцах name, genre и year_of_release. Мы можем удалить эти строки, так их нельзя заменить на что-либо + их очень мало. Но сначала посмотрим на строки с пропусками в столбце year_of_release.  "
   ]
  },
  {
   "cell_type": "code",
   "execution_count": 13,
   "id": "96faf145",
   "metadata": {},
   "outputs": [
    {
     "data": {
      "text/html": [
       "<div>\n",
       "<style scoped>\n",
       "    .dataframe tbody tr th:only-of-type {\n",
       "        vertical-align: middle;\n",
       "    }\n",
       "\n",
       "    .dataframe tbody tr th {\n",
       "        vertical-align: top;\n",
       "    }\n",
       "\n",
       "    .dataframe thead th {\n",
       "        text-align: right;\n",
       "    }\n",
       "</style>\n",
       "<table border=\"1\" class=\"dataframe\">\n",
       "  <thead>\n",
       "    <tr style=\"text-align: right;\">\n",
       "      <th></th>\n",
       "      <th>name</th>\n",
       "      <th>platform</th>\n",
       "      <th>year_of_release</th>\n",
       "      <th>genre</th>\n",
       "      <th>na_sales</th>\n",
       "      <th>eu_sales</th>\n",
       "      <th>jp_sales</th>\n",
       "      <th>other_sales</th>\n",
       "      <th>critic_score</th>\n",
       "      <th>user_score</th>\n",
       "      <th>rating</th>\n",
       "    </tr>\n",
       "  </thead>\n",
       "  <tbody>\n",
       "    <tr>\n",
       "      <th>183</th>\n",
       "      <td>Madden NFL 2004</td>\n",
       "      <td>PS2</td>\n",
       "      <td>NaN</td>\n",
       "      <td>Sports</td>\n",
       "      <td>4.26</td>\n",
       "      <td>0.26</td>\n",
       "      <td>0.01</td>\n",
       "      <td>0.71</td>\n",
       "      <td>94.0</td>\n",
       "      <td>8.5</td>\n",
       "      <td>E</td>\n",
       "    </tr>\n",
       "    <tr>\n",
       "      <th>377</th>\n",
       "      <td>FIFA Soccer 2004</td>\n",
       "      <td>PS2</td>\n",
       "      <td>NaN</td>\n",
       "      <td>Sports</td>\n",
       "      <td>0.59</td>\n",
       "      <td>2.36</td>\n",
       "      <td>0.04</td>\n",
       "      <td>0.51</td>\n",
       "      <td>84.0</td>\n",
       "      <td>6.4</td>\n",
       "      <td>E</td>\n",
       "    </tr>\n",
       "    <tr>\n",
       "      <th>456</th>\n",
       "      <td>LEGO Batman: The Videogame</td>\n",
       "      <td>Wii</td>\n",
       "      <td>NaN</td>\n",
       "      <td>Action</td>\n",
       "      <td>1.80</td>\n",
       "      <td>0.97</td>\n",
       "      <td>0.00</td>\n",
       "      <td>0.29</td>\n",
       "      <td>74.0</td>\n",
       "      <td>7.9</td>\n",
       "      <td>E10+</td>\n",
       "    </tr>\n",
       "    <tr>\n",
       "      <th>475</th>\n",
       "      <td>wwe Smackdown vs. Raw 2006</td>\n",
       "      <td>PS2</td>\n",
       "      <td>NaN</td>\n",
       "      <td>Fighting</td>\n",
       "      <td>1.57</td>\n",
       "      <td>1.02</td>\n",
       "      <td>0.00</td>\n",
       "      <td>0.41</td>\n",
       "      <td>NaN</td>\n",
       "      <td>NaN</td>\n",
       "      <td>NaN</td>\n",
       "    </tr>\n",
       "    <tr>\n",
       "      <th>609</th>\n",
       "      <td>Space Invaders</td>\n",
       "      <td>2600</td>\n",
       "      <td>NaN</td>\n",
       "      <td>Shooter</td>\n",
       "      <td>2.36</td>\n",
       "      <td>0.14</td>\n",
       "      <td>0.00</td>\n",
       "      <td>0.03</td>\n",
       "      <td>NaN</td>\n",
       "      <td>NaN</td>\n",
       "      <td>NaN</td>\n",
       "    </tr>\n",
       "    <tr>\n",
       "      <th>627</th>\n",
       "      <td>Rock Band</td>\n",
       "      <td>X360</td>\n",
       "      <td>NaN</td>\n",
       "      <td>Misc</td>\n",
       "      <td>1.93</td>\n",
       "      <td>0.33</td>\n",
       "      <td>0.00</td>\n",
       "      <td>0.21</td>\n",
       "      <td>92.0</td>\n",
       "      <td>8.2</td>\n",
       "      <td>T</td>\n",
       "    </tr>\n",
       "    <tr>\n",
       "      <th>657</th>\n",
       "      <td>Frogger's Adventures: Temple of the Frog</td>\n",
       "      <td>GBA</td>\n",
       "      <td>NaN</td>\n",
       "      <td>Adventure</td>\n",
       "      <td>2.15</td>\n",
       "      <td>0.18</td>\n",
       "      <td>0.00</td>\n",
       "      <td>0.07</td>\n",
       "      <td>73.0</td>\n",
       "      <td>NaN</td>\n",
       "      <td>E</td>\n",
       "    </tr>\n",
       "    <tr>\n",
       "      <th>678</th>\n",
       "      <td>LEGO Indiana Jones: The Original Adventures</td>\n",
       "      <td>Wii</td>\n",
       "      <td>NaN</td>\n",
       "      <td>Action</td>\n",
       "      <td>1.51</td>\n",
       "      <td>0.61</td>\n",
       "      <td>0.00</td>\n",
       "      <td>0.21</td>\n",
       "      <td>78.0</td>\n",
       "      <td>6.6</td>\n",
       "      <td>E10+</td>\n",
       "    </tr>\n",
       "    <tr>\n",
       "      <th>719</th>\n",
       "      <td>Call of Duty 3</td>\n",
       "      <td>Wii</td>\n",
       "      <td>NaN</td>\n",
       "      <td>Shooter</td>\n",
       "      <td>1.17</td>\n",
       "      <td>0.84</td>\n",
       "      <td>0.00</td>\n",
       "      <td>0.23</td>\n",
       "      <td>69.0</td>\n",
       "      <td>6.7</td>\n",
       "      <td>T</td>\n",
       "    </tr>\n",
       "    <tr>\n",
       "      <th>805</th>\n",
       "      <td>Rock Band</td>\n",
       "      <td>Wii</td>\n",
       "      <td>NaN</td>\n",
       "      <td>Misc</td>\n",
       "      <td>1.33</td>\n",
       "      <td>0.56</td>\n",
       "      <td>0.00</td>\n",
       "      <td>0.20</td>\n",
       "      <td>80.0</td>\n",
       "      <td>6.3</td>\n",
       "      <td>T</td>\n",
       "    </tr>\n",
       "    <tr>\n",
       "      <th>1131</th>\n",
       "      <td>Call of Duty: Black Ops</td>\n",
       "      <td>PC</td>\n",
       "      <td>NaN</td>\n",
       "      <td>Shooter</td>\n",
       "      <td>0.58</td>\n",
       "      <td>0.81</td>\n",
       "      <td>0.00</td>\n",
       "      <td>0.23</td>\n",
       "      <td>81.0</td>\n",
       "      <td>5.2</td>\n",
       "      <td>M</td>\n",
       "    </tr>\n",
       "    <tr>\n",
       "      <th>1142</th>\n",
       "      <td>Rock Band</td>\n",
       "      <td>PS3</td>\n",
       "      <td>NaN</td>\n",
       "      <td>Misc</td>\n",
       "      <td>0.99</td>\n",
       "      <td>0.41</td>\n",
       "      <td>0.00</td>\n",
       "      <td>0.22</td>\n",
       "      <td>92.0</td>\n",
       "      <td>8.4</td>\n",
       "      <td>T</td>\n",
       "    </tr>\n",
       "    <tr>\n",
       "      <th>1301</th>\n",
       "      <td>Triple Play 99</td>\n",
       "      <td>PS</td>\n",
       "      <td>NaN</td>\n",
       "      <td>Sports</td>\n",
       "      <td>0.81</td>\n",
       "      <td>0.55</td>\n",
       "      <td>0.00</td>\n",
       "      <td>0.10</td>\n",
       "      <td>NaN</td>\n",
       "      <td>NaN</td>\n",
       "      <td>NaN</td>\n",
       "    </tr>\n",
       "    <tr>\n",
       "      <th>1506</th>\n",
       "      <td>Adventure</td>\n",
       "      <td>2600</td>\n",
       "      <td>NaN</td>\n",
       "      <td>Adventure</td>\n",
       "      <td>1.21</td>\n",
       "      <td>0.08</td>\n",
       "      <td>0.00</td>\n",
       "      <td>0.01</td>\n",
       "      <td>NaN</td>\n",
       "      <td>NaN</td>\n",
       "      <td>NaN</td>\n",
       "    </tr>\n",
       "    <tr>\n",
       "      <th>1538</th>\n",
       "      <td>LEGO Batman: The Videogame</td>\n",
       "      <td>PSP</td>\n",
       "      <td>NaN</td>\n",
       "      <td>Action</td>\n",
       "      <td>0.57</td>\n",
       "      <td>0.44</td>\n",
       "      <td>0.00</td>\n",
       "      <td>0.27</td>\n",
       "      <td>73.0</td>\n",
       "      <td>7.4</td>\n",
       "      <td>E10+</td>\n",
       "    </tr>\n",
       "  </tbody>\n",
       "</table>\n",
       "</div>"
      ],
      "text/plain": [
       "                                             name platform  year_of_release  \\\n",
       "183                               Madden NFL 2004      PS2              NaN   \n",
       "377                              FIFA Soccer 2004      PS2              NaN   \n",
       "456                    LEGO Batman: The Videogame      Wii              NaN   \n",
       "475                    wwe Smackdown vs. Raw 2006      PS2              NaN   \n",
       "609                                Space Invaders     2600              NaN   \n",
       "627                                     Rock Band     X360              NaN   \n",
       "657      Frogger's Adventures: Temple of the Frog      GBA              NaN   \n",
       "678   LEGO Indiana Jones: The Original Adventures      Wii              NaN   \n",
       "719                                Call of Duty 3      Wii              NaN   \n",
       "805                                     Rock Band      Wii              NaN   \n",
       "1131                      Call of Duty: Black Ops       PC              NaN   \n",
       "1142                                    Rock Band      PS3              NaN   \n",
       "1301                               Triple Play 99       PS              NaN   \n",
       "1506                                    Adventure     2600              NaN   \n",
       "1538                   LEGO Batman: The Videogame      PSP              NaN   \n",
       "\n",
       "          genre  na_sales  eu_sales  jp_sales  other_sales  critic_score  \\\n",
       "183      Sports      4.26      0.26      0.01         0.71          94.0   \n",
       "377      Sports      0.59      2.36      0.04         0.51          84.0   \n",
       "456      Action      1.80      0.97      0.00         0.29          74.0   \n",
       "475    Fighting      1.57      1.02      0.00         0.41           NaN   \n",
       "609     Shooter      2.36      0.14      0.00         0.03           NaN   \n",
       "627        Misc      1.93      0.33      0.00         0.21          92.0   \n",
       "657   Adventure      2.15      0.18      0.00         0.07          73.0   \n",
       "678      Action      1.51      0.61      0.00         0.21          78.0   \n",
       "719     Shooter      1.17      0.84      0.00         0.23          69.0   \n",
       "805        Misc      1.33      0.56      0.00         0.20          80.0   \n",
       "1131    Shooter      0.58      0.81      0.00         0.23          81.0   \n",
       "1142       Misc      0.99      0.41      0.00         0.22          92.0   \n",
       "1301     Sports      0.81      0.55      0.00         0.10           NaN   \n",
       "1506  Adventure      1.21      0.08      0.00         0.01           NaN   \n",
       "1538     Action      0.57      0.44      0.00         0.27          73.0   \n",
       "\n",
       "      user_score rating  \n",
       "183          8.5      E  \n",
       "377          6.4      E  \n",
       "456          7.9   E10+  \n",
       "475          NaN    NaN  \n",
       "609          NaN    NaN  \n",
       "627          8.2      T  \n",
       "657          NaN      E  \n",
       "678          6.6   E10+  \n",
       "719          6.7      T  \n",
       "805          6.3      T  \n",
       "1131         5.2      M  \n",
       "1142         8.4      T  \n",
       "1301         NaN    NaN  \n",
       "1506         NaN    NaN  \n",
       "1538         7.4   E10+  "
      ]
     },
     "execution_count": 13,
     "metadata": {},
     "output_type": "execute_result"
    }
   ],
   "source": [
    "data[data['year_of_release'].isna()].head(15)"
   ]
  },
  {
   "cell_type": "markdown",
   "id": "f201cb43",
   "metadata": {},
   "source": [
    "Нууу похоже мы ничего особо не теряем, удаляя эти строки. Так что удалим их со спокойной душой"
   ]
  },
  {
   "cell_type": "code",
   "execution_count": 14,
   "id": "108bf558",
   "metadata": {},
   "outputs": [
    {
     "data": {
      "text/plain": [
       "name                  0\n",
       "platform              0\n",
       "year_of_release       0\n",
       "genre                 0\n",
       "na_sales              0\n",
       "eu_sales              0\n",
       "jp_sales              0\n",
       "other_sales           0\n",
       "critic_score       8461\n",
       "user_score         8981\n",
       "rating             6676\n",
       "dtype: int64"
      ]
     },
     "execution_count": 14,
     "metadata": {},
     "output_type": "execute_result"
    }
   ],
   "source": [
    "data = data.query('not(name.isna())')\n",
    "data = data.query('not(year_of_release.isna())')\n",
    "data = data.query('not(genre.isna())')\n",
    "data.isna().sum()"
   ]
  },
  {
   "cell_type": "markdown",
   "id": "d20df76b",
   "metadata": {},
   "source": [
    "Проверим наш датасет"
   ]
  },
  {
   "cell_type": "code",
   "execution_count": 15,
   "id": "ccc5918a",
   "metadata": {},
   "outputs": [
    {
     "data": {
      "text/plain": [
       "(16444, 11)"
      ]
     },
     "execution_count": 15,
     "metadata": {},
     "output_type": "execute_result"
    }
   ],
   "source": [
    "data.shape"
   ]
  },
  {
   "cell_type": "markdown",
   "id": "5a645526",
   "metadata": {},
   "source": [
    "Всё хорошо"
   ]
  },
  {
   "cell_type": "markdown",
   "id": "f5c3dd2c",
   "metadata": {},
   "source": [
    "### 2.4 Поиск дубликатов"
   ]
  },
  {
   "cell_type": "code",
   "execution_count": 16,
   "id": "23651f53",
   "metadata": {
    "scrolled": false
   },
   "outputs": [],
   "source": [
    "D = dict()\n",
    "name = list(map(lambda x: x.lower(), sorted(data['name'].unique())))\n",
    "for i in name:\n",
    "    D[i] = D.get(i, 0) + 1\n",
    "for key, value in D.items():\n",
    "    if value > 1:\n",
    "        print(key)"
   ]
  },
  {
   "cell_type": "markdown",
   "id": "c6b7324b",
   "metadata": {},
   "source": [
    "Явных дубликатов не обнаружено"
   ]
  },
  {
   "cell_type": "markdown",
   "id": "ba4dfb92",
   "metadata": {},
   "source": [
    "Поиск неявных дубликатов"
   ]
  },
  {
   "cell_type": "code",
   "execution_count": 17,
   "id": "f49a3acd",
   "metadata": {},
   "outputs": [
    {
     "data": {
      "text/html": [
       "<div>\n",
       "<style scoped>\n",
       "    .dataframe tbody tr th:only-of-type {\n",
       "        vertical-align: middle;\n",
       "    }\n",
       "\n",
       "    .dataframe tbody tr th {\n",
       "        vertical-align: top;\n",
       "    }\n",
       "\n",
       "    .dataframe thead th {\n",
       "        text-align: right;\n",
       "    }\n",
       "</style>\n",
       "<table border=\"1\" class=\"dataframe\">\n",
       "  <thead>\n",
       "    <tr style=\"text-align: right;\">\n",
       "      <th></th>\n",
       "      <th>name</th>\n",
       "      <th>platform</th>\n",
       "      <th>year_of_release</th>\n",
       "      <th>genre</th>\n",
       "      <th>na_sales</th>\n",
       "      <th>eu_sales</th>\n",
       "      <th>jp_sales</th>\n",
       "      <th>other_sales</th>\n",
       "      <th>critic_score</th>\n",
       "      <th>user_score</th>\n",
       "      <th>rating</th>\n",
       "    </tr>\n",
       "  </thead>\n",
       "  <tbody>\n",
       "    <tr>\n",
       "      <th>1591</th>\n",
       "      <td>Need for Speed: Most Wanted</td>\n",
       "      <td>X360</td>\n",
       "      <td>2005.0</td>\n",
       "      <td>Racing</td>\n",
       "      <td>1.0</td>\n",
       "      <td>0.13</td>\n",
       "      <td>0.02</td>\n",
       "      <td>0.10</td>\n",
       "      <td>83.0</td>\n",
       "      <td>8.5</td>\n",
       "      <td>T</td>\n",
       "    </tr>\n",
       "    <tr>\n",
       "      <th>11715</th>\n",
       "      <td>Need for Speed: Most Wanted</td>\n",
       "      <td>PC</td>\n",
       "      <td>2012.0</td>\n",
       "      <td>Racing</td>\n",
       "      <td>0.0</td>\n",
       "      <td>0.06</td>\n",
       "      <td>0.00</td>\n",
       "      <td>0.02</td>\n",
       "      <td>82.0</td>\n",
       "      <td>8.5</td>\n",
       "      <td>T</td>\n",
       "    </tr>\n",
       "    <tr>\n",
       "      <th>16230</th>\n",
       "      <td>Madden NFL 13</td>\n",
       "      <td>PS3</td>\n",
       "      <td>2012.0</td>\n",
       "      <td>Sports</td>\n",
       "      <td>0.0</td>\n",
       "      <td>0.01</td>\n",
       "      <td>0.00</td>\n",
       "      <td>0.00</td>\n",
       "      <td>83.0</td>\n",
       "      <td>5.5</td>\n",
       "      <td>E</td>\n",
       "    </tr>\n",
       "  </tbody>\n",
       "</table>\n",
       "</div>"
      ],
      "text/plain": [
       "                              name platform  year_of_release   genre  \\\n",
       "1591   Need for Speed: Most Wanted     X360           2005.0  Racing   \n",
       "11715  Need for Speed: Most Wanted       PC           2012.0  Racing   \n",
       "16230                Madden NFL 13      PS3           2012.0  Sports   \n",
       "\n",
       "       na_sales  eu_sales  jp_sales  other_sales  critic_score  user_score  \\\n",
       "1591        1.0      0.13      0.02         0.10          83.0         8.5   \n",
       "11715       0.0      0.06      0.00         0.02          82.0         8.5   \n",
       "16230       0.0      0.01      0.00         0.00          83.0         5.5   \n",
       "\n",
       "      rating  \n",
       "1591       T  \n",
       "11715      T  \n",
       "16230      E  "
      ]
     },
     "execution_count": 17,
     "metadata": {},
     "output_type": "execute_result"
    }
   ],
   "source": [
    "data[data.duplicated(subset=['name', 'platform'])]"
   ]
  },
  {
   "cell_type": "markdown",
   "id": "bb74b2ae",
   "metadata": {},
   "source": [
    "Всего 3 столбца и у них маленькие продажи. Можем удалять"
   ]
  },
  {
   "cell_type": "code",
   "execution_count": 18,
   "id": "f7d8e8ba",
   "metadata": {},
   "outputs": [],
   "source": [
    "data = data[data.duplicated(subset=['name', 'platform']) == False]"
   ]
  },
  {
   "cell_type": "markdown",
   "id": "9b03e6cf",
   "metadata": {},
   "source": [
    "### 2.5 Добавление столбца \"суммарные продажи во всех регионах\" "
   ]
  },
  {
   "cell_type": "code",
   "execution_count": 19,
   "id": "2a99d346",
   "metadata": {},
   "outputs": [
    {
     "data": {
      "text/html": [
       "<div>\n",
       "<style scoped>\n",
       "    .dataframe tbody tr th:only-of-type {\n",
       "        vertical-align: middle;\n",
       "    }\n",
       "\n",
       "    .dataframe tbody tr th {\n",
       "        vertical-align: top;\n",
       "    }\n",
       "\n",
       "    .dataframe thead th {\n",
       "        text-align: right;\n",
       "    }\n",
       "</style>\n",
       "<table border=\"1\" class=\"dataframe\">\n",
       "  <thead>\n",
       "    <tr style=\"text-align: right;\">\n",
       "      <th></th>\n",
       "      <th>name</th>\n",
       "      <th>platform</th>\n",
       "      <th>year_of_release</th>\n",
       "      <th>genre</th>\n",
       "      <th>na_sales</th>\n",
       "      <th>eu_sales</th>\n",
       "      <th>jp_sales</th>\n",
       "      <th>other_sales</th>\n",
       "      <th>critic_score</th>\n",
       "      <th>user_score</th>\n",
       "      <th>rating</th>\n",
       "      <th>world_sales</th>\n",
       "    </tr>\n",
       "  </thead>\n",
       "  <tbody>\n",
       "    <tr>\n",
       "      <th>0</th>\n",
       "      <td>Wii Sports</td>\n",
       "      <td>Wii</td>\n",
       "      <td>2006.0</td>\n",
       "      <td>Sports</td>\n",
       "      <td>41.36</td>\n",
       "      <td>28.96</td>\n",
       "      <td>3.77</td>\n",
       "      <td>8.45</td>\n",
       "      <td>76.0</td>\n",
       "      <td>8.0</td>\n",
       "      <td>E</td>\n",
       "      <td>82.54</td>\n",
       "    </tr>\n",
       "    <tr>\n",
       "      <th>1</th>\n",
       "      <td>Super Mario Bros.</td>\n",
       "      <td>NES</td>\n",
       "      <td>1985.0</td>\n",
       "      <td>Platform</td>\n",
       "      <td>29.08</td>\n",
       "      <td>3.58</td>\n",
       "      <td>6.81</td>\n",
       "      <td>0.77</td>\n",
       "      <td>NaN</td>\n",
       "      <td>NaN</td>\n",
       "      <td>NaN</td>\n",
       "      <td>40.24</td>\n",
       "    </tr>\n",
       "    <tr>\n",
       "      <th>2</th>\n",
       "      <td>Mario Kart Wii</td>\n",
       "      <td>Wii</td>\n",
       "      <td>2008.0</td>\n",
       "      <td>Racing</td>\n",
       "      <td>15.68</td>\n",
       "      <td>12.76</td>\n",
       "      <td>3.79</td>\n",
       "      <td>3.29</td>\n",
       "      <td>82.0</td>\n",
       "      <td>8.3</td>\n",
       "      <td>E</td>\n",
       "      <td>35.52</td>\n",
       "    </tr>\n",
       "    <tr>\n",
       "      <th>3</th>\n",
       "      <td>Wii Sports Resort</td>\n",
       "      <td>Wii</td>\n",
       "      <td>2009.0</td>\n",
       "      <td>Sports</td>\n",
       "      <td>15.61</td>\n",
       "      <td>10.93</td>\n",
       "      <td>3.28</td>\n",
       "      <td>2.95</td>\n",
       "      <td>80.0</td>\n",
       "      <td>8.0</td>\n",
       "      <td>E</td>\n",
       "      <td>32.77</td>\n",
       "    </tr>\n",
       "    <tr>\n",
       "      <th>4</th>\n",
       "      <td>Pokemon Red/Pokemon Blue</td>\n",
       "      <td>GB</td>\n",
       "      <td>1996.0</td>\n",
       "      <td>Role-Playing</td>\n",
       "      <td>11.27</td>\n",
       "      <td>8.89</td>\n",
       "      <td>10.22</td>\n",
       "      <td>1.00</td>\n",
       "      <td>NaN</td>\n",
       "      <td>NaN</td>\n",
       "      <td>NaN</td>\n",
       "      <td>31.38</td>\n",
       "    </tr>\n",
       "  </tbody>\n",
       "</table>\n",
       "</div>"
      ],
      "text/plain": [
       "                       name platform  year_of_release         genre  na_sales  \\\n",
       "0                Wii Sports      Wii           2006.0        Sports     41.36   \n",
       "1         Super Mario Bros.      NES           1985.0      Platform     29.08   \n",
       "2            Mario Kart Wii      Wii           2008.0        Racing     15.68   \n",
       "3         Wii Sports Resort      Wii           2009.0        Sports     15.61   \n",
       "4  Pokemon Red/Pokemon Blue       GB           1996.0  Role-Playing     11.27   \n",
       "\n",
       "   eu_sales  jp_sales  other_sales  critic_score  user_score rating  \\\n",
       "0     28.96      3.77         8.45          76.0         8.0      E   \n",
       "1      3.58      6.81         0.77           NaN         NaN    NaN   \n",
       "2     12.76      3.79         3.29          82.0         8.3      E   \n",
       "3     10.93      3.28         2.95          80.0         8.0      E   \n",
       "4      8.89     10.22         1.00           NaN         NaN    NaN   \n",
       "\n",
       "   world_sales  \n",
       "0        82.54  \n",
       "1        40.24  \n",
       "2        35.52  \n",
       "3        32.77  \n",
       "4        31.38  "
      ]
     },
     "execution_count": 19,
     "metadata": {},
     "output_type": "execute_result"
    }
   ],
   "source": [
    "data['world_sales'] = data['na_sales'] + data['eu_sales'] + data['jp_sales'] + data['other_sales']\n",
    "data.head()"
   ]
  },
  {
   "cell_type": "markdown",
   "id": "83724149",
   "metadata": {},
   "source": [
    "Подводя итог этого шага. В этом шаге мы почистили данные от дубликатов и от пропусков. Так же мы разобрались с tbd, решив заменять их на np.nan, так как по смылу это строки с играми, для которых оценка не проставлена, пропущена по каким-то причинамю Для удобства мы создали столбец world_sales для дальнейшей работы. Приступим к исследованиям."
   ]
  },
  {
   "cell_type": "markdown",
   "id": "a6c61eeb",
   "metadata": {},
   "source": [
    "## 3 Шаг. Проведение исследовательского анализа данных"
   ]
  },
  {
   "cell_type": "code",
   "execution_count": 20,
   "id": "ba9efd1f",
   "metadata": {},
   "outputs": [
    {
     "data": {
      "image/png": "[encoded data removed]",
      "text/plain": [
       "<Figure size 1500x500 with 1 Axes>"
      ]
     },
     "metadata": {},
     "output_type": "display_data"
    }
   ],
   "source": [
    "(data.groupby('year_of_release')['name'].count()\n",
    "     .plot(grid=True,\n",
    "           xlabel='Год выпуска',\n",
    "           ylabel='Количество игр',\n",
    "           figsize=(15, 5),\n",
    "           style='-o',\n",
    "           title='Расспределение выпуска игр по годам'\n",
    "          )\n",
    ");"
   ]
  },
  {
   "cell_type": "markdown",
   "id": "8e8968b5",
   "metadata": {},
   "source": [
    "Как мы видим, исходя из графика, до 1990 года делали очень мало игр, что неудивительно, так как в то время индустрия только начала развиваться. Пик количесвта созданных игр приходится на 2008 - 2009 год. Для дальнейшего анализа нам потребуются данные начиная с 1993, так как в то время начался рост выпуска игр. Сделаем отдельную переменную с данными с 1993 - 2016 год"
   ]
  },
  {
   "cell_type": "code",
   "execution_count": 21,
   "id": "a8c9ee44",
   "metadata": {},
   "outputs": [
    {
     "name": "stdout",
     "output_type": "stream",
     "text": [
      "<class 'pandas.core.frame.DataFrame'>\n",
      "Int64Index: 1689 entries, 31 to 16714\n",
      "Data columns (total 12 columns):\n",
      " #   Column           Non-Null Count  Dtype  \n",
      "---  ------           --------------  -----  \n",
      " 0   name             1689 non-null   object \n",
      " 1   platform         1689 non-null   object \n",
      " 2   year_of_release  1689 non-null   float64\n",
      " 3   genre            1689 non-null   object \n",
      " 4   na_sales         1689 non-null   float64\n",
      " 5   eu_sales         1689 non-null   float64\n",
      " 6   jp_sales         1689 non-null   float64\n",
      " 7   other_sales      1689 non-null   float64\n",
      " 8   critic_score     718 non-null    float64\n",
      " 9   user_score       888 non-null    float64\n",
      " 10  rating           940 non-null    object \n",
      " 11  world_sales      1689 non-null   float64\n",
      "dtypes: float64(8), object(4)\n",
      "memory usage: 171.5+ KB\n"
     ]
    }
   ],
   "source": [
    "#years = list(range(1993, 2017))\n",
    "years = list(range(2014, 2017))\n",
    "current_period = data.query('year_of_release in @years')\n",
    "current_period.info()"
   ]
  },
  {
   "cell_type": "code",
   "execution_count": 22,
   "id": "144caa1c",
   "metadata": {},
   "outputs": [
    {
     "data": {
      "text/html": [
       "<div>\n",
       "<style scoped>\n",
       "    .dataframe tbody tr th:only-of-type {\n",
       "        vertical-align: middle;\n",
       "    }\n",
       "\n",
       "    .dataframe tbody tr th {\n",
       "        vertical-align: top;\n",
       "    }\n",
       "\n",
       "    .dataframe thead th {\n",
       "        text-align: right;\n",
       "    }\n",
       "</style>\n",
       "<table border=\"1\" class=\"dataframe\">\n",
       "  <thead>\n",
       "    <tr style=\"text-align: right;\">\n",
       "      <th></th>\n",
       "      <th>platform</th>\n",
       "      <th>world_sales</th>\n",
       "    </tr>\n",
       "  </thead>\n",
       "  <tbody>\n",
       "    <tr>\n",
       "      <th>0</th>\n",
       "      <td>PS4</td>\n",
       "      <td>288.15</td>\n",
       "    </tr>\n",
       "    <tr>\n",
       "      <th>1</th>\n",
       "      <td>XOne</td>\n",
       "      <td>140.36</td>\n",
       "    </tr>\n",
       "    <tr>\n",
       "      <th>2</th>\n",
       "      <td>3DS</td>\n",
       "      <td>86.68</td>\n",
       "    </tr>\n",
       "    <tr>\n",
       "      <th>3</th>\n",
       "      <td>PS3</td>\n",
       "      <td>68.18</td>\n",
       "    </tr>\n",
       "    <tr>\n",
       "      <th>4</th>\n",
       "      <td>X360</td>\n",
       "      <td>48.22</td>\n",
       "    </tr>\n",
       "    <tr>\n",
       "      <th>5</th>\n",
       "      <td>WiiU</td>\n",
       "      <td>42.98</td>\n",
       "    </tr>\n",
       "    <tr>\n",
       "      <th>6</th>\n",
       "      <td>PC</td>\n",
       "      <td>27.05</td>\n",
       "    </tr>\n",
       "    <tr>\n",
       "      <th>7</th>\n",
       "      <td>PSV</td>\n",
       "      <td>22.40</td>\n",
       "    </tr>\n",
       "    <tr>\n",
       "      <th>8</th>\n",
       "      <td>Wii</td>\n",
       "      <td>5.07</td>\n",
       "    </tr>\n",
       "    <tr>\n",
       "      <th>9</th>\n",
       "      <td>PSP</td>\n",
       "      <td>0.36</td>\n",
       "    </tr>\n",
       "  </tbody>\n",
       "</table>\n",
       "</div>"
      ],
      "text/plain": [
       "  platform  world_sales\n",
       "0      PS4       288.15\n",
       "1     XOne       140.36\n",
       "2      3DS        86.68\n",
       "3      PS3        68.18\n",
       "4     X360        48.22\n",
       "5     WiiU        42.98\n",
       "6       PC        27.05\n",
       "7      PSV        22.40\n",
       "8      Wii         5.07\n",
       "9      PSP         0.36"
      ]
     },
     "execution_count": 22,
     "metadata": {},
     "output_type": "execute_result"
    }
   ],
   "source": [
    "top_sales = (current_period.pivot_table(values='world_sales',\n",
    "                            index=['platform'],\n",
    "                            aggfunc='sum')\n",
    "               .sort_values('world_sales', ascending=False)\n",
    "               .reset_index()\n",
    ")\n",
    "\n",
    "top_sales.head(10)"
   ]
  },
  {
   "cell_type": "markdown",
   "id": "ee22377e",
   "metadata": {},
   "source": [
    "Возьмём первые 10 платформ с наибольшими суммарными продажами и построим распределение по годам."
   ]
  },
  {
   "cell_type": "code",
   "execution_count": 23,
   "id": "e46dd33d",
   "metadata": {},
   "outputs": [
    {
     "data": {
      "image/png": "[encoded data removed]",
      "text/plain": [
       "<Figure size 1500x1000 with 1 Axes>"
      ]
     },
     "metadata": {},
     "output_type": "display_data"
    }
   ],
   "source": [
    "a = list(top_sales['platform'][:10])\n",
    "for i in top_sales['platform'][:10]:\n",
    "    (current_period.query('platform == @i')\n",
    "                   .groupby('year_of_release')['world_sales'].sum()\n",
    "                   .plot(x='year_of_release',\n",
    "                         y='world_sales',\n",
    "                         grid=True,\n",
    "                         xlabel='Год выпуска',\n",
    "                         ylabel='Суммарные продажи',\n",
    "                         figsize=(15, 10),\n",
    "                         style='-o',\n",
    "                        )\n",
    "    )\n",
    "    plt.legend(a)\n"
   ]
  },
  {
   "cell_type": "markdown",
   "id": "a2056a5c",
   "metadata": {},
   "source": [
    "По этому %старому% графику видно, что в среднем среди топ 10 по заработкам платформ, платформы 4-5 лет увеличивают свою прибль, а после она идёт на спад. Также из графика можно увидеть, что платформы живут в среднем около 10 лет, после чего покидают рынок.\n",
    "\n",
    "Теперь найдём потенциально прибыльные платформы. Для их поиска возьмём платформы которые появились в 2014 - 2015 и их прибыль растёт"
   ]
  },
  {
   "cell_type": "code",
   "execution_count": 24,
   "id": "820f419e",
   "metadata": {},
   "outputs": [],
   "source": [
    "#top_sales_nowadays = (current_period.query('year_of_release >= 2014')\n",
    "#                                    .pivot_table(values='world_sales',\n",
    "#                                                 index=['platform'],\n",
    "#                                                 aggfunc='sum')\n",
    "#                                    .sort_values('world_sales', ascending=False)\n",
    "#                                    .reset_index()\n",
    "#)\n",
    "#\n",
    "#top_sales_nowadays.shape"
   ]
  },
  {
   "cell_type": "code",
   "execution_count": 25,
   "id": "ffcf9a4e",
   "metadata": {},
   "outputs": [],
   "source": [
    "#a = list(top_sales_nowadays['platform'])\n",
    "#for i in top_sales_nowadays['platform']:\n",
    "#    (current_period.query('platform == @i')\n",
    "#                   .groupby('year_of_release')['world_sales'].sum()\n",
    "#                   .plot(x='year_of_release',\n",
    "#                         y='world_sales',\n",
    "#                         grid=True,\n",
    "#                         xlabel='Год выпуска',\n",
    "#                         ylabel='Суммарные продажи',\n",
    "#                         figsize=(15, 10),\n",
    "#                         style='-o',\n",
    "#                        )\n",
    "#    )\n",
    "#    plt.legend(a)\n",
    "#    plt.axis([2012, 2017,0, 120])"
   ]
  },
  {
   "cell_type": "markdown",
   "id": "fa7353fc",
   "metadata": {},
   "source": [
    "Получается лишнее"
   ]
  },
  {
   "cell_type": "markdown",
   "id": "e86d9b20",
   "metadata": {},
   "source": [
    "Выбор не велик... По 2016 не стоит делать выводы, так как мы не знаем в какой момент закончили делать записи. \n",
    "\n",
    "У XOne и PS4 явно растут продажи, у всех остальных продажи падают. XOne и PS4 потенциально прибыльные платформы, так как они создались не так давно(всего 3 года назад) + их прибыль растёт.\n",
    "\n",
    "Построим график «ящик с усами» по глобальным продажам игр в разбивке по платформам. "
   ]
  },
  {
   "cell_type": "code",
   "execution_count": 26,
   "id": "aa94f829",
   "metadata": {},
   "outputs": [
    {
     "data": {
      "image/png": "[encoded data removed]",
      "text/plain": [
       "<Figure size 1500x500 with 1 Axes>"
      ]
     },
     "metadata": {},
     "output_type": "display_data"
    }
   ],
   "source": [
    "current_period.boxplot(column='world_sales',\n",
    "                       by='platform',\n",
    "                       figsize=(15,5),\n",
    "                       xlabel='Платформы',\n",
    "                       ylabel='Глобальным продажам');"
   ]
  },
  {
   "cell_type": "markdown",
   "id": "3cd2aef4",
   "metadata": {},
   "source": [
    "Из-за одного выброса сложно анализировать данный график. Развернём его."
   ]
  },
  {
   "cell_type": "code",
   "execution_count": 28,
   "id": "06d56f14",
   "metadata": {},
   "outputs": [
    {
     "data": {
      "image/png": "[encoded data removed]",
      "text/plain": [
       "<Figure size 1500x1000 with 1 Axes>"
      ]
     },
     "metadata": {},
     "output_type": "display_data"
    }
   ],
   "source": [
    "current_period.boxplot(column='world_sales',\n",
    "                       by='platform',\n",
    "                       figsize=(15,10),\n",
    "                       ylabel='Платформы',\n",
    "                       xlabel='Глобальным продажам',\n",
    "                       vert=False);"
   ]
  },
  {
   "cell_type": "code",
   "execution_count": 30,
   "id": "c95ef374",
   "metadata": {},
   "outputs": [
    {
     "data": {
      "image/png": "[encoded data removed]",
      "text/plain": [
       "<Figure size 2000x1000 with 1 Axes>"
      ]
     },
     "metadata": {},
     "output_type": "display_data"
    }
   ],
   "source": [
    "current_period.boxplot(column='world_sales',\n",
    "                       by='platform',\n",
    "                       figsize=(20,10),\n",
    "                       ylabel='Платформы',\n",
    "                       xlabel='Глобальным продажам',\n",
    "                       vert=False);"
   ]
  },
  {
   "cell_type": "code",
   "execution_count": 31,
   "id": "5d35b832",
   "metadata": {},
   "outputs": [
    {
     "data": {
      "image/png": "[encoded data removed]",
      "text/plain": [
       "<Figure size 2000x1000 with 1 Axes>"
      ]
     },
     "metadata": {},
     "output_type": "display_data"
    }
   ],
   "source": [
    "current_period.boxplot(column='world_sales',\n",
    "                       by='platform',\n",
    "                       figsize=(20,10),\n",
    "                       ylabel='Платформы',\n",
    "                       xlabel='Глобальным продажам',\n",
    "                       vert=False)\n",
    "plt.xlim(0, 2);"
   ]
  },
  {
   "cell_type": "markdown",
   "id": "3ffbf181",
   "metadata": {},
   "source": [
    "Судя по этому графику, можно сделать вывод, что у большинства платформ есть игры, которые очень зашли аудитории, но при этом большенство игр продаются относительно мало. %Так же стоит обратить внимание на платформу Wii у неё 7 проектов продали больше 20 млн копий.%\n",
    "\n",
    "\n",
    "Посмотрим, как влияют на продажи внутри одной популярной платформы отзывы пользователей и критиков. Построим диаграмму рассеяния и посчитайте корреляцию между отзывами и продажами. Возьмем приставку PS4."
   ]
  },
  {
   "cell_type": "code",
   "execution_count": 32,
   "id": "44e6ef87",
   "metadata": {},
   "outputs": [
    {
     "name": "stdout",
     "output_type": "stream",
     "text": [
      "              critic_score  world_sales\n",
      "critic_score      1.000000     0.402661\n",
      "world_sales       0.402661     1.000000\n"
     ]
    },
    {
     "data": {
      "image/png": "[encoded data removed]",
      "text/plain": [
       "<Figure size 1000x500 with 1 Axes>"
      ]
     },
     "metadata": {},
     "output_type": "display_data"
    }
   ],
   "source": [
    "(current_period.query('platform == \"PS4\"')\n",
    "               .plot(kind='scatter',\n",
    "                     x='critic_score',\n",
    "                     y='world_sales',\n",
    "                     xlabel='Оценки критиков',\n",
    "                     ylabel='Продажи',\n",
    "                     figsize=(10,5),\n",
    "                     title='PS4')\n",
    ");\n",
    "print(current_period.query('platform == \"PS4\"')[['critic_score', 'world_sales']].corr())"
   ]
  },
  {
   "cell_type": "markdown",
   "id": "bbe9f0ac",
   "metadata": {},
   "source": [
    "И так мы видим, что в случае с PS4 зависимость продаж от оценки критиков присутствует хоть и не так ярко выраженно. График это доказывает."
   ]
  },
  {
   "cell_type": "code",
   "execution_count": 33,
   "id": "c589c19e",
   "metadata": {},
   "outputs": [
    {
     "name": "stdout",
     "output_type": "stream",
     "text": [
      "             user_score  world_sales\n",
      "user_score     1.000000    -0.040132\n",
      "world_sales   -0.040132     1.000000\n"
     ]
    },
    {
     "data": {
      "image/png": "[encoded data removed]",
      "text/plain": [
       "<Figure size 1000x500 with 1 Axes>"
      ]
     },
     "metadata": {},
     "output_type": "display_data"
    }
   ],
   "source": [
    "(current_period.query('platform == \"PS4\"')\n",
    "               .plot(kind='scatter',\n",
    "                     x='user_score',\n",
    "                     y='world_sales',\n",
    "                     xlabel='Оценки пользователей',\n",
    "                     ylabel='Продажи',\n",
    "                     figsize=(10,5),\n",
    "                     title='PS4')\n",
    ");\n",
    "print(current_period.query('platform == \"PS4\"')[['user_score', 'world_sales']].corr())"
   ]
  },
  {
   "cell_type": "markdown",
   "id": "37b1e2c8",
   "metadata": {},
   "source": [
    "А вот с оценками пользователей скоре можно сказать, что зависимость не обнаружена.\n",
    "\n",
    "Проверим ещё на одной платформе"
   ]
  },
  {
   "cell_type": "code",
   "execution_count": 34,
   "id": "83c53051",
   "metadata": {},
   "outputs": [
    {
     "name": "stdout",
     "output_type": "stream",
     "text": [
      "              critic_score  world_sales\n",
      "critic_score      1.000000     0.428677\n",
      "world_sales       0.428677     1.000000\n"
     ]
    },
    {
     "data": {
      "image/png": "[encoded data removed]",
      "text/plain": [
       "<Figure size 1000x500 with 1 Axes>"
      ]
     },
     "metadata": {},
     "output_type": "display_data"
    }
   ],
   "source": [
    "(current_period.query('platform == \"XOne\"')\n",
    "               .plot(kind='scatter',\n",
    "                     x='critic_score',\n",
    "                     y='world_sales',\n",
    "                     xlabel='Оценки критиков',\n",
    "                     ylabel='Продажи',\n",
    "                     figsize=(10,5),\n",
    "                     title='XOne')\n",
    ");\n",
    "print(current_period.query('platform == \"XOne\"')[['critic_score', 'world_sales']].corr())"
   ]
  },
  {
   "cell_type": "code",
   "execution_count": 35,
   "id": "f3452585",
   "metadata": {},
   "outputs": [
    {
     "name": "stdout",
     "output_type": "stream",
     "text": [
      "             user_score  world_sales\n",
      "user_score     1.000000    -0.138445\n",
      "world_sales   -0.138445     1.000000\n"
     ]
    },
    {
     "data": {
      "image/png": "[encoded data removed]",
      "text/plain": [
       "<Figure size 1000x500 with 1 Axes>"
      ]
     },
     "metadata": {},
     "output_type": "display_data"
    }
   ],
   "source": [
    "(current_period.query('platform == \"X360\"')\n",
    "               .plot(kind='scatter',\n",
    "                     x='user_score',\n",
    "                     y='world_sales',\n",
    "                     xlabel='Оценки пользователей',\n",
    "                     ylabel='Продажи',\n",
    "                     figsize=(10,5),\n",
    "                     title='X360')\n",
    ");\n",
    "print(current_period.query('platform == \"X360\"')[['user_score', 'world_sales']].corr())"
   ]
  },
  {
   "cell_type": "markdown",
   "id": "a45b4ed4",
   "metadata": {},
   "source": [
    "Дополнительные 2 графика показали что связь +/- такая же как и с PS4.\n",
    "\n",
    "Посмотрим на общее распределение игр по жанрам. "
   ]
  },
  {
   "cell_type": "code",
   "execution_count": 36,
   "id": "f0ddb5bc",
   "metadata": {},
   "outputs": [
    {
     "data": {
      "text/html": [
       "<div>\n",
       "<style scoped>\n",
       "    .dataframe tbody tr th:only-of-type {\n",
       "        vertical-align: middle;\n",
       "    }\n",
       "\n",
       "    .dataframe tbody tr th {\n",
       "        vertical-align: top;\n",
       "    }\n",
       "\n",
       "    .dataframe thead th {\n",
       "        text-align: right;\n",
       "    }\n",
       "</style>\n",
       "<table border=\"1\" class=\"dataframe\">\n",
       "  <thead>\n",
       "    <tr style=\"text-align: right;\">\n",
       "      <th></th>\n",
       "      <th>median</th>\n",
       "      <th>count</th>\n",
       "    </tr>\n",
       "    <tr>\n",
       "      <th>genre</th>\n",
       "      <th></th>\n",
       "      <th></th>\n",
       "    </tr>\n",
       "  </thead>\n",
       "  <tbody>\n",
       "    <tr>\n",
       "      <th>Shooter</th>\n",
       "      <td>0.515</td>\n",
       "      <td>128</td>\n",
       "    </tr>\n",
       "    <tr>\n",
       "      <th>Sports</th>\n",
       "      <td>0.180</td>\n",
       "      <td>161</td>\n",
       "    </tr>\n",
       "    <tr>\n",
       "      <th>Platform</th>\n",
       "      <td>0.140</td>\n",
       "      <td>38</td>\n",
       "    </tr>\n",
       "    <tr>\n",
       "      <th>Fighting</th>\n",
       "      <td>0.125</td>\n",
       "      <td>60</td>\n",
       "    </tr>\n",
       "    <tr>\n",
       "      <th>Role-Playing</th>\n",
       "      <td>0.110</td>\n",
       "      <td>221</td>\n",
       "    </tr>\n",
       "    <tr>\n",
       "      <th>Simulation</th>\n",
       "      <td>0.100</td>\n",
       "      <td>44</td>\n",
       "    </tr>\n",
       "    <tr>\n",
       "      <th>Action</th>\n",
       "      <td>0.090</td>\n",
       "      <td>619</td>\n",
       "    </tr>\n",
       "    <tr>\n",
       "      <th>Misc</th>\n",
       "      <td>0.090</td>\n",
       "      <td>113</td>\n",
       "    </tr>\n",
       "    <tr>\n",
       "      <th>Racing</th>\n",
       "      <td>0.090</td>\n",
       "      <td>69</td>\n",
       "    </tr>\n",
       "    <tr>\n",
       "      <th>Strategy</th>\n",
       "      <td>0.060</td>\n",
       "      <td>37</td>\n",
       "    </tr>\n",
       "    <tr>\n",
       "      <th>Puzzle</th>\n",
       "      <td>0.045</td>\n",
       "      <td>14</td>\n",
       "    </tr>\n",
       "    <tr>\n",
       "      <th>Adventure</th>\n",
       "      <td>0.030</td>\n",
       "      <td>185</td>\n",
       "    </tr>\n",
       "  </tbody>\n",
       "</table>\n",
       "</div>"
      ],
      "text/plain": [
       "              median  count\n",
       "genre                      \n",
       "Shooter        0.515    128\n",
       "Sports         0.180    161\n",
       "Platform       0.140     38\n",
       "Fighting       0.125     60\n",
       "Role-Playing   0.110    221\n",
       "Simulation     0.100     44\n",
       "Action         0.090    619\n",
       "Misc           0.090    113\n",
       "Racing         0.090     69\n",
       "Strategy       0.060     37\n",
       "Puzzle         0.045     14\n",
       "Adventure      0.030    185"
      ]
     },
     "execution_count": 36,
     "metadata": {},
     "output_type": "execute_result"
    }
   ],
   "source": [
    "pt_genre = current_period.pivot_table(values='world_sales', index='genre', aggfunc=['median', 'count'])\n",
    "pt_genre.columns = ['median', 'count']\n",
    "pt_genre.sort_values('median', ascending=False)\n"
   ]
  },
  {
   "cell_type": "markdown",
   "id": "4a6631f6",
   "metadata": {},
   "source": [
    "Из всех жанров явно выделяется жанр \"Shooter\", также неплохие продажи показали жанры \"Sports\", \"Platform\". А вот \"Adventure\", \"Puzzle\" и \"Strategy\" явно не пользуются популярностью."
   ]
  },
  {
   "cell_type": "markdown",
   "id": "6c9c1670",
   "metadata": {},
   "source": [
    "## Шаг 4.  Составление портрета пользователя каждого региона"
   ]
  },
  {
   "cell_type": "markdown",
   "id": "0c8ec1ed",
   "metadata": {},
   "source": [
    "### 4.1 NA"
   ]
  },
  {
   "cell_type": "code",
   "execution_count": 37,
   "id": "7db08d34",
   "metadata": {},
   "outputs": [
    {
     "name": "stderr",
     "output_type": "stream",
     "text": [
      "C:\\Users\\Админ\\AppData\\Local\\Temp\\ipykernel_15944\\1017843610.py:2: SettingWithCopyWarning: \n",
      "A value is trying to be set on a copy of a slice from a DataFrame.\n",
      "Try using .loc[row_indexer,col_indexer] = value instead\n",
      "\n",
      "See the caveats in the documentation: https://pandas.pydata.org/pandas-docs/stable/user_guide/indexing.html#returning-a-view-versus-a-copy\n",
      "  current_period.loc[:, 'share_of_na'] = current_period['na_sales'] / s_na * 100\n"
     ]
    },
    {
     "data": {
      "text/html": [
       "<div>\n",
       "<style scoped>\n",
       "    .dataframe tbody tr th:only-of-type {\n",
       "        vertical-align: middle;\n",
       "    }\n",
       "\n",
       "    .dataframe tbody tr th {\n",
       "        vertical-align: top;\n",
       "    }\n",
       "\n",
       "    .dataframe thead th {\n",
       "        text-align: right;\n",
       "    }\n",
       "</style>\n",
       "<table border=\"1\" class=\"dataframe\">\n",
       "  <thead>\n",
       "    <tr style=\"text-align: right;\">\n",
       "      <th></th>\n",
       "      <th>share_of_na</th>\n",
       "    </tr>\n",
       "    <tr>\n",
       "      <th>platform</th>\n",
       "      <th></th>\n",
       "    </tr>\n",
       "  </thead>\n",
       "  <tbody>\n",
       "    <tr>\n",
       "      <th>PS4</th>\n",
       "      <td>34.714497</td>\n",
       "    </tr>\n",
       "    <tr>\n",
       "      <th>XOne</th>\n",
       "      <td>28.610153</td>\n",
       "    </tr>\n",
       "    <tr>\n",
       "      <th>X360</th>\n",
       "      <td>9.962684</td>\n",
       "    </tr>\n",
       "    <tr>\n",
       "      <th>3DS</th>\n",
       "      <td>7.970147</td>\n",
       "    </tr>\n",
       "    <tr>\n",
       "      <th>PS3</th>\n",
       "      <td>7.762445</td>\n",
       "    </tr>\n",
       "  </tbody>\n",
       "</table>\n",
       "</div>"
      ],
      "text/plain": [
       "          share_of_na\n",
       "platform             \n",
       "PS4         34.714497\n",
       "XOne        28.610153\n",
       "X360         9.962684\n",
       "3DS          7.970147\n",
       "PS3          7.762445"
      ]
     },
     "execution_count": 37,
     "metadata": {},
     "output_type": "execute_result"
    }
   ],
   "source": [
    "s_na = current_period['na_sales'].sum()\n",
    "current_period.loc[:, 'share_of_na'] = current_period['na_sales'] / s_na * 100\n",
    "\n",
    "(current_period.pivot_table(values='share_of_na', index='platform', aggfunc='sum')\n",
    "               .sort_values('share_of_na', ascending=False)\n",
    "               .head(5)\n",
    ")"
   ]
  },
  {
   "cell_type": "markdown",
   "id": "3c69e3a2",
   "metadata": {},
   "source": [
    "Топ 5 платформ в Северной америки и их доля продаж."
   ]
  },
  {
   "cell_type": "code",
   "execution_count": 38,
   "id": "7c45c752",
   "metadata": {},
   "outputs": [
    {
     "data": {
      "text/html": [
       "<div>\n",
       "<style scoped>\n",
       "    .dataframe tbody tr th:only-of-type {\n",
       "        vertical-align: middle;\n",
       "    }\n",
       "\n",
       "    .dataframe tbody tr th {\n",
       "        vertical-align: top;\n",
       "    }\n",
       "\n",
       "    .dataframe thead th {\n",
       "        text-align: right;\n",
       "    }\n",
       "</style>\n",
       "<table border=\"1\" class=\"dataframe\">\n",
       "  <thead>\n",
       "    <tr style=\"text-align: right;\">\n",
       "      <th></th>\n",
       "      <th>na_sales</th>\n",
       "    </tr>\n",
       "    <tr>\n",
       "      <th>genre</th>\n",
       "      <th></th>\n",
       "    </tr>\n",
       "  </thead>\n",
       "  <tbody>\n",
       "    <tr>\n",
       "      <th>Shooter</th>\n",
       "      <td>0.220</td>\n",
       "    </tr>\n",
       "    <tr>\n",
       "      <th>Platform</th>\n",
       "      <td>0.075</td>\n",
       "    </tr>\n",
       "    <tr>\n",
       "      <th>Sports</th>\n",
       "      <td>0.070</td>\n",
       "    </tr>\n",
       "    <tr>\n",
       "      <th>Fighting</th>\n",
       "      <td>0.040</td>\n",
       "    </tr>\n",
       "    <tr>\n",
       "      <th>Racing</th>\n",
       "      <td>0.030</td>\n",
       "    </tr>\n",
       "    <tr>\n",
       "      <th>Role-Playing</th>\n",
       "      <td>0.020</td>\n",
       "    </tr>\n",
       "    <tr>\n",
       "      <th>Action</th>\n",
       "      <td>0.010</td>\n",
       "    </tr>\n",
       "    <tr>\n",
       "      <th>Misc</th>\n",
       "      <td>0.010</td>\n",
       "    </tr>\n",
       "    <tr>\n",
       "      <th>Adventure</th>\n",
       "      <td>0.000</td>\n",
       "    </tr>\n",
       "    <tr>\n",
       "      <th>Puzzle</th>\n",
       "      <td>0.000</td>\n",
       "    </tr>\n",
       "    <tr>\n",
       "      <th>Simulation</th>\n",
       "      <td>0.000</td>\n",
       "    </tr>\n",
       "    <tr>\n",
       "      <th>Strategy</th>\n",
       "      <td>0.000</td>\n",
       "    </tr>\n",
       "  </tbody>\n",
       "</table>\n",
       "</div>"
      ],
      "text/plain": [
       "              na_sales\n",
       "genre                 \n",
       "Shooter          0.220\n",
       "Platform         0.075\n",
       "Sports           0.070\n",
       "Fighting         0.040\n",
       "Racing           0.030\n",
       "Role-Playing     0.020\n",
       "Action           0.010\n",
       "Misc             0.010\n",
       "Adventure        0.000\n",
       "Puzzle           0.000\n",
       "Simulation       0.000\n",
       "Strategy         0.000"
      ]
     },
     "execution_count": 38,
     "metadata": {},
     "output_type": "execute_result"
    }
   ],
   "source": [
    "(current_period.pivot_table(values='na_sales', index='genre', aggfunc='median')\n",
    "               .sort_values('na_sales', ascending=False)\n",
    ")"
   ]
  },
  {
   "cell_type": "markdown",
   "id": "143b5c17",
   "metadata": {},
   "source": [
    "В Северной Америке явно любят жанры платформеры, спорт и шутеры. А вот приключения, пазлы и стратегии явно не популярны."
   ]
  },
  {
   "cell_type": "code",
   "execution_count": 39,
   "id": "42b65f1e",
   "metadata": {},
   "outputs": [
    {
     "data": {
      "text/html": [
       "<div>\n",
       "<style scoped>\n",
       "    .dataframe tbody tr th:only-of-type {\n",
       "        vertical-align: middle;\n",
       "    }\n",
       "\n",
       "    .dataframe tbody tr th {\n",
       "        vertical-align: top;\n",
       "    }\n",
       "\n",
       "    .dataframe thead th {\n",
       "        text-align: right;\n",
       "    }\n",
       "</style>\n",
       "<table border=\"1\" class=\"dataframe\">\n",
       "  <thead>\n",
       "    <tr style=\"text-align: right;\">\n",
       "      <th></th>\n",
       "      <th>na_sales</th>\n",
       "    </tr>\n",
       "    <tr>\n",
       "      <th>rating</th>\n",
       "      <th></th>\n",
       "    </tr>\n",
       "  </thead>\n",
       "  <tbody>\n",
       "    <tr>\n",
       "      <th>M</th>\n",
       "      <td>0.12</td>\n",
       "    </tr>\n",
       "    <tr>\n",
       "      <th>E10+</th>\n",
       "      <td>0.10</td>\n",
       "    </tr>\n",
       "    <tr>\n",
       "      <th>E</th>\n",
       "      <td>0.05</td>\n",
       "    </tr>\n",
       "    <tr>\n",
       "      <th>T</th>\n",
       "      <td>0.03</td>\n",
       "    </tr>\n",
       "  </tbody>\n",
       "</table>\n",
       "</div>"
      ],
      "text/plain": [
       "        na_sales\n",
       "rating          \n",
       "M           0.12\n",
       "E10+        0.10\n",
       "E           0.05\n",
       "T           0.03"
      ]
     },
     "execution_count": 39,
     "metadata": {},
     "output_type": "execute_result"
    }
   ],
   "source": [
    "p_table = current_period.pivot_table(index='rating', values='na_sales', aggfunc='median', dropna=False)\n",
    "\n",
    "# p_table.columns = ['sum', 'count']\n",
    "p_table.sort_values('na_sales', ascending=False)"
   ]
  },
  {
   "cell_type": "code",
   "execution_count": 40,
   "id": "9872a19b",
   "metadata": {},
   "outputs": [
    {
     "name": "stdout",
     "output_type": "stream",
     "text": [
      "749\n"
     ]
    },
    {
     "data": {
      "text/plain": [
       "0.0"
      ]
     },
     "execution_count": 40,
     "metadata": {},
     "output_type": "execute_result"
    }
   ],
   "source": [
    "print(current_period.query('rating.isna()')['na_sales'].count())\n",
    "current_period.query('rating.isna()')['na_sales'].median()"
   ]
  },
  {
   "cell_type": "markdown",
   "id": "04e6f256",
   "metadata": {},
   "source": [
    "Для начала выпишем расшифровки рейтинга из википедии.\n",
    "\n",
    "* «E» («Everyone») — «Для всех»\n",
    "\n",
    "* «T» («Teen») — «Подросткам»\n",
    "\n",
    "* «M» («Mature») — «Для взрослых»\n",
    "\n",
    "* «E10+» («Everyone 10 and older») — «Для всех от 10 лет и старше»\n",
    "\n",
    "* \"K-A\" (\"Kids to Adults\") - тоже самое что и «E»\n",
    "\n",
    "* «AO» («Adults Only 18+») — «Только для взрослых»\n",
    "\n",
    "* «EC» («Early childhood») — «Для детей младшего возраста»\n",
    "\n",
    "* «RP» («Rating Pending») — «Рейтинг ожидается»\n",
    "\n",
    "И так у нас явно выделяются 4 обозначения E, T, M, E10+. В NA лучше всех показывают себя игры для взрослых"
   ]
  },
  {
   "cell_type": "markdown",
   "id": "6b7b00e6",
   "metadata": {},
   "source": [
    "### 4.2 EU"
   ]
  },
  {
   "cell_type": "code",
   "execution_count": 41,
   "id": "09f12504",
   "metadata": {},
   "outputs": [
    {
     "name": "stderr",
     "output_type": "stream",
     "text": [
      "C:\\Users\\Админ\\AppData\\Local\\Temp\\ipykernel_15944\\2668229868.py:2: SettingWithCopyWarning: \n",
      "A value is trying to be set on a copy of a slice from a DataFrame.\n",
      "Try using .loc[row_indexer,col_indexer] = value instead\n",
      "\n",
      "See the caveats in the documentation: https://pandas.pydata.org/pandas-docs/stable/user_guide/indexing.html#returning-a-view-versus-a-copy\n",
      "  current_period.loc[:, 'share_of_eu'] = current_period['eu_sales'] / s_na * 100\n"
     ]
    },
    {
     "data": {
      "text/html": [
       "<div>\n",
       "<style scoped>\n",
       "    .dataframe tbody tr th:only-of-type {\n",
       "        vertical-align: middle;\n",
       "    }\n",
       "\n",
       "    .dataframe tbody tr th {\n",
       "        vertical-align: top;\n",
       "    }\n",
       "\n",
       "    .dataframe thead th {\n",
       "        text-align: right;\n",
       "    }\n",
       "</style>\n",
       "<table border=\"1\" class=\"dataframe\">\n",
       "  <thead>\n",
       "    <tr style=\"text-align: right;\">\n",
       "      <th></th>\n",
       "      <th>share_of_eu</th>\n",
       "    </tr>\n",
       "    <tr>\n",
       "      <th>platform</th>\n",
       "      <th></th>\n",
       "    </tr>\n",
       "  </thead>\n",
       "  <tbody>\n",
       "    <tr>\n",
       "      <th>PS4</th>\n",
       "      <td>48.041968</td>\n",
       "    </tr>\n",
       "    <tr>\n",
       "      <th>XOne</th>\n",
       "      <td>17.086597</td>\n",
       "    </tr>\n",
       "    <tr>\n",
       "      <th>PS3</th>\n",
       "      <td>9.435496</td>\n",
       "    </tr>\n",
       "    <tr>\n",
       "      <th>PC</th>\n",
       "      <td>6.638836</td>\n",
       "    </tr>\n",
       "    <tr>\n",
       "      <th>3DS</th>\n",
       "      <td>5.955372</td>\n",
       "    </tr>\n",
       "  </tbody>\n",
       "</table>\n",
       "</div>"
      ],
      "text/plain": [
       "          share_of_eu\n",
       "platform             \n",
       "PS4         48.041968\n",
       "XOne        17.086597\n",
       "PS3          9.435496\n",
       "PC           6.638836\n",
       "3DS          5.955372"
      ]
     },
     "execution_count": 41,
     "metadata": {},
     "output_type": "execute_result"
    }
   ],
   "source": [
    "s_na = current_period['eu_sales'].sum()\n",
    "current_period.loc[:, 'share_of_eu'] = current_period['eu_sales'] / s_na * 100\n",
    "\n",
    "(current_period.pivot_table(values='share_of_eu', index='platform', aggfunc='sum')\n",
    "               .sort_values('share_of_eu', ascending=False)\n",
    "               .head(5)\n",
    ")"
   ]
  },
  {
   "cell_type": "markdown",
   "id": "52f1c8c3",
   "metadata": {},
   "source": [
    "Топ 5 платформ в Европе и их доля продаж."
   ]
  },
  {
   "cell_type": "code",
   "execution_count": 42,
   "id": "22de2808",
   "metadata": {},
   "outputs": [
    {
     "data": {
      "text/html": [
       "<div>\n",
       "<style scoped>\n",
       "    .dataframe tbody tr th:only-of-type {\n",
       "        vertical-align: middle;\n",
       "    }\n",
       "\n",
       "    .dataframe tbody tr th {\n",
       "        vertical-align: top;\n",
       "    }\n",
       "\n",
       "    .dataframe thead th {\n",
       "        text-align: right;\n",
       "    }\n",
       "</style>\n",
       "<table border=\"1\" class=\"dataframe\">\n",
       "  <thead>\n",
       "    <tr style=\"text-align: right;\">\n",
       "      <th></th>\n",
       "      <th>eu_sales</th>\n",
       "    </tr>\n",
       "    <tr>\n",
       "      <th>genre</th>\n",
       "      <th></th>\n",
       "    </tr>\n",
       "  </thead>\n",
       "  <tbody>\n",
       "    <tr>\n",
       "      <th>Shooter</th>\n",
       "      <td>0.220</td>\n",
       "    </tr>\n",
       "    <tr>\n",
       "      <th>Platform</th>\n",
       "      <td>0.055</td>\n",
       "    </tr>\n",
       "    <tr>\n",
       "      <th>Racing</th>\n",
       "      <td>0.050</td>\n",
       "    </tr>\n",
       "    <tr>\n",
       "      <th>Sports</th>\n",
       "      <td>0.050</td>\n",
       "    </tr>\n",
       "    <tr>\n",
       "      <th>Simulation</th>\n",
       "      <td>0.030</td>\n",
       "    </tr>\n",
       "    <tr>\n",
       "      <th>Action</th>\n",
       "      <td>0.020</td>\n",
       "    </tr>\n",
       "    <tr>\n",
       "      <th>Fighting</th>\n",
       "      <td>0.020</td>\n",
       "    </tr>\n",
       "    <tr>\n",
       "      <th>Misc</th>\n",
       "      <td>0.010</td>\n",
       "    </tr>\n",
       "    <tr>\n",
       "      <th>Role-Playing</th>\n",
       "      <td>0.010</td>\n",
       "    </tr>\n",
       "    <tr>\n",
       "      <th>Strategy</th>\n",
       "      <td>0.010</td>\n",
       "    </tr>\n",
       "    <tr>\n",
       "      <th>Adventure</th>\n",
       "      <td>0.000</td>\n",
       "    </tr>\n",
       "    <tr>\n",
       "      <th>Puzzle</th>\n",
       "      <td>0.000</td>\n",
       "    </tr>\n",
       "  </tbody>\n",
       "</table>\n",
       "</div>"
      ],
      "text/plain": [
       "              eu_sales\n",
       "genre                 \n",
       "Shooter          0.220\n",
       "Platform         0.055\n",
       "Racing           0.050\n",
       "Sports           0.050\n",
       "Simulation       0.030\n",
       "Action           0.020\n",
       "Fighting         0.020\n",
       "Misc             0.010\n",
       "Role-Playing     0.010\n",
       "Strategy         0.010\n",
       "Adventure        0.000\n",
       "Puzzle           0.000"
      ]
     },
     "execution_count": 42,
     "metadata": {},
     "output_type": "execute_result"
    }
   ],
   "source": [
    "(current_period.pivot_table(values='eu_sales', index='genre', aggfunc='median')\n",
    "               .sort_values('eu_sales', ascending=False)\n",
    ")"
   ]
  },
  {
   "cell_type": "markdown",
   "id": "0213ff3b",
   "metadata": {},
   "source": [
    "В Европе сильнее всех жанров выделяются шутеры."
   ]
  },
  {
   "cell_type": "code",
   "execution_count": 43,
   "id": "8dfe5874",
   "metadata": {},
   "outputs": [
    {
     "data": {
      "text/html": [
       "<div>\n",
       "<style scoped>\n",
       "    .dataframe tbody tr th:only-of-type {\n",
       "        vertical-align: middle;\n",
       "    }\n",
       "\n",
       "    .dataframe tbody tr th {\n",
       "        vertical-align: top;\n",
       "    }\n",
       "\n",
       "    .dataframe thead th {\n",
       "        text-align: right;\n",
       "    }\n",
       "</style>\n",
       "<table border=\"1\" class=\"dataframe\">\n",
       "  <thead>\n",
       "    <tr style=\"text-align: right;\">\n",
       "      <th></th>\n",
       "      <th>eu_sales</th>\n",
       "    </tr>\n",
       "    <tr>\n",
       "      <th>rating</th>\n",
       "      <th></th>\n",
       "    </tr>\n",
       "  </thead>\n",
       "  <tbody>\n",
       "    <tr>\n",
       "      <th>M</th>\n",
       "      <td>0.12</td>\n",
       "    </tr>\n",
       "    <tr>\n",
       "      <th>E10+</th>\n",
       "      <td>0.09</td>\n",
       "    </tr>\n",
       "    <tr>\n",
       "      <th>E</th>\n",
       "      <td>0.05</td>\n",
       "    </tr>\n",
       "    <tr>\n",
       "      <th>T</th>\n",
       "      <td>0.04</td>\n",
       "    </tr>\n",
       "  </tbody>\n",
       "</table>\n",
       "</div>"
      ],
      "text/plain": [
       "        eu_sales\n",
       "rating          \n",
       "M           0.12\n",
       "E10+        0.09\n",
       "E           0.05\n",
       "T           0.04"
      ]
     },
     "execution_count": 43,
     "metadata": {},
     "output_type": "execute_result"
    }
   ],
   "source": [
    "p_table = current_period.pivot_table(index='rating', values='eu_sales', aggfunc='median', dropna=False)\n",
    "\n",
    "# p_table.columns = ['sum', 'count']\n",
    "p_table.sort_values('eu_sales', ascending=False)"
   ]
  },
  {
   "cell_type": "code",
   "execution_count": 44,
   "id": "4ceaf2b3",
   "metadata": {},
   "outputs": [
    {
     "data": {
      "text/plain": [
       "0.0"
      ]
     },
     "execution_count": 44,
     "metadata": {},
     "output_type": "execute_result"
    }
   ],
   "source": [
    "current_period.query('rating.isna()')['eu_sales'].median()"
   ]
  },
  {
   "cell_type": "markdown",
   "id": "cce7b75a",
   "metadata": {},
   "source": [
    "В Европе выделяются 4 обозначения E, T, M, E10+. В EU также предпочитают игры для взрослых."
   ]
  },
  {
   "cell_type": "markdown",
   "id": "f7df6bb8",
   "metadata": {},
   "source": [
    "### 4.3 JP"
   ]
  },
  {
   "cell_type": "code",
   "execution_count": 45,
   "id": "f9e70df1",
   "metadata": {},
   "outputs": [
    {
     "name": "stderr",
     "output_type": "stream",
     "text": [
      "C:\\Users\\Админ\\AppData\\Local\\Temp\\ipykernel_15944\\199922578.py:2: SettingWithCopyWarning: \n",
      "A value is trying to be set on a copy of a slice from a DataFrame.\n",
      "Try using .loc[row_indexer,col_indexer] = value instead\n",
      "\n",
      "See the caveats in the documentation: https://pandas.pydata.org/pandas-docs/stable/user_guide/indexing.html#returning-a-view-versus-a-copy\n",
      "  current_period.loc[:, 'share_of_jp'] = current_period['jp_sales'] / s_na * 100\n"
     ]
    },
    {
     "data": {
      "text/html": [
       "<div>\n",
       "<style scoped>\n",
       "    .dataframe tbody tr th:only-of-type {\n",
       "        vertical-align: middle;\n",
       "    }\n",
       "\n",
       "    .dataframe tbody tr th {\n",
       "        vertical-align: top;\n",
       "    }\n",
       "\n",
       "    .dataframe thead th {\n",
       "        text-align: right;\n",
       "    }\n",
       "</style>\n",
       "<table border=\"1\" class=\"dataframe\">\n",
       "  <thead>\n",
       "    <tr style=\"text-align: right;\">\n",
       "      <th></th>\n",
       "      <th>share_of_jp</th>\n",
       "    </tr>\n",
       "    <tr>\n",
       "      <th>platform</th>\n",
       "      <th></th>\n",
       "    </tr>\n",
       "  </thead>\n",
       "  <tbody>\n",
       "    <tr>\n",
       "      <th>3DS</th>\n",
       "      <td>47.523902</td>\n",
       "    </tr>\n",
       "    <tr>\n",
       "      <th>PS4</th>\n",
       "      <td>16.134923</td>\n",
       "    </tr>\n",
       "    <tr>\n",
       "      <th>PSV</th>\n",
       "      <td>15.619293</td>\n",
       "    </tr>\n",
       "    <tr>\n",
       "      <th>PS3</th>\n",
       "      <td>12.052852</td>\n",
       "    </tr>\n",
       "    <tr>\n",
       "      <th>WiiU</th>\n",
       "      <td>7.852616</td>\n",
       "    </tr>\n",
       "  </tbody>\n",
       "</table>\n",
       "</div>"
      ],
      "text/plain": [
       "          share_of_jp\n",
       "platform             \n",
       "3DS         47.523902\n",
       "PS4         16.134923\n",
       "PSV         15.619293\n",
       "PS3         12.052852\n",
       "WiiU         7.852616"
      ]
     },
     "execution_count": 45,
     "metadata": {},
     "output_type": "execute_result"
    }
   ],
   "source": [
    "s_na = current_period['jp_sales'].sum()\n",
    "current_period.loc[:, 'share_of_jp'] = current_period['jp_sales'] / s_na * 100\n",
    "\n",
    "(current_period.pivot_table(values='share_of_jp', index='platform', aggfunc='sum')\n",
    "               .sort_values('share_of_jp', ascending=False)\n",
    "               .head(5)\n",
    ")"
   ]
  },
  {
   "cell_type": "markdown",
   "id": "535f9532",
   "metadata": {},
   "source": [
    "Топ 5 платформ в Европе и их доля продаж."
   ]
  },
  {
   "cell_type": "code",
   "execution_count": 46,
   "id": "79146f51",
   "metadata": {},
   "outputs": [
    {
     "data": {
      "text/html": [
       "<div>\n",
       "<style scoped>\n",
       "    .dataframe tbody tr th:only-of-type {\n",
       "        vertical-align: middle;\n",
       "    }\n",
       "\n",
       "    .dataframe tbody tr th {\n",
       "        vertical-align: top;\n",
       "    }\n",
       "\n",
       "    .dataframe thead th {\n",
       "        text-align: right;\n",
       "    }\n",
       "</style>\n",
       "<table border=\"1\" class=\"dataframe\">\n",
       "  <thead>\n",
       "    <tr style=\"text-align: right;\">\n",
       "      <th></th>\n",
       "      <th>jp_sales</th>\n",
       "    </tr>\n",
       "    <tr>\n",
       "      <th>genre</th>\n",
       "      <th></th>\n",
       "    </tr>\n",
       "  </thead>\n",
       "  <tbody>\n",
       "    <tr>\n",
       "      <th>Role-Playing</th>\n",
       "      <td>0.05</td>\n",
       "    </tr>\n",
       "    <tr>\n",
       "      <th>Fighting</th>\n",
       "      <td>0.03</td>\n",
       "    </tr>\n",
       "    <tr>\n",
       "      <th>Puzzle</th>\n",
       "      <td>0.03</td>\n",
       "    </tr>\n",
       "    <tr>\n",
       "      <th>Action</th>\n",
       "      <td>0.01</td>\n",
       "    </tr>\n",
       "    <tr>\n",
       "      <th>Adventure</th>\n",
       "      <td>0.01</td>\n",
       "    </tr>\n",
       "    <tr>\n",
       "      <th>Misc</th>\n",
       "      <td>0.01</td>\n",
       "    </tr>\n",
       "    <tr>\n",
       "      <th>Platform</th>\n",
       "      <td>0.00</td>\n",
       "    </tr>\n",
       "    <tr>\n",
       "      <th>Racing</th>\n",
       "      <td>0.00</td>\n",
       "    </tr>\n",
       "    <tr>\n",
       "      <th>Shooter</th>\n",
       "      <td>0.00</td>\n",
       "    </tr>\n",
       "    <tr>\n",
       "      <th>Simulation</th>\n",
       "      <td>0.00</td>\n",
       "    </tr>\n",
       "    <tr>\n",
       "      <th>Sports</th>\n",
       "      <td>0.00</td>\n",
       "    </tr>\n",
       "    <tr>\n",
       "      <th>Strategy</th>\n",
       "      <td>0.00</td>\n",
       "    </tr>\n",
       "  </tbody>\n",
       "</table>\n",
       "</div>"
      ],
      "text/plain": [
       "              jp_sales\n",
       "genre                 \n",
       "Role-Playing      0.05\n",
       "Fighting          0.03\n",
       "Puzzle            0.03\n",
       "Action            0.01\n",
       "Adventure         0.01\n",
       "Misc              0.01\n",
       "Platform          0.00\n",
       "Racing            0.00\n",
       "Shooter           0.00\n",
       "Simulation        0.00\n",
       "Sports            0.00\n",
       "Strategy          0.00"
      ]
     },
     "execution_count": 46,
     "metadata": {},
     "output_type": "execute_result"
    }
   ],
   "source": [
    "(current_period.pivot_table(values='jp_sales', index='genre', aggfunc='median')\n",
    "               .sort_values('jp_sales', ascending=False)\n",
    ")"
   ]
  },
  {
   "cell_type": "markdown",
   "id": "77656605",
   "metadata": {},
   "source": [
    "В Японии очень любят ролевые игры, а дальше файтинги, пазлы."
   ]
  },
  {
   "cell_type": "code",
   "execution_count": 47,
   "id": "bb12aa11",
   "metadata": {},
   "outputs": [
    {
     "data": {
      "text/html": [
       "<div>\n",
       "<style scoped>\n",
       "    .dataframe tbody tr th:only-of-type {\n",
       "        vertical-align: middle;\n",
       "    }\n",
       "\n",
       "    .dataframe tbody tr th {\n",
       "        vertical-align: top;\n",
       "    }\n",
       "\n",
       "    .dataframe thead th {\n",
       "        text-align: right;\n",
       "    }\n",
       "</style>\n",
       "<table border=\"1\" class=\"dataframe\">\n",
       "  <thead>\n",
       "    <tr style=\"text-align: right;\">\n",
       "      <th></th>\n",
       "      <th>jp_sales</th>\n",
       "    </tr>\n",
       "    <tr>\n",
       "      <th>rating</th>\n",
       "      <th></th>\n",
       "    </tr>\n",
       "  </thead>\n",
       "  <tbody>\n",
       "    <tr>\n",
       "      <th>T</th>\n",
       "      <td>0.01</td>\n",
       "    </tr>\n",
       "    <tr>\n",
       "      <th>E</th>\n",
       "      <td>0.00</td>\n",
       "    </tr>\n",
       "    <tr>\n",
       "      <th>E10+</th>\n",
       "      <td>0.00</td>\n",
       "    </tr>\n",
       "    <tr>\n",
       "      <th>M</th>\n",
       "      <td>0.00</td>\n",
       "    </tr>\n",
       "  </tbody>\n",
       "</table>\n",
       "</div>"
      ],
      "text/plain": [
       "        jp_sales\n",
       "rating          \n",
       "T           0.01\n",
       "E           0.00\n",
       "E10+        0.00\n",
       "M           0.00"
      ]
     },
     "execution_count": 47,
     "metadata": {},
     "output_type": "execute_result"
    }
   ],
   "source": [
    "p_table = pd.pivot_table(current_period,\n",
    "                         index='rating',\n",
    "                         values='jp_sales',\n",
    "                         aggfunc='median')\n",
    "\n",
    "p_table.sort_values('jp_sales', ascending=False)"
   ]
  },
  {
   "cell_type": "code",
   "execution_count": 48,
   "id": "9eded54e",
   "metadata": {},
   "outputs": [
    {
     "data": {
      "text/plain": [
       "0.02"
      ]
     },
     "execution_count": 48,
     "metadata": {},
     "output_type": "execute_result"
    }
   ],
   "source": [
    "current_period.query('rating.isna()')['jp_sales'].median()"
   ]
  },
  {
   "cell_type": "markdown",
   "id": "5bf45cdc",
   "metadata": {},
   "source": [
    "Yа удивление игры без рейтинга лидируют. Скорее всего это объясняется тем, что японцы больше ориентируются на свою рейтинговую модель CERO, а у дальневосточных стран более жёсткая, поэтому зачастую разроботчики выпускают специальные версии игр для этоги региона."
   ]
  },
  {
   "cell_type": "markdown",
   "id": "57cfb01d",
   "metadata": {},
   "source": [
    "__Сравнение NA - EU - JP__\n",
    "\n",
    "1) В Европе и Америке по популярности с большим отрывом лидирует консоль PS4, а в Японии 3DS\n",
    "\n",
    "2) В Европе и Америке очень любят шутеры и платформеры, в то время как в Японии ролевые игры и файтинги\n",
    "\n",
    "3) В Европе и Америке больше всего продаж игр для взрослых, в Японии игр без рейтинга\n",
    "\n",
    "Итог: Европа и Америка во многом похожи, а у Японии свои вкусы"
   ]
  },
  {
   "cell_type": "markdown",
   "id": "ad1742b1",
   "metadata": {},
   "source": [
    "## Шаг 5. Проверка гипотиз"
   ]
  },
  {
   "cell_type": "markdown",
   "id": "19d08556",
   "metadata": {},
   "source": [
    "Гипотеза №1:\n",
    "\n",
    "Нулевая гипотеза - средние пользовательские рейтинги платформ Xbox One и PC одинаковые\n",
    "\n",
    "Альтернативная гипотеза - средние пользовательские рейтинги платформ Xbox One и PC не одинаковые\n",
    "\n",
    "Для проверки гипотезы возьмем данные с 2013 года, потому что Xbox One вышел в 2013 году."
   ]
  },
  {
   "cell_type": "code",
   "execution_count": 49,
   "id": "40e549ee",
   "metadata": {},
   "outputs": [
    {
     "name": "stdout",
     "output_type": "stream",
     "text": [
      "(228,)\n",
      "(151,)\n",
      "p-значение:  0.10450507919348513\n",
      "Не получилось отвергнуть нолевую гипотезу\n"
     ]
    }
   ],
   "source": [
    "sample_1 = current_period.query('platform == \"XOne\" and year_of_release >= 2013')['user_score']\n",
    "sample_2 = current_period.query('platform == \"PC\" and year_of_release >= 2013')['user_score']\n",
    "print(sample_1.shape)\n",
    "print(sample_2.shape)\n",
    "\n",
    "results = st.ttest_ind(sample_1, sample_2, equal_var = True, nan_policy='omit')\n",
    "alpha = 0.05\n",
    "\n",
    "print('p-значение: ', results.pvalue)\n",
    "\n",
    "if results.pvalue < alpha:\n",
    "    print(\"Отвергаем нулевую гипотезу\")\n",
    "else:\n",
    "    print(\"Не получилось отвергнуть нолевую гипотезу\")"
   ]
  },
  {
   "cell_type": "markdown",
   "id": "80d4c25e",
   "metadata": {},
   "source": [
    "Гипотеза №2:\n",
    "\n",
    "Нулевая гипотеза - средние пользовательские рейтинги жанров Action (англ. «действие», экшен-игры) и Sports (англ. «спортивные соревнования») разные.\n",
    "\n",
    "Альтернативная гипотеза - средние пользовательские рейтинги жанров Action (англ. «действие», экшен-игры) и Sports (англ. «спортивные соревнования») одинаковые."
   ]
  },
  {
   "cell_type": "code",
   "execution_count": 50,
   "id": "6c02df3b",
   "metadata": {},
   "outputs": [
    {
     "name": "stdout",
     "output_type": "stream",
     "text": [
      "(619,)\n",
      "(161,)\n",
      "p-значение:  1.182555038264477e-14\n",
      "Отвергаем нулевую гипотезу\n"
     ]
    }
   ],
   "source": [
    "sample_1 = current_period.query('genre == \"Action\"')['user_score']\n",
    "sample_2 = current_period.query('genre == \"Sports\"')['user_score']\n",
    "print(sample_1.shape)\n",
    "print(sample_2.shape)\n",
    "\n",
    "results = st.ttest_ind(sample_1, sample_2, equal_var=False, nan_policy='omit')\n",
    "alpha = 0.05\n",
    "\n",
    "print('p-значение: ', results.pvalue)\n",
    "\n",
    "if results.pvalue < alpha:\n",
    "    print(\"Отвергаем нулевую гипотезу\")\n",
    "else:\n",
    "    print(\"Не получилось отвергнуть нолевую гипотезу\")"
   ]
  },
  {
   "cell_type": "markdown",
   "id": "38185ded",
   "metadata": {},
   "source": [
    "## Шаг 6. Выводы"
   ]
  },
  {
   "cell_type": "markdown",
   "id": "7a1093ac",
   "metadata": {},
   "source": [
    "До 1990 года делали очень мало игр, что неудивительно, так как в то время индустрия только начала развиваться. Пик количесвта созданных игр приходится на 2008 - 2009 год.\n",
    "\n",
    "Нам интересен промежуток с 2014 - 2016 года\n",
    "\n",
    "ТОП 5 платформ по продажам\n",
    "\n",
    "* PS4\n",
    "\n",
    "* XOne\n",
    "\n",
    "* 3DS\n",
    "\n",
    "* PS3\n",
    "\n",
    "* X360\n",
    "\n",
    "В среднем среди топ 10 по заработкам платформ, платформы 4-5 лет увеличивают свою прибль, а после она идёт на спад. Также можно увидеть, что платформы живут в среднем около 10 лет, после чего покидают рынок.\n",
    "\n",
    "У XOne и PS4 явно растут продажи, у всех остальных продажи падают. _XOne_ и _PS4_ потенциально прибыльные платформы, так как они создались не так давно(всего 3 года назад) + их прибыль растёт.\n",
    "\n",
    "У большинства платформ есть игры, которые очень зашли аудитории, но при этом большенство игр продаются относительно мало.\n",
    "\n",
    "Из всех жанров явно выделяется жанр \"Shooter\", также неплохие продажи показали жанры \"Platform\" в Европе и Америке. \"Role-Playing\" в Японии\n",
    "\n",
    "__Портрет пользователя каждого региона__\n",
    "\n",
    "__NA__\n",
    "\n",
    "1) Топ 5 платформ в Северной америки и их доля продаж.\n",
    "\n",
    "<code>Platform      | share_of_na\n",
    "    :-------- |:-----:\n",
    "    PS4      | 34.71 % \n",
    "    XOne       | 28.61 %  \n",
    "    X360       | 9.96 %\n",
    "    3DS       | 7.97 %\n",
    "    PS3        | 7.76 %\n",
    "</code>\n",
    "\n",
    "2) В Северной Америке явно любят жанры шутер, платформеры и спорт.\n",
    "\n",
    "3) В Северной Америке предпочитают игры для взрослых(рейтинг M).\n",
    "\n",
    "__EU__\n",
    "\n",
    "1) Топ 5 платформ в Европе и их доля продаж.\n",
    "\n",
    "<code>Platform      | share_of_na\n",
    "    :-------- |:-----:\n",
    "    PS4      | 48.04 % \n",
    "    XOne       | 17.08 %  \n",
    "    PS3       | 9.43 %\n",
    "    PC       | 6.63 %\n",
    "    3DS        | 5.95 %\n",
    "</code>\n",
    "\n",
    "2) В Европе почти всё так же, как и в Северной Америке, только продаж тут меньше.\n",
    "\n",
    "3) В Европе предпочитают игры для взрослых(рейтинг M).\n",
    "\n",
    "__JP__\n",
    "\n",
    "1) Топ 5 платформ в Японии и их доля продаж.\n",
    "\n",
    "\n",
    "<code>Platform      | share_of_na\n",
    "    :-------- |:-----:\n",
    "    3DS      | 47.52 % \n",
    "    PS4       | 16.13 %  \n",
    "    PSV      | 15.6 %\n",
    "    PS3       | 12.05 %\n",
    "    WiiU        | 7.85 %\n",
    "</code>\n",
    "\n",
    "2) В Японии очень любят ролевые игры, а дальше файтинги, пазлы.\n",
    "\n",
    "3) В Японии предпочитают игры без рейтинга(у них свой).\n",
    "\n",
    "__Гипотезы__:\n",
    "\n",
    "* Средние пользовательские рейтинги платформ Xbox One и PC одинаковые. __Отвергнуть не получилось__\n",
    "\n",
    "* Средние пользовательские рейтинги жанров Action (англ. «действие», экшен-игры) и Sports (англ. «спортивные соревнования») разные. __Отвергаем гипотезу__\n",
    "\n",
    "\n",
    "__Предлагаемые ходы для получения прибыли__\n",
    "\n",
    "__Основная идея__:\n",
    "\n",
    "Я предлагая провести рекламную компанию игры для взрослых(рейтинг M) в жанре \"Shooter\" или \"Platform\" в Европе или Северной Америке(лучше в америке) на платформе PS4.\n",
    "\n",
    "__Альтернатива__:\n",
    "\n",
    "Можно также разрекламировать игру для взрослых(рейтинг M) в жанре \"Shooter\" или \"Platform\" в Европе или Северной Америке(лучше в америке) на платформе XOne.\n",
    "\n",
    "__Альтернатива №2 (если мы хотим покорить японский рынок)__:\n",
    "\n",
    "Проведём рекламную компанию игры в жанре \"Role-Playing\" или \"Fighting\" в Японии на платформе 3DS."
   ]
  },
  {
   "cell_type": "code",
   "execution_count": null,
   "id": "8bcfefce",
   "metadata": {},
   "outputs": [],
   "source": []
  }
 ],
 "metadata": {
  "ExecuteTimeLog": [
   {
    "duration": 1129,
    "start_time": "2022-11-06T14:06:46.093Z"
   },
   {
    "duration": 165,
    "start_time": "2022-11-06T14:06:47.224Z"
   },
   {
    "duration": 20,
    "start_time": "2022-11-06T14:06:47.391Z"
   },
   {
    "duration": 43,
    "start_time": "2022-11-06T14:06:47.414Z"
   },
   {
    "duration": 17,
    "start_time": "2022-11-06T14:06:47.459Z"
   },
   {
    "duration": 21,
    "start_time": "2022-11-06T14:06:47.478Z"
   },
   {
    "duration": 39,
    "start_time": "2022-11-06T14:06:47.501Z"
   },
   {
    "duration": 13,
    "start_time": "2022-11-06T14:06:47.542Z"
   },
   {
    "duration": 34,
    "start_time": "2022-11-06T14:06:47.557Z"
   },
   {
    "duration": 21,
    "start_time": "2022-11-06T14:06:47.594Z"
   },
   {
    "duration": 25,
    "start_time": "2022-11-06T14:06:47.639Z"
   },
   {
    "duration": 213,
    "start_time": "2022-11-06T14:06:47.666Z"
   },
   {
    "duration": 17,
    "start_time": "2022-11-06T14:06:47.881Z"
   },
   {
    "duration": 15,
    "start_time": "2022-11-06T14:06:47.900Z"
   },
   {
    "duration": 437,
    "start_time": "2022-11-06T14:06:47.917Z"
   },
   {
    "duration": 15,
    "start_time": "2022-11-06T14:06:48.356Z"
   },
   {
    "duration": 441,
    "start_time": "2022-11-06T14:06:48.372Z"
   },
   {
    "duration": 242,
    "start_time": "2022-11-06T14:06:48.814Z"
   },
   {
    "duration": 0,
    "start_time": "2022-11-06T14:06:49.058Z"
   },
   {
    "duration": 0,
    "start_time": "2022-11-06T14:06:49.060Z"
   },
   {
    "duration": 0,
    "start_time": "2022-11-06T14:06:49.061Z"
   },
   {
    "duration": 1,
    "start_time": "2022-11-06T14:06:49.062Z"
   },
   {
    "duration": 0,
    "start_time": "2022-11-06T14:06:49.064Z"
   },
   {
    "duration": 0,
    "start_time": "2022-11-06T14:06:49.066Z"
   },
   {
    "duration": 0,
    "start_time": "2022-11-06T14:06:49.067Z"
   },
   {
    "duration": 0,
    "start_time": "2022-11-06T14:06:49.069Z"
   },
   {
    "duration": 0,
    "start_time": "2022-11-06T14:06:49.070Z"
   },
   {
    "duration": 0,
    "start_time": "2022-11-06T14:06:49.072Z"
   },
   {
    "duration": 0,
    "start_time": "2022-11-06T14:06:49.073Z"
   },
   {
    "duration": 0,
    "start_time": "2022-11-06T14:06:49.075Z"
   },
   {
    "duration": 0,
    "start_time": "2022-11-06T14:06:49.076Z"
   },
   {
    "duration": 0,
    "start_time": "2022-11-06T14:06:49.078Z"
   },
   {
    "duration": 0,
    "start_time": "2022-11-06T14:06:49.079Z"
   },
   {
    "duration": 0,
    "start_time": "2022-11-06T14:06:49.081Z"
   },
   {
    "duration": 0,
    "start_time": "2022-11-06T14:06:49.082Z"
   },
   {
    "duration": 154,
    "start_time": "2022-11-06T14:07:38.027Z"
   },
   {
    "duration": 142,
    "start_time": "2022-11-06T14:07:57.717Z"
   },
   {
    "duration": 211,
    "start_time": "2022-11-06T14:07:58.253Z"
   },
   {
    "duration": 144,
    "start_time": "2022-11-06T14:07:58.831Z"
   },
   {
    "duration": 1436,
    "start_time": "2022-11-06T15:46:54.512Z"
   },
   {
    "duration": 624,
    "start_time": "2022-11-06T15:46:55.951Z"
   },
   {
    "duration": 18,
    "start_time": "2022-11-06T15:46:56.578Z"
   },
   {
    "duration": 6,
    "start_time": "2022-11-06T15:46:56.599Z"
   },
   {
    "duration": 7,
    "start_time": "2022-11-06T15:46:56.606Z"
   },
   {
    "duration": 5,
    "start_time": "2022-11-06T15:46:56.615Z"
   },
   {
    "duration": 24,
    "start_time": "2022-11-06T15:46:56.622Z"
   },
   {
    "duration": 11,
    "start_time": "2022-11-06T15:46:56.648Z"
   },
   {
    "duration": 26,
    "start_time": "2022-11-06T15:46:56.661Z"
   },
   {
    "duration": 14,
    "start_time": "2022-11-06T15:46:56.690Z"
   },
   {
    "duration": 47,
    "start_time": "2022-11-06T15:46:56.706Z"
   },
   {
    "duration": 234,
    "start_time": "2022-11-06T15:46:56.756Z"
   },
   {
    "duration": 20,
    "start_time": "2022-11-06T15:46:56.992Z"
   },
   {
    "duration": 37,
    "start_time": "2022-11-06T15:46:57.014Z"
   },
   {
    "duration": 520,
    "start_time": "2022-11-06T15:46:57.054Z"
   },
   {
    "duration": 17,
    "start_time": "2022-11-06T15:46:57.577Z"
   },
   {
    "duration": 574,
    "start_time": "2022-11-06T15:46:57.596Z"
   },
   {
    "duration": 312,
    "start_time": "2022-11-06T15:46:58.173Z"
   },
   {
    "duration": 0,
    "start_time": "2022-11-06T15:46:58.487Z"
   },
   {
    "duration": 0,
    "start_time": "2022-11-06T15:46:58.489Z"
   },
   {
    "duration": 0,
    "start_time": "2022-11-06T15:46:58.490Z"
   },
   {
    "duration": 0,
    "start_time": "2022-11-06T15:46:58.492Z"
   },
   {
    "duration": 0,
    "start_time": "2022-11-06T15:46:58.493Z"
   },
   {
    "duration": 0,
    "start_time": "2022-11-06T15:46:58.495Z"
   },
   {
    "duration": 0,
    "start_time": "2022-11-06T15:46:58.496Z"
   },
   {
    "duration": 1,
    "start_time": "2022-11-06T15:46:58.497Z"
   },
   {
    "duration": 0,
    "start_time": "2022-11-06T15:46:58.499Z"
   },
   {
    "duration": 0,
    "start_time": "2022-11-06T15:46:58.500Z"
   },
   {
    "duration": 0,
    "start_time": "2022-11-06T15:46:58.501Z"
   },
   {
    "duration": 0,
    "start_time": "2022-11-06T15:46:58.533Z"
   },
   {
    "duration": 0,
    "start_time": "2022-11-06T15:46:58.534Z"
   },
   {
    "duration": 0,
    "start_time": "2022-11-06T15:46:58.537Z"
   },
   {
    "duration": 0,
    "start_time": "2022-11-06T15:46:58.538Z"
   },
   {
    "duration": 0,
    "start_time": "2022-11-06T15:46:58.539Z"
   },
   {
    "duration": 0,
    "start_time": "2022-11-06T15:46:58.540Z"
   },
   {
    "duration": 1142,
    "start_time": "2022-11-06T15:48:42.911Z"
   },
   {
    "duration": 170,
    "start_time": "2022-11-06T15:48:44.055Z"
   },
   {
    "duration": 25,
    "start_time": "2022-11-06T15:48:44.226Z"
   },
   {
    "duration": 6,
    "start_time": "2022-11-06T15:48:44.255Z"
   },
   {
    "duration": 7,
    "start_time": "2022-11-06T15:48:44.263Z"
   },
   {
    "duration": 6,
    "start_time": "2022-11-06T15:48:44.272Z"
   },
   {
    "duration": 13,
    "start_time": "2022-11-06T15:48:44.279Z"
   },
   {
    "duration": 48,
    "start_time": "2022-11-06T15:48:44.294Z"
   },
   {
    "duration": 30,
    "start_time": "2022-11-06T15:48:44.343Z"
   },
   {
    "duration": 16,
    "start_time": "2022-11-06T15:48:44.376Z"
   },
   {
    "duration": 20,
    "start_time": "2022-11-06T15:48:44.394Z"
   },
   {
    "duration": 234,
    "start_time": "2022-11-06T15:48:44.434Z"
   },
   {
    "duration": 20,
    "start_time": "2022-11-06T15:48:44.670Z"
   },
   {
    "duration": 17,
    "start_time": "2022-11-06T15:48:44.692Z"
   },
   {
    "duration": 528,
    "start_time": "2022-11-06T15:48:44.711Z"
   },
   {
    "duration": 18,
    "start_time": "2022-11-06T15:48:45.242Z"
   },
   {
    "duration": 511,
    "start_time": "2022-11-06T15:48:45.261Z"
   },
   {
    "duration": 2,
    "start_time": "2022-11-06T15:48:45.774Z"
   },
   {
    "duration": 110,
    "start_time": "2022-11-06T15:48:45.778Z"
   },
   {
    "duration": 0,
    "start_time": "2022-11-06T15:48:45.890Z"
   },
   {
    "duration": 0,
    "start_time": "2022-11-06T15:48:45.892Z"
   },
   {
    "duration": 0,
    "start_time": "2022-11-06T15:48:45.893Z"
   },
   {
    "duration": 0,
    "start_time": "2022-11-06T15:48:45.894Z"
   },
   {
    "duration": 0,
    "start_time": "2022-11-06T15:48:45.896Z"
   },
   {
    "duration": 0,
    "start_time": "2022-11-06T15:48:45.897Z"
   },
   {
    "duration": 0,
    "start_time": "2022-11-06T15:48:45.898Z"
   },
   {
    "duration": 0,
    "start_time": "2022-11-06T15:48:45.899Z"
   },
   {
    "duration": 0,
    "start_time": "2022-11-06T15:48:45.901Z"
   },
   {
    "duration": 0,
    "start_time": "2022-11-06T15:48:45.902Z"
   },
   {
    "duration": 0,
    "start_time": "2022-11-06T15:48:45.903Z"
   },
   {
    "duration": 0,
    "start_time": "2022-11-06T15:48:45.904Z"
   },
   {
    "duration": 0,
    "start_time": "2022-11-06T15:48:45.905Z"
   },
   {
    "duration": 0,
    "start_time": "2022-11-06T15:48:45.906Z"
   },
   {
    "duration": 0,
    "start_time": "2022-11-06T15:48:45.907Z"
   },
   {
    "duration": 0,
    "start_time": "2022-11-06T15:48:45.909Z"
   },
   {
    "duration": 0,
    "start_time": "2022-11-06T15:48:45.910Z"
   },
   {
    "duration": 0,
    "start_time": "2022-11-06T15:48:45.912Z"
   },
   {
    "duration": 1154,
    "start_time": "2022-11-06T15:49:10.966Z"
   },
   {
    "duration": 172,
    "start_time": "2022-11-06T15:49:12.123Z"
   },
   {
    "duration": 16,
    "start_time": "2022-11-06T15:49:12.296Z"
   },
   {
    "duration": 5,
    "start_time": "2022-11-06T15:49:12.314Z"
   },
   {
    "duration": 6,
    "start_time": "2022-11-06T15:49:12.321Z"
   },
   {
    "duration": 9,
    "start_time": "2022-11-06T15:49:12.329Z"
   },
   {
    "duration": 13,
    "start_time": "2022-11-06T15:49:12.339Z"
   },
   {
    "duration": 10,
    "start_time": "2022-11-06T15:49:12.354Z"
   },
   {
    "duration": 25,
    "start_time": "2022-11-06T15:49:12.366Z"
   },
   {
    "duration": 41,
    "start_time": "2022-11-06T15:49:12.395Z"
   },
   {
    "duration": 22,
    "start_time": "2022-11-06T15:49:12.438Z"
   },
   {
    "duration": 220,
    "start_time": "2022-11-06T15:49:12.462Z"
   },
   {
    "duration": 22,
    "start_time": "2022-11-06T15:49:12.684Z"
   },
   {
    "duration": 42,
    "start_time": "2022-11-06T15:49:12.708Z"
   },
   {
    "duration": 505,
    "start_time": "2022-11-06T15:49:12.753Z"
   },
   {
    "duration": 15,
    "start_time": "2022-11-06T15:49:13.260Z"
   },
   {
    "duration": 476,
    "start_time": "2022-11-06T15:49:13.277Z"
   },
   {
    "duration": 2,
    "start_time": "2022-11-06T15:49:13.755Z"
   },
   {
    "duration": 515,
    "start_time": "2022-11-06T15:49:13.759Z"
   },
   {
    "duration": 2,
    "start_time": "2022-11-06T15:49:14.276Z"
   },
   {
    "duration": 621,
    "start_time": "2022-11-06T15:49:14.280Z"
   },
   {
    "duration": 198,
    "start_time": "2022-11-06T15:49:14.903Z"
   },
   {
    "duration": 208,
    "start_time": "2022-11-06T15:49:15.103Z"
   },
   {
    "duration": 189,
    "start_time": "2022-11-06T15:49:15.313Z"
   },
   {
    "duration": 187,
    "start_time": "2022-11-06T15:49:15.504Z"
   },
   {
    "duration": 17,
    "start_time": "2022-11-06T15:49:15.693Z"
   },
   {
    "duration": 43,
    "start_time": "2022-11-06T15:49:15.712Z"
   },
   {
    "duration": 21,
    "start_time": "2022-11-06T15:49:15.760Z"
   },
   {
    "duration": 24,
    "start_time": "2022-11-06T15:49:15.783Z"
   },
   {
    "duration": 51,
    "start_time": "2022-11-06T15:49:15.809Z"
   },
   {
    "duration": 15,
    "start_time": "2022-11-06T15:49:15.862Z"
   },
   {
    "duration": 26,
    "start_time": "2022-11-06T15:49:15.879Z"
   },
   {
    "duration": 47,
    "start_time": "2022-11-06T15:49:15.907Z"
   },
   {
    "duration": 27,
    "start_time": "2022-11-06T15:49:15.955Z"
   },
   {
    "duration": 23,
    "start_time": "2022-11-06T15:49:15.984Z"
   },
   {
    "duration": 39,
    "start_time": "2022-11-06T15:49:16.009Z"
   },
   {
    "duration": 14,
    "start_time": "2022-11-06T15:49:16.051Z"
   },
   {
    "duration": 280,
    "start_time": "2022-11-06T16:04:47.892Z"
   },
   {
    "duration": 177,
    "start_time": "2022-11-06T16:07:15.584Z"
   },
   {
    "duration": 1234,
    "start_time": "2022-11-08T14:42:31.495Z"
   },
   {
    "duration": 297,
    "start_time": "2022-11-08T14:42:32.732Z"
   },
   {
    "duration": 14,
    "start_time": "2022-11-08T14:42:33.030Z"
   },
   {
    "duration": 7,
    "start_time": "2022-11-08T14:42:33.046Z"
   },
   {
    "duration": 40,
    "start_time": "2022-11-08T14:42:33.055Z"
   },
   {
    "duration": 22,
    "start_time": "2022-11-08T14:42:33.097Z"
   },
   {
    "duration": 24,
    "start_time": "2022-11-08T14:42:33.120Z"
   },
   {
    "duration": 46,
    "start_time": "2022-11-08T14:42:33.145Z"
   },
   {
    "duration": 9,
    "start_time": "2022-11-08T14:42:33.193Z"
   },
   {
    "duration": 18,
    "start_time": "2022-11-08T14:42:33.205Z"
   },
   {
    "duration": 26,
    "start_time": "2022-11-08T14:42:33.224Z"
   },
   {
    "duration": 23,
    "start_time": "2022-11-08T14:42:33.251Z"
   },
   {
    "duration": 29,
    "start_time": "2022-11-08T14:42:33.275Z"
   },
   {
    "duration": 34,
    "start_time": "2022-11-08T14:42:33.306Z"
   },
   {
    "duration": 4,
    "start_time": "2022-11-08T14:42:33.342Z"
   },
   {
    "duration": 43,
    "start_time": "2022-11-08T14:42:33.348Z"
   },
   {
    "duration": 54,
    "start_time": "2022-11-08T14:42:33.392Z"
   },
   {
    "duration": 10,
    "start_time": "2022-11-08T14:42:33.448Z"
   },
   {
    "duration": 37,
    "start_time": "2022-11-08T14:42:33.459Z"
   },
   {
    "duration": 257,
    "start_time": "2022-11-08T14:42:33.498Z"
   },
   {
    "duration": 23,
    "start_time": "2022-11-08T14:42:33.757Z"
   },
   {
    "duration": 33,
    "start_time": "2022-11-08T14:42:33.782Z"
   },
   {
    "duration": 1063,
    "start_time": "2022-11-08T14:42:33.816Z"
   },
   {
    "duration": 3,
    "start_time": "2022-11-08T14:42:34.881Z"
   },
   {
    "duration": 21,
    "start_time": "2022-11-08T14:42:34.885Z"
   },
   {
    "duration": 593,
    "start_time": "2022-11-08T14:42:34.907Z"
   },
   {
    "duration": 0,
    "start_time": "2022-11-08T14:42:35.504Z"
   },
   {
    "duration": 0,
    "start_time": "2022-11-08T14:42:35.505Z"
   },
   {
    "duration": 0,
    "start_time": "2022-11-08T14:42:35.506Z"
   },
   {
    "duration": 0,
    "start_time": "2022-11-08T14:42:35.508Z"
   },
   {
    "duration": 0,
    "start_time": "2022-11-08T14:42:35.510Z"
   },
   {
    "duration": 0,
    "start_time": "2022-11-08T14:42:35.511Z"
   },
   {
    "duration": 0,
    "start_time": "2022-11-08T14:42:35.513Z"
   },
   {
    "duration": 0,
    "start_time": "2022-11-08T14:42:35.514Z"
   },
   {
    "duration": 0,
    "start_time": "2022-11-08T14:42:35.516Z"
   },
   {
    "duration": 0,
    "start_time": "2022-11-08T14:42:35.517Z"
   },
   {
    "duration": 0,
    "start_time": "2022-11-08T14:42:35.518Z"
   },
   {
    "duration": 0,
    "start_time": "2022-11-08T14:42:35.520Z"
   },
   {
    "duration": 0,
    "start_time": "2022-11-08T14:42:35.579Z"
   },
   {
    "duration": 0,
    "start_time": "2022-11-08T14:42:35.581Z"
   },
   {
    "duration": 0,
    "start_time": "2022-11-08T14:42:35.582Z"
   },
   {
    "duration": 0,
    "start_time": "2022-11-08T14:42:35.583Z"
   },
   {
    "duration": 0,
    "start_time": "2022-11-08T14:42:35.585Z"
   },
   {
    "duration": 0,
    "start_time": "2022-11-08T14:42:35.587Z"
   },
   {
    "duration": 0,
    "start_time": "2022-11-08T14:42:35.588Z"
   },
   {
    "duration": 0,
    "start_time": "2022-11-08T14:42:35.589Z"
   },
   {
    "duration": 0,
    "start_time": "2022-11-08T14:42:35.594Z"
   },
   {
    "duration": 0,
    "start_time": "2022-11-08T14:42:35.595Z"
   },
   {
    "duration": 0,
    "start_time": "2022-11-08T14:42:35.597Z"
   },
   {
    "duration": 0,
    "start_time": "2022-11-08T14:42:35.598Z"
   },
   {
    "duration": 3,
    "start_time": "2022-11-08T14:43:54.154Z"
   },
   {
    "duration": 97,
    "start_time": "2022-11-08T14:43:54.159Z"
   },
   {
    "duration": 13,
    "start_time": "2022-11-08T14:43:54.260Z"
   },
   {
    "duration": 8,
    "start_time": "2022-11-08T14:43:54.276Z"
   },
   {
    "duration": 9,
    "start_time": "2022-11-08T14:43:54.286Z"
   },
   {
    "duration": 13,
    "start_time": "2022-11-08T14:43:54.297Z"
   },
   {
    "duration": 18,
    "start_time": "2022-11-08T14:43:54.312Z"
   },
   {
    "duration": 26,
    "start_time": "2022-11-08T14:43:54.331Z"
   },
   {
    "duration": 9,
    "start_time": "2022-11-08T14:43:54.359Z"
   },
   {
    "duration": 14,
    "start_time": "2022-11-08T14:43:54.369Z"
   },
   {
    "duration": 14,
    "start_time": "2022-11-08T14:43:54.385Z"
   },
   {
    "duration": 16,
    "start_time": "2022-11-08T14:43:54.400Z"
   },
   {
    "duration": 22,
    "start_time": "2022-11-08T14:43:54.418Z"
   },
   {
    "duration": 41,
    "start_time": "2022-11-08T14:43:54.442Z"
   },
   {
    "duration": 4,
    "start_time": "2022-11-08T14:43:54.484Z"
   },
   {
    "duration": 19,
    "start_time": "2022-11-08T14:43:54.489Z"
   },
   {
    "duration": 21,
    "start_time": "2022-11-08T14:43:54.509Z"
   },
   {
    "duration": 8,
    "start_time": "2022-11-08T14:43:54.532Z"
   },
   {
    "duration": 48,
    "start_time": "2022-11-08T14:43:58.520Z"
   },
   {
    "duration": 13,
    "start_time": "2022-11-08T14:44:01.369Z"
   },
   {
    "duration": 27,
    "start_time": "2022-11-08T14:44:13.059Z"
   },
   {
    "duration": 23,
    "start_time": "2022-11-08T14:44:20.819Z"
   },
   {
    "duration": 3,
    "start_time": "2022-11-08T14:45:47.984Z"
   },
   {
    "duration": 95,
    "start_time": "2022-11-08T14:45:47.990Z"
   },
   {
    "duration": 14,
    "start_time": "2022-11-08T14:45:48.087Z"
   },
   {
    "duration": 5,
    "start_time": "2022-11-08T14:45:48.103Z"
   },
   {
    "duration": 9,
    "start_time": "2022-11-08T14:45:48.110Z"
   },
   {
    "duration": 17,
    "start_time": "2022-11-08T14:45:48.121Z"
   },
   {
    "duration": 15,
    "start_time": "2022-11-08T14:45:48.140Z"
   },
   {
    "duration": 44,
    "start_time": "2022-11-08T14:45:48.157Z"
   },
   {
    "duration": 12,
    "start_time": "2022-11-08T14:45:48.202Z"
   },
   {
    "duration": 13,
    "start_time": "2022-11-08T14:45:48.216Z"
   },
   {
    "duration": 23,
    "start_time": "2022-11-08T14:45:48.234Z"
   },
   {
    "duration": 33,
    "start_time": "2022-11-08T14:45:48.259Z"
   },
   {
    "duration": 21,
    "start_time": "2022-11-08T14:45:48.293Z"
   },
   {
    "duration": 43,
    "start_time": "2022-11-08T14:45:48.315Z"
   },
   {
    "duration": 4,
    "start_time": "2022-11-08T14:45:48.360Z"
   },
   {
    "duration": 38,
    "start_time": "2022-11-08T14:45:48.365Z"
   },
   {
    "duration": 4,
    "start_time": "2022-11-08T14:45:48.405Z"
   },
   {
    "duration": 15,
    "start_time": "2022-11-08T14:45:48.411Z"
   },
   {
    "duration": 14,
    "start_time": "2022-11-08T14:45:48.428Z"
   },
   {
    "duration": 1006,
    "start_time": "2022-11-08T15:07:14.128Z"
   },
   {
    "duration": 185,
    "start_time": "2022-11-08T15:07:15.136Z"
   },
   {
    "duration": 20,
    "start_time": "2022-11-08T15:07:15.323Z"
   },
   {
    "duration": 27,
    "start_time": "2022-11-08T15:07:15.345Z"
   },
   {
    "duration": 33,
    "start_time": "2022-11-08T15:07:15.374Z"
   },
   {
    "duration": 46,
    "start_time": "2022-11-08T15:07:15.410Z"
   },
   {
    "duration": 31,
    "start_time": "2022-11-08T15:07:15.458Z"
   },
   {
    "duration": 49,
    "start_time": "2022-11-08T15:07:15.490Z"
   },
   {
    "duration": 15,
    "start_time": "2022-11-08T15:07:15.540Z"
   },
   {
    "duration": 21,
    "start_time": "2022-11-08T15:07:15.558Z"
   },
   {
    "duration": 55,
    "start_time": "2022-11-08T15:07:15.580Z"
   },
   {
    "duration": 24,
    "start_time": "2022-11-08T15:07:15.637Z"
   },
   {
    "duration": 46,
    "start_time": "2022-11-08T15:07:15.662Z"
   },
   {
    "duration": 44,
    "start_time": "2022-11-08T15:07:15.710Z"
   },
   {
    "duration": 15,
    "start_time": "2022-11-08T15:07:15.756Z"
   },
   {
    "duration": 48,
    "start_time": "2022-11-08T15:07:15.773Z"
   },
   {
    "duration": 37,
    "start_time": "2022-11-08T15:07:15.823Z"
   },
   {
    "duration": 20,
    "start_time": "2022-11-08T15:07:15.862Z"
   },
   {
    "duration": 34,
    "start_time": "2022-11-08T15:07:15.883Z"
   },
   {
    "duration": 252,
    "start_time": "2022-11-08T15:07:15.919Z"
   },
   {
    "duration": 14,
    "start_time": "2022-11-08T15:07:16.179Z"
   },
   {
    "duration": 38,
    "start_time": "2022-11-08T15:07:16.195Z"
   },
   {
    "duration": 466,
    "start_time": "2022-11-08T15:07:16.235Z"
   },
   {
    "duration": 4,
    "start_time": "2022-11-08T15:07:16.703Z"
   },
   {
    "duration": 25,
    "start_time": "2022-11-08T15:07:16.709Z"
   },
   {
    "duration": 253,
    "start_time": "2022-11-08T15:07:16.736Z"
   },
   {
    "duration": 0,
    "start_time": "2022-11-08T15:07:16.992Z"
   },
   {
    "duration": 0,
    "start_time": "2022-11-08T15:07:16.993Z"
   },
   {
    "duration": 0,
    "start_time": "2022-11-08T15:07:16.994Z"
   },
   {
    "duration": 0,
    "start_time": "2022-11-08T15:07:16.995Z"
   },
   {
    "duration": 0,
    "start_time": "2022-11-08T15:07:16.996Z"
   },
   {
    "duration": 0,
    "start_time": "2022-11-08T15:07:16.997Z"
   },
   {
    "duration": 0,
    "start_time": "2022-11-08T15:07:16.998Z"
   },
   {
    "duration": 0,
    "start_time": "2022-11-08T15:07:16.999Z"
   },
   {
    "duration": 0,
    "start_time": "2022-11-08T15:07:17.000Z"
   },
   {
    "duration": 0,
    "start_time": "2022-11-08T15:07:17.001Z"
   },
   {
    "duration": 0,
    "start_time": "2022-11-08T15:07:17.002Z"
   },
   {
    "duration": 0,
    "start_time": "2022-11-08T15:07:17.003Z"
   },
   {
    "duration": 0,
    "start_time": "2022-11-08T15:07:17.004Z"
   },
   {
    "duration": 0,
    "start_time": "2022-11-08T15:07:17.005Z"
   },
   {
    "duration": 0,
    "start_time": "2022-11-08T15:07:17.006Z"
   },
   {
    "duration": 0,
    "start_time": "2022-11-08T15:07:17.007Z"
   },
   {
    "duration": 0,
    "start_time": "2022-11-08T15:07:17.008Z"
   },
   {
    "duration": 0,
    "start_time": "2022-11-08T15:07:17.009Z"
   },
   {
    "duration": 0,
    "start_time": "2022-11-08T15:07:17.010Z"
   },
   {
    "duration": 0,
    "start_time": "2022-11-08T15:07:17.011Z"
   },
   {
    "duration": 0,
    "start_time": "2022-11-08T15:07:17.012Z"
   },
   {
    "duration": 0,
    "start_time": "2022-11-08T15:07:17.013Z"
   },
   {
    "duration": 0,
    "start_time": "2022-11-08T15:07:17.014Z"
   },
   {
    "duration": 0,
    "start_time": "2022-11-08T15:07:17.016Z"
   }
  ],
  "kernelspec": {
   "display_name": "Python 3 (ipykernel)",
   "language": "python",
   "name": "python3"
  },
  "language_info": {
   "codemirror_mode": {
    "name": "ipython",
    "version": 3
   },
   "file_extension": ".py",
   "mimetype": "text/x-python",
   "name": "python",
   "nbconvert_exporter": "python",
   "pygments_lexer": "ipython3",
   "version": "3.9.13"
  },
  "toc": {
   "base_numbering": 1,
   "nav_menu": {},
   "number_sections": true,
   "sideBar": true,
   "skip_h1_title": true,
   "title_cell": "Table of Contents",
   "title_sidebar": "Contents",
   "toc_cell": false,
   "toc_position": {},
   "toc_section_display": true,
   "toc_window_display": true
  }
 },
 "nbformat": 4,
 "nbformat_minor": 5
}
