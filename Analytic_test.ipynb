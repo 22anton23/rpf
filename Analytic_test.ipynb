{
 "cells": [
  {
   "cell_type": "markdown",
   "id": "cddc68d4",
   "metadata": {},
   "source": [
    "# Analytic_test"
   ]
  },
  {
   "cell_type": "markdown",
   "id": "d19b2435",
   "metadata": {},
   "source": [
    "Файл с данными 'Analytic_test'. В нём в упорядоченном формате собраны данные о 4 компаниях: Red, Blue, Green, Black.\n",
    "\n",
    "По компаниям представлены следующие данные:\n",
    "\n",
    "* HID (human_id) - зашифрованный персональный индефикатор пользователя\n",
    "\n",
    "* has_company_id - наличие зарегистрированного аккаунта в компании\n",
    "\n",
    "* company_gmv_total - сумарный gmv пользователя в сервисе\n",
    "\n",
    "* company_gvm_order_count - количество успешных заказов пользователя в сервисе\n",
    "\n",
    "* company_activite_count - количество активных действий пользователя в сервисе\n",
    "\n",
    "* company_android - установленное приложение пользователя приложение компании на платформе android\n",
    "\n",
    "* company_apple - установленное приложение пользователя приложение компании на платформе apple\n",
    "\n",
    "* company_web - установленное приложение пользователя приложение компании на платформе ПК\n",
    "\n",
    "* is_msk - территориальное расположение в Москве\n",
    "\n",
    "Задание: Какие выводы вы можете сделать на основании этих данных?\n",
    "\n",
    "\n"
   ]
  },
  {
   "cell_type": "markdown",
   "id": "b9167b10",
   "metadata": {},
   "source": [
    "## Подключение библиотек"
   ]
  },
  {
   "cell_type": "code",
   "execution_count": 46,
   "id": "d01850ec",
   "metadata": {},
   "outputs": [],
   "source": [
    "import pandas as pd\n",
    "import numpy as np\n",
    "import matplotlib.pyplot as plt"
   ]
  },
  {
   "cell_type": "markdown",
   "id": "9dee52ea",
   "metadata": {},
   "source": [
    "## Открытие файла и первичный осмотр"
   ]
  },
  {
   "cell_type": "code",
   "execution_count": 2,
   "id": "90ef010a",
   "metadata": {},
   "outputs": [
    {
     "data": {
      "text/html": [
       "<div>\n",
       "<style scoped>\n",
       "    .dataframe tbody tr th:only-of-type {\n",
       "        vertical-align: middle;\n",
       "    }\n",
       "\n",
       "    .dataframe tbody tr th {\n",
       "        vertical-align: top;\n",
       "    }\n",
       "\n",
       "    .dataframe thead th {\n",
       "        text-align: right;\n",
       "    }\n",
       "</style>\n",
       "<table border=\"1\" class=\"dataframe\">\n",
       "  <thead>\n",
       "    <tr style=\"text-align: right;\">\n",
       "      <th></th>\n",
       "      <th>Unnamed: 0</th>\n",
       "      <th>HID</th>\n",
       "      <th>active_Red</th>\n",
       "      <th>has_Green_id</th>\n",
       "      <th>has_Black_id</th>\n",
       "      <th>has_Blue_id</th>\n",
       "      <th>Blue_activity_count</th>\n",
       "      <th>Blue_gmv_total</th>\n",
       "      <th>Green_gvm_total</th>\n",
       "      <th>Green_gvm_order_count</th>\n",
       "      <th>...</th>\n",
       "      <th>Blue_android</th>\n",
       "      <th>Red_apple</th>\n",
       "      <th>Green_apple</th>\n",
       "      <th>Black_apple</th>\n",
       "      <th>Blue_apple</th>\n",
       "      <th>is_msk</th>\n",
       "      <th>Red_web</th>\n",
       "      <th>Green_web</th>\n",
       "      <th>Black_web</th>\n",
       "      <th>Blue_web</th>\n",
       "    </tr>\n",
       "  </thead>\n",
       "  <tbody>\n",
       "    <tr>\n",
       "      <th>0</th>\n",
       "      <td>0</td>\n",
       "      <td>00003c7fb5e57ce673f1801f3679f5c25</td>\n",
       "      <td>0.0</td>\n",
       "      <td>0.0</td>\n",
       "      <td>0.0</td>\n",
       "      <td>1.0</td>\n",
       "      <td>2.0</td>\n",
       "      <td>0.0</td>\n",
       "      <td>0.0</td>\n",
       "      <td>0.0</td>\n",
       "      <td>...</td>\n",
       "      <td>0.0</td>\n",
       "      <td>0.0</td>\n",
       "      <td>0.0</td>\n",
       "      <td>0.0</td>\n",
       "      <td>0.0</td>\n",
       "      <td>0.0</td>\n",
       "      <td>0.0</td>\n",
       "      <td>0.0</td>\n",
       "      <td>0.0</td>\n",
       "      <td>0.0</td>\n",
       "    </tr>\n",
       "    <tr>\n",
       "      <th>1</th>\n",
       "      <td>1</td>\n",
       "      <td>00006b602533083e3bebfcbff08613931</td>\n",
       "      <td>1.0</td>\n",
       "      <td>0.0</td>\n",
       "      <td>0.0</td>\n",
       "      <td>0.0</td>\n",
       "      <td>0.0</td>\n",
       "      <td>0.0</td>\n",
       "      <td>0.0</td>\n",
       "      <td>0.0</td>\n",
       "      <td>...</td>\n",
       "      <td>0.0</td>\n",
       "      <td>0.0</td>\n",
       "      <td>0.0</td>\n",
       "      <td>0.0</td>\n",
       "      <td>0.0</td>\n",
       "      <td>0.0</td>\n",
       "      <td>1.0</td>\n",
       "      <td>0.0</td>\n",
       "      <td>0.0</td>\n",
       "      <td>0.0</td>\n",
       "    </tr>\n",
       "    <tr>\n",
       "      <th>2</th>\n",
       "      <td>2</td>\n",
       "      <td>0000736c3f76339196cb1cc759b8363b</td>\n",
       "      <td>1.0</td>\n",
       "      <td>0.0</td>\n",
       "      <td>0.0</td>\n",
       "      <td>0.0</td>\n",
       "      <td>0.0</td>\n",
       "      <td>0.0</td>\n",
       "      <td>0.0</td>\n",
       "      <td>0.0</td>\n",
       "      <td>...</td>\n",
       "      <td>0.0</td>\n",
       "      <td>1.0</td>\n",
       "      <td>0.0</td>\n",
       "      <td>1.0</td>\n",
       "      <td>0.0</td>\n",
       "      <td>0.0</td>\n",
       "      <td>0.0</td>\n",
       "      <td>0.0</td>\n",
       "      <td>0.0</td>\n",
       "      <td>0.0</td>\n",
       "    </tr>\n",
       "    <tr>\n",
       "      <th>3</th>\n",
       "      <td>3</td>\n",
       "      <td>00009bdcc5307b38efde8690b8bd658e</td>\n",
       "      <td>0.0</td>\n",
       "      <td>0.0</td>\n",
       "      <td>0.0</td>\n",
       "      <td>0.0</td>\n",
       "      <td>0.0</td>\n",
       "      <td>0.0</td>\n",
       "      <td>0.0</td>\n",
       "      <td>0.0</td>\n",
       "      <td>...</td>\n",
       "      <td>0.0</td>\n",
       "      <td>0.0</td>\n",
       "      <td>0.0</td>\n",
       "      <td>0.0</td>\n",
       "      <td>0.0</td>\n",
       "      <td>0.0</td>\n",
       "      <td>1.0</td>\n",
       "      <td>0.0</td>\n",
       "      <td>0.0</td>\n",
       "      <td>0.0</td>\n",
       "    </tr>\n",
       "    <tr>\n",
       "      <th>4</th>\n",
       "      <td>4</td>\n",
       "      <td>0000bc3186b7b31d9b35d3fbbb250b9f8</td>\n",
       "      <td>1.0</td>\n",
       "      <td>0.0</td>\n",
       "      <td>0.0</td>\n",
       "      <td>0.0</td>\n",
       "      <td>0.0</td>\n",
       "      <td>0.0</td>\n",
       "      <td>0.0</td>\n",
       "      <td>0.0</td>\n",
       "      <td>...</td>\n",
       "      <td>0.0</td>\n",
       "      <td>1.0</td>\n",
       "      <td>0.0</td>\n",
       "      <td>0.0</td>\n",
       "      <td>0.0</td>\n",
       "      <td>0.0</td>\n",
       "      <td>0.0</td>\n",
       "      <td>0.0</td>\n",
       "      <td>0.0</td>\n",
       "      <td>0.0</td>\n",
       "    </tr>\n",
       "  </tbody>\n",
       "</table>\n",
       "<p>5 rows × 25 columns</p>\n",
       "</div>"
      ],
      "text/plain": [
       "   Unnamed: 0                                HID  active_Red  has_Green_id  \\\n",
       "0           0  00003c7fb5e57ce673f1801f3679f5c25         0.0           0.0   \n",
       "1           1  00006b602533083e3bebfcbff08613931         1.0           0.0   \n",
       "2           2   0000736c3f76339196cb1cc759b8363b         1.0           0.0   \n",
       "3           3   00009bdcc5307b38efde8690b8bd658e         0.0           0.0   \n",
       "4           4  0000bc3186b7b31d9b35d3fbbb250b9f8         1.0           0.0   \n",
       "\n",
       "   has_Black_id  has_Blue_id Blue_activity_count  Blue_gmv_total  \\\n",
       "0           0.0          1.0                 2.0             0.0   \n",
       "1           0.0          0.0                 0.0             0.0   \n",
       "2           0.0          0.0                 0.0             0.0   \n",
       "3           0.0          0.0                 0.0             0.0   \n",
       "4           0.0          0.0                 0.0             0.0   \n",
       "\n",
       "   Green_gvm_total Green_gvm_order_count  ...  Blue_android Red_apple  \\\n",
       "0              0.0                   0.0  ...           0.0       0.0   \n",
       "1              0.0                   0.0  ...           0.0       0.0   \n",
       "2              0.0                   0.0  ...           0.0       1.0   \n",
       "3              0.0                   0.0  ...           0.0       0.0   \n",
       "4              0.0                   0.0  ...           0.0       1.0   \n",
       "\n",
       "   Green_apple  Black_apple  Blue_apple  is_msk  Red_web  Green_web  \\\n",
       "0          0.0          0.0         0.0     0.0      0.0        0.0   \n",
       "1          0.0          0.0         0.0     0.0      1.0        0.0   \n",
       "2          0.0          1.0         0.0     0.0      0.0        0.0   \n",
       "3          0.0          0.0         0.0     0.0      1.0        0.0   \n",
       "4          0.0          0.0         0.0     0.0      0.0        0.0   \n",
       "\n",
       "   Black_web  Blue_web  \n",
       "0        0.0       0.0  \n",
       "1        0.0       0.0  \n",
       "2        0.0       0.0  \n",
       "3        0.0       0.0  \n",
       "4        0.0       0.0  \n",
       "\n",
       "[5 rows x 25 columns]"
      ]
     },
     "execution_count": 2,
     "metadata": {},
     "output_type": "execute_result"
    }
   ],
   "source": [
    "df = pd.read_excel('Analytic_test.xlsx', header=1)\n",
    "\n",
    "df.head()"
   ]
  },
  {
   "cell_type": "markdown",
   "id": "e195a7bb",
   "metadata": {},
   "source": [
    "Удалим не нужную колонку"
   ]
  },
  {
   "cell_type": "code",
   "execution_count": 3,
   "id": "cfccda07",
   "metadata": {},
   "outputs": [],
   "source": [
    "df = df.drop('Unnamed: 0', axis=1)"
   ]
  },
  {
   "cell_type": "markdown",
   "id": "84713603",
   "metadata": {},
   "source": [
    "Выведем основную информацию о датасете"
   ]
  },
  {
   "cell_type": "code",
   "execution_count": 4,
   "id": "928e2ad6",
   "metadata": {},
   "outputs": [
    {
     "name": "stdout",
     "output_type": "stream",
     "text": [
      "<class 'pandas.core.frame.DataFrame'>\n",
      "RangeIndex: 100000 entries, 0 to 99999\n",
      "Data columns (total 24 columns):\n",
      " #   Column                 Non-Null Count   Dtype  \n",
      "---  ------                 --------------   -----  \n",
      " 0   HID                    100000 non-null  object \n",
      " 1   active_Red             100000 non-null  float64\n",
      " 2   has_Green_id           100000 non-null  float64\n",
      " 3   has_Black_id           100000 non-null  float64\n",
      " 4   has_Blue_id            100000 non-null  float64\n",
      " 5   Blue_activity_count    100000 non-null  object \n",
      " 6   Blue_gmv_total         99999 non-null   float64\n",
      " 7   Green_gvm_total        100000 non-null  float64\n",
      " 8   Green_gvm_order_count  100000 non-null  object \n",
      " 9   Black_gvm_total        100000 non-null  float64\n",
      " 10  Black_gvm_order_count  100000 non-null  object \n",
      " 11  Red_android            100000 non-null  float64\n",
      " 12  Green_android          100000 non-null  float64\n",
      " 13  Black_android          100000 non-null  float64\n",
      " 14  Blue_android           100000 non-null  float64\n",
      " 15  Red_apple              100000 non-null  float64\n",
      " 16  Green_apple            100000 non-null  float64\n",
      " 17  Black_apple            100000 non-null  float64\n",
      " 18  Blue_apple             100000 non-null  float64\n",
      " 19  is_msk                 100000 non-null  float64\n",
      " 20  Red_web                100000 non-null  float64\n",
      " 21  Green_web              100000 non-null  float64\n",
      " 22  Black_web              100000 non-null  float64\n",
      " 23  Blue_web               100000 non-null  float64\n",
      "dtypes: float64(20), object(4)\n",
      "memory usage: 18.3+ MB\n"
     ]
    }
   ],
   "source": [
    "df.info()"
   ]
  },
  {
   "cell_type": "code",
   "execution_count": 5,
   "id": "a7e8ad19",
   "metadata": {},
   "outputs": [
    {
     "data": {
      "text/html": [
       "<div>\n",
       "<style scoped>\n",
       "    .dataframe tbody tr th:only-of-type {\n",
       "        vertical-align: middle;\n",
       "    }\n",
       "\n",
       "    .dataframe tbody tr th {\n",
       "        vertical-align: top;\n",
       "    }\n",
       "\n",
       "    .dataframe thead th {\n",
       "        text-align: right;\n",
       "    }\n",
       "</style>\n",
       "<table border=\"1\" class=\"dataframe\">\n",
       "  <thead>\n",
       "    <tr style=\"text-align: right;\">\n",
       "      <th></th>\n",
       "      <th>active_Red</th>\n",
       "      <th>has_Green_id</th>\n",
       "      <th>has_Black_id</th>\n",
       "      <th>has_Blue_id</th>\n",
       "      <th>Blue_gmv_total</th>\n",
       "      <th>Green_gvm_total</th>\n",
       "      <th>Black_gvm_total</th>\n",
       "      <th>Red_android</th>\n",
       "      <th>Green_android</th>\n",
       "      <th>Black_android</th>\n",
       "      <th>Blue_android</th>\n",
       "      <th>Red_apple</th>\n",
       "      <th>Green_apple</th>\n",
       "      <th>Black_apple</th>\n",
       "      <th>Blue_apple</th>\n",
       "      <th>is_msk</th>\n",
       "      <th>Red_web</th>\n",
       "      <th>Green_web</th>\n",
       "      <th>Black_web</th>\n",
       "      <th>Blue_web</th>\n",
       "    </tr>\n",
       "  </thead>\n",
       "  <tbody>\n",
       "    <tr>\n",
       "      <th>count</th>\n",
       "      <td>100000.00000</td>\n",
       "      <td>100000.000000</td>\n",
       "      <td>100000.000000</td>\n",
       "      <td>100000.000000</td>\n",
       "      <td>99999.000000</td>\n",
       "      <td>100000.000000</td>\n",
       "      <td>100000.000000</td>\n",
       "      <td>100000.00000</td>\n",
       "      <td>100000.00000</td>\n",
       "      <td>100000.000000</td>\n",
       "      <td>100000.000000</td>\n",
       "      <td>100000.000000</td>\n",
       "      <td>100000.000000</td>\n",
       "      <td>100000.000000</td>\n",
       "      <td>100000.00000</td>\n",
       "      <td>100000.000000</td>\n",
       "      <td>100000.000000</td>\n",
       "      <td>100000.000000</td>\n",
       "      <td>100000.000000</td>\n",
       "      <td>100000.00000</td>\n",
       "    </tr>\n",
       "    <tr>\n",
       "      <th>mean</th>\n",
       "      <td>0.55874</td>\n",
       "      <td>0.008900</td>\n",
       "      <td>0.010840</td>\n",
       "      <td>0.138010</td>\n",
       "      <td>2.461165</td>\n",
       "      <td>59.934200</td>\n",
       "      <td>94.873080</td>\n",
       "      <td>0.32133</td>\n",
       "      <td>0.00546</td>\n",
       "      <td>0.010770</td>\n",
       "      <td>0.080470</td>\n",
       "      <td>0.108740</td>\n",
       "      <td>0.006160</td>\n",
       "      <td>0.017820</td>\n",
       "      <td>0.04646</td>\n",
       "      <td>0.119210</td>\n",
       "      <td>0.671080</td>\n",
       "      <td>0.001980</td>\n",
       "      <td>0.014610</td>\n",
       "      <td>0.10640</td>\n",
       "    </tr>\n",
       "    <tr>\n",
       "      <th>std</th>\n",
       "      <td>0.49654</td>\n",
       "      <td>0.094344</td>\n",
       "      <td>0.104032</td>\n",
       "      <td>0.360645</td>\n",
       "      <td>126.674718</td>\n",
       "      <td>1230.671036</td>\n",
       "      <td>1699.422723</td>\n",
       "      <td>0.46699</td>\n",
       "      <td>0.07369</td>\n",
       "      <td>0.103219</td>\n",
       "      <td>0.272021</td>\n",
       "      <td>0.311314</td>\n",
       "      <td>0.078244</td>\n",
       "      <td>0.132297</td>\n",
       "      <td>0.21048</td>\n",
       "      <td>0.324037</td>\n",
       "      <td>0.469823</td>\n",
       "      <td>0.044453</td>\n",
       "      <td>0.119986</td>\n",
       "      <td>0.30835</td>\n",
       "    </tr>\n",
       "    <tr>\n",
       "      <th>min</th>\n",
       "      <td>0.00000</td>\n",
       "      <td>0.000000</td>\n",
       "      <td>0.000000</td>\n",
       "      <td>0.000000</td>\n",
       "      <td>0.000000</td>\n",
       "      <td>0.000000</td>\n",
       "      <td>0.000000</td>\n",
       "      <td>0.00000</td>\n",
       "      <td>0.00000</td>\n",
       "      <td>0.000000</td>\n",
       "      <td>0.000000</td>\n",
       "      <td>0.000000</td>\n",
       "      <td>0.000000</td>\n",
       "      <td>0.000000</td>\n",
       "      <td>0.00000</td>\n",
       "      <td>0.000000</td>\n",
       "      <td>0.000000</td>\n",
       "      <td>0.000000</td>\n",
       "      <td>0.000000</td>\n",
       "      <td>0.00000</td>\n",
       "    </tr>\n",
       "    <tr>\n",
       "      <th>25%</th>\n",
       "      <td>0.00000</td>\n",
       "      <td>0.000000</td>\n",
       "      <td>0.000000</td>\n",
       "      <td>0.000000</td>\n",
       "      <td>0.000000</td>\n",
       "      <td>0.000000</td>\n",
       "      <td>0.000000</td>\n",
       "      <td>0.00000</td>\n",
       "      <td>0.00000</td>\n",
       "      <td>0.000000</td>\n",
       "      <td>0.000000</td>\n",
       "      <td>0.000000</td>\n",
       "      <td>0.000000</td>\n",
       "      <td>0.000000</td>\n",
       "      <td>0.00000</td>\n",
       "      <td>0.000000</td>\n",
       "      <td>0.000000</td>\n",
       "      <td>0.000000</td>\n",
       "      <td>0.000000</td>\n",
       "      <td>0.00000</td>\n",
       "    </tr>\n",
       "    <tr>\n",
       "      <th>50%</th>\n",
       "      <td>1.00000</td>\n",
       "      <td>0.000000</td>\n",
       "      <td>0.000000</td>\n",
       "      <td>0.000000</td>\n",
       "      <td>0.000000</td>\n",
       "      <td>0.000000</td>\n",
       "      <td>0.000000</td>\n",
       "      <td>0.00000</td>\n",
       "      <td>0.00000</td>\n",
       "      <td>0.000000</td>\n",
       "      <td>0.000000</td>\n",
       "      <td>0.000000</td>\n",
       "      <td>0.000000</td>\n",
       "      <td>0.000000</td>\n",
       "      <td>0.00000</td>\n",
       "      <td>0.000000</td>\n",
       "      <td>1.000000</td>\n",
       "      <td>0.000000</td>\n",
       "      <td>0.000000</td>\n",
       "      <td>0.00000</td>\n",
       "    </tr>\n",
       "    <tr>\n",
       "      <th>75%</th>\n",
       "      <td>1.00000</td>\n",
       "      <td>0.000000</td>\n",
       "      <td>0.000000</td>\n",
       "      <td>0.000000</td>\n",
       "      <td>0.000000</td>\n",
       "      <td>0.000000</td>\n",
       "      <td>0.000000</td>\n",
       "      <td>1.00000</td>\n",
       "      <td>0.00000</td>\n",
       "      <td>0.000000</td>\n",
       "      <td>0.000000</td>\n",
       "      <td>0.000000</td>\n",
       "      <td>0.000000</td>\n",
       "      <td>0.000000</td>\n",
       "      <td>0.00000</td>\n",
       "      <td>0.000000</td>\n",
       "      <td>1.000000</td>\n",
       "      <td>0.000000</td>\n",
       "      <td>0.000000</td>\n",
       "      <td>0.00000</td>\n",
       "    </tr>\n",
       "    <tr>\n",
       "      <th>max</th>\n",
       "      <td>1.00000</td>\n",
       "      <td>2.000000</td>\n",
       "      <td>2.000000</td>\n",
       "      <td>4.000000</td>\n",
       "      <td>32302.000000</td>\n",
       "      <td>94106.000000</td>\n",
       "      <td>188252.000000</td>\n",
       "      <td>1.00000</td>\n",
       "      <td>1.00000</td>\n",
       "      <td>1.000000</td>\n",
       "      <td>1.000000</td>\n",
       "      <td>1.000000</td>\n",
       "      <td>1.000000</td>\n",
       "      <td>1.000000</td>\n",
       "      <td>1.00000</td>\n",
       "      <td>1.000000</td>\n",
       "      <td>1.000000</td>\n",
       "      <td>1.000000</td>\n",
       "      <td>1.000000</td>\n",
       "      <td>1.00000</td>\n",
       "    </tr>\n",
       "  </tbody>\n",
       "</table>\n",
       "</div>"
      ],
      "text/plain": [
       "         active_Red   has_Green_id   has_Black_id    has_Blue_id  \\\n",
       "count  100000.00000  100000.000000  100000.000000  100000.000000   \n",
       "mean        0.55874       0.008900       0.010840       0.138010   \n",
       "std         0.49654       0.094344       0.104032       0.360645   \n",
       "min         0.00000       0.000000       0.000000       0.000000   \n",
       "25%         0.00000       0.000000       0.000000       0.000000   \n",
       "50%         1.00000       0.000000       0.000000       0.000000   \n",
       "75%         1.00000       0.000000       0.000000       0.000000   \n",
       "max         1.00000       2.000000       2.000000       4.000000   \n",
       "\n",
       "       Blue_gmv_total  Green_gvm_total  Black_gvm_total   Red_android  \\\n",
       "count    99999.000000    100000.000000    100000.000000  100000.00000   \n",
       "mean         2.461165        59.934200        94.873080       0.32133   \n",
       "std        126.674718      1230.671036      1699.422723       0.46699   \n",
       "min          0.000000         0.000000         0.000000       0.00000   \n",
       "25%          0.000000         0.000000         0.000000       0.00000   \n",
       "50%          0.000000         0.000000         0.000000       0.00000   \n",
       "75%          0.000000         0.000000         0.000000       1.00000   \n",
       "max      32302.000000     94106.000000    188252.000000       1.00000   \n",
       "\n",
       "       Green_android  Black_android   Blue_android      Red_apple  \\\n",
       "count   100000.00000  100000.000000  100000.000000  100000.000000   \n",
       "mean         0.00546       0.010770       0.080470       0.108740   \n",
       "std          0.07369       0.103219       0.272021       0.311314   \n",
       "min          0.00000       0.000000       0.000000       0.000000   \n",
       "25%          0.00000       0.000000       0.000000       0.000000   \n",
       "50%          0.00000       0.000000       0.000000       0.000000   \n",
       "75%          0.00000       0.000000       0.000000       0.000000   \n",
       "max          1.00000       1.000000       1.000000       1.000000   \n",
       "\n",
       "         Green_apple    Black_apple    Blue_apple         is_msk  \\\n",
       "count  100000.000000  100000.000000  100000.00000  100000.000000   \n",
       "mean        0.006160       0.017820       0.04646       0.119210   \n",
       "std         0.078244       0.132297       0.21048       0.324037   \n",
       "min         0.000000       0.000000       0.00000       0.000000   \n",
       "25%         0.000000       0.000000       0.00000       0.000000   \n",
       "50%         0.000000       0.000000       0.00000       0.000000   \n",
       "75%         0.000000       0.000000       0.00000       0.000000   \n",
       "max         1.000000       1.000000       1.00000       1.000000   \n",
       "\n",
       "             Red_web      Green_web      Black_web      Blue_web  \n",
       "count  100000.000000  100000.000000  100000.000000  100000.00000  \n",
       "mean        0.671080       0.001980       0.014610       0.10640  \n",
       "std         0.469823       0.044453       0.119986       0.30835  \n",
       "min         0.000000       0.000000       0.000000       0.00000  \n",
       "25%         0.000000       0.000000       0.000000       0.00000  \n",
       "50%         1.000000       0.000000       0.000000       0.00000  \n",
       "75%         1.000000       0.000000       0.000000       0.00000  \n",
       "max         1.000000       1.000000       1.000000       1.00000  "
      ]
     },
     "execution_count": 5,
     "metadata": {},
     "output_type": "execute_result"
    }
   ],
   "source": [
    "df.describe()"
   ]
  },
  {
   "cell_type": "markdown",
   "id": "013ea0d2",
   "metadata": {},
   "source": [
    "Прежде чем начать работать с данными нужно их почистить"
   ]
  },
  {
   "cell_type": "markdown",
   "id": "8b3f9251",
   "metadata": {},
   "source": [
    "## Обработка данных"
   ]
  },
  {
   "cell_type": "markdown",
   "id": "d50f3c18",
   "metadata": {},
   "source": [
    "Итак перейдем к обработке данных\n",
    "\n",
    "Сразу видно несколько несостыковок\n",
    "\n",
    "1) В столбце Blue_gmv_total есть один пропуск. Так как он всего один мы его удалим\n",
    "\n",
    "2) Столбцы Blue_activity_count, Green_gvm_order_count, Black_gvm_order_count имеют тип object, хотя должны имееть тип float или int\n",
    "\n",
    "Сначала сделаем шаг 1"
   ]
  },
  {
   "cell_type": "code",
   "execution_count": 6,
   "id": "cf3bc034",
   "metadata": {},
   "outputs": [
    {
     "name": "stdout",
     "output_type": "stream",
     "text": [
      "<class 'pandas.core.frame.DataFrame'>\n",
      "Int64Index: 99999 entries, 0 to 99999\n",
      "Data columns (total 24 columns):\n",
      " #   Column                 Non-Null Count  Dtype  \n",
      "---  ------                 --------------  -----  \n",
      " 0   HID                    99999 non-null  object \n",
      " 1   active_Red             99999 non-null  float64\n",
      " 2   has_Green_id           99999 non-null  float64\n",
      " 3   has_Black_id           99999 non-null  float64\n",
      " 4   has_Blue_id            99999 non-null  float64\n",
      " 5   Blue_activity_count    99999 non-null  object \n",
      " 6   Blue_gmv_total         99999 non-null  float64\n",
      " 7   Green_gvm_total        99999 non-null  float64\n",
      " 8   Green_gvm_order_count  99999 non-null  object \n",
      " 9   Black_gvm_total        99999 non-null  float64\n",
      " 10  Black_gvm_order_count  99999 non-null  object \n",
      " 11  Red_android            99999 non-null  float64\n",
      " 12  Green_android          99999 non-null  float64\n",
      " 13  Black_android          99999 non-null  float64\n",
      " 14  Blue_android           99999 non-null  float64\n",
      " 15  Red_apple              99999 non-null  float64\n",
      " 16  Green_apple            99999 non-null  float64\n",
      " 17  Black_apple            99999 non-null  float64\n",
      " 18  Blue_apple             99999 non-null  float64\n",
      " 19  is_msk                 99999 non-null  float64\n",
      " 20  Red_web                99999 non-null  float64\n",
      " 21  Green_web              99999 non-null  float64\n",
      " 22  Black_web              99999 non-null  float64\n",
      " 23  Blue_web               99999 non-null  float64\n",
      "dtypes: float64(20), object(4)\n",
      "memory usage: 19.1+ MB\n"
     ]
    }
   ],
   "source": [
    "df = df.dropna()\n",
    "\n",
    "df.info()"
   ]
  },
  {
   "cell_type": "markdown",
   "id": "e85a9f32",
   "metadata": {},
   "source": [
    "Перейдём к 2 пункту посмотрим на уникальные значения в этих колонках"
   ]
  },
  {
   "cell_type": "code",
   "execution_count": 7,
   "id": "33d382a7",
   "metadata": {},
   "outputs": [
    {
     "data": {
      "text/plain": [
       "array(['2.0', '0.0', '1.0', '17.0', '13.0', '5.0', '6.0', '26.0', '8.0',\n",
       "       '4.0', '27.0', '19.0', '12.0', '9.0', '3.0', '20.0', '10.0',\n",
       "       '23.0', '7.0', '16.0', '14.0', '15.0', '53.0',\n",
       "       datetime.datetime(2019, 5, 4, 0, 0), '32.0', '11.0', '18.0',\n",
       "       '24.0', '119.0', '49.0', '39.0', '21.0',\n",
       "       datetime.datetime(2019, 5, 7, 0, 0), '35.0', '72.0', '30.0',\n",
       "       '71.0', '28.0', '42.0', '34.0', '41.0', '22.0', '29.0', '36.0',\n",
       "       '90.0', '40.0', '43.0', datetime.datetime(2019, 5, 1, 0, 0),\n",
       "       '51.0', '44.0', '25.0', '31.0', '45.0', '67.0', '33.0', '101.0',\n",
       "       '74.0', '46.0', '111.0', '66.0', '38.0', '63.0', '100.0', '237.0',\n",
       "       '59.0', datetime.datetime(2019, 5, 3, 0, 0),\n",
       "       datetime.datetime(2019, 5, 6, 0, 0), '37.0', '47.0'], dtype=object)"
      ]
     },
     "execution_count": 7,
     "metadata": {},
     "output_type": "execute_result"
    }
   ],
   "source": [
    "df['Blue_activity_count'].unique()"
   ]
  },
  {
   "cell_type": "markdown",
   "id": "1b55ae51",
   "metadata": {},
   "source": [
    "Чтобы понять какие значения прячутся за datetime, нужно спрашивать коллег. У меня этой возможности нет, поэтому просто удаляем эти данные."
   ]
  },
  {
   "cell_type": "code",
   "execution_count": 21,
   "id": "2e194be1",
   "metadata": {},
   "outputs": [
    {
     "data": {
      "text/plain": [
       "array(['0.0', '2.0', '26.0', '5.0', '37.0', '3.0', '12.0', '7.0', '1.0',\n",
       "       '6.0', '8.0', datetime.datetime(2019, 5, 4, 0, 0), '4.0', '40.0',\n",
       "       '9.0', '22.0', '14.0', '15.0', '85.0', '25.0', '10.0', '20.0',\n",
       "       '18.0', '11.0', '31.0', '23.0', '39.0', '13.0', '42.0', '127.0',\n",
       "       '28.0', '101.0', '32.0', '30.0', '27.0', '51.0', '83.0', '36.0',\n",
       "       '16.0', '64.0', '19.0', '29.0', '24.0', '52.0', '82.0', '45.0',\n",
       "       '50.0', '62.0', '49.0', '21.0', '56.0', '65.0', '100.0', '76.0',\n",
       "       '88.0', '17.0', '69.0', '114.0', '35.0', '125.0', '38.0', '108.0',\n",
       "       '168.0', '84.0', '63.0', '75.0', '34.0', '78.0', '43.0', '60.0',\n",
       "       datetime.datetime(2019, 5, 2, 0, 0)], dtype=object)"
      ]
     },
     "execution_count": 21,
     "metadata": {},
     "output_type": "execute_result"
    }
   ],
   "source": [
    "df['Green_gvm_order_count'].unique()"
   ]
  },
  {
   "cell_type": "code",
   "execution_count": 22,
   "id": "74b25489",
   "metadata": {},
   "outputs": [
    {
     "data": {
      "text/plain": [
       "array(['0.0', '1.0', '4.0', '2.0', '3.0', '5.0', '8.0', '25.0', '7.0',\n",
       "       '27.0', '6.0', '15.0', '9.0', '10.0', '50.0', '22.0', '13.0',\n",
       "       '12.0', '14.0', '16.0', '20.0', '26.0', '11.0', '18.0', '21.0',\n",
       "       datetime.datetime(2019, 5, 2, 0, 0), '19.0', '37.0', '33.0',\n",
       "       '17.0', '35.0', '29.0', '51.0', '23.0', '42.0', '60.0', '34.0',\n",
       "       '36.0', datetime.datetime(2019, 5, 6, 0, 0)], dtype=object)"
      ]
     },
     "execution_count": 22,
     "metadata": {},
     "output_type": "execute_result"
    }
   ],
   "source": [
    "df['Black_gvm_order_count'].unique()"
   ]
  },
  {
   "cell_type": "code",
   "execution_count": 23,
   "id": "c05c311d",
   "metadata": {},
   "outputs": [],
   "source": [
    "df['Blue_activity_count'] = pd.to_numeric(df['Blue_activity_count'], errors='coerce')\n",
    "df['Green_gvm_order_count'] = pd.to_numeric(df['Green_gvm_order_count'], errors='coerce')\n",
    "df['Black_gvm_order_count'] = pd.to_numeric(df['Black_gvm_order_count'], errors='coerce')\n",
    "\n",
    "df = df.dropna()"
   ]
  },
  {
   "cell_type": "code",
   "execution_count": 24,
   "id": "b14322eb",
   "metadata": {},
   "outputs": [
    {
     "name": "stdout",
     "output_type": "stream",
     "text": [
      "<class 'pandas.core.frame.DataFrame'>\n",
      "Int64Index: 99986 entries, 0 to 99999\n",
      "Data columns (total 24 columns):\n",
      " #   Column                 Non-Null Count  Dtype  \n",
      "---  ------                 --------------  -----  \n",
      " 0   HID                    99986 non-null  object \n",
      " 1   active_Red             99986 non-null  float64\n",
      " 2   has_Green_id           99986 non-null  float64\n",
      " 3   has_Black_id           99986 non-null  float64\n",
      " 4   has_Blue_id            99986 non-null  float64\n",
      " 5   Blue_activity_count    99986 non-null  float64\n",
      " 6   Blue_gmv_total         99986 non-null  float64\n",
      " 7   Green_gvm_total        99986 non-null  float64\n",
      " 8   Green_gvm_order_count  99986 non-null  float64\n",
      " 9   Black_gvm_total        99986 non-null  float64\n",
      " 10  Black_gvm_order_count  99986 non-null  float64\n",
      " 11  Red_android            99986 non-null  float64\n",
      " 12  Green_android          99986 non-null  float64\n",
      " 13  Black_android          99986 non-null  float64\n",
      " 14  Blue_android           99986 non-null  float64\n",
      " 15  Red_apple              99986 non-null  float64\n",
      " 16  Green_apple            99986 non-null  float64\n",
      " 17  Black_apple            99986 non-null  float64\n",
      " 18  Blue_apple             99986 non-null  float64\n",
      " 19  is_msk                 99986 non-null  float64\n",
      " 20  Red_web                99986 non-null  float64\n",
      " 21  Green_web              99986 non-null  float64\n",
      " 22  Black_web              99986 non-null  float64\n",
      " 23  Blue_web               99986 non-null  float64\n",
      "dtypes: float64(23), object(1)\n",
      "memory usage: 19.1+ MB\n"
     ]
    }
   ],
   "source": [
    "df.info()"
   ]
  },
  {
   "cell_type": "markdown",
   "id": "7e40320a",
   "metadata": {},
   "source": [
    "Отлично теперь построим гистограммы для Blue_gmv_total и посмотрим нет ли у нас аномальных значений. Но для начала я повторно выведу метод describe для 'Blue_gmv_total', 'Black_gvm_total', 'Blue_gmv_total'."
   ]
  },
  {
   "cell_type": "code",
   "execution_count": 113,
   "id": "0c5468cd",
   "metadata": {},
   "outputs": [
    {
     "data": {
      "text/html": [
       "<div>\n",
       "<style scoped>\n",
       "    .dataframe tbody tr th:only-of-type {\n",
       "        vertical-align: middle;\n",
       "    }\n",
       "\n",
       "    .dataframe tbody tr th {\n",
       "        vertical-align: top;\n",
       "    }\n",
       "\n",
       "    .dataframe thead th {\n",
       "        text-align: right;\n",
       "    }\n",
       "</style>\n",
       "<table border=\"1\" class=\"dataframe\">\n",
       "  <thead>\n",
       "    <tr style=\"text-align: right;\">\n",
       "      <th></th>\n",
       "      <th>Blue_gmv_total</th>\n",
       "      <th>Black_gvm_total</th>\n",
       "      <th>Blue_gmv_total</th>\n",
       "    </tr>\n",
       "  </thead>\n",
       "  <tbody>\n",
       "    <tr>\n",
       "      <th>count</th>\n",
       "      <td>99986.000000</td>\n",
       "      <td>99986.000000</td>\n",
       "      <td>99986.000000</td>\n",
       "    </tr>\n",
       "    <tr>\n",
       "      <th>mean</th>\n",
       "      <td>2.461325</td>\n",
       "      <td>94.695457</td>\n",
       "      <td>2.461325</td>\n",
       "    </tr>\n",
       "    <tr>\n",
       "      <th>std</th>\n",
       "      <td>126.682942</td>\n",
       "      <td>1699.044593</td>\n",
       "      <td>126.682942</td>\n",
       "    </tr>\n",
       "    <tr>\n",
       "      <th>min</th>\n",
       "      <td>0.000000</td>\n",
       "      <td>0.000000</td>\n",
       "      <td>0.000000</td>\n",
       "    </tr>\n",
       "    <tr>\n",
       "      <th>25%</th>\n",
       "      <td>0.000000</td>\n",
       "      <td>0.000000</td>\n",
       "      <td>0.000000</td>\n",
       "    </tr>\n",
       "    <tr>\n",
       "      <th>50%</th>\n",
       "      <td>0.000000</td>\n",
       "      <td>0.000000</td>\n",
       "      <td>0.000000</td>\n",
       "    </tr>\n",
       "    <tr>\n",
       "      <th>75%</th>\n",
       "      <td>0.000000</td>\n",
       "      <td>0.000000</td>\n",
       "      <td>0.000000</td>\n",
       "    </tr>\n",
       "    <tr>\n",
       "      <th>max</th>\n",
       "      <td>32302.000000</td>\n",
       "      <td>188252.000000</td>\n",
       "      <td>32302.000000</td>\n",
       "    </tr>\n",
       "  </tbody>\n",
       "</table>\n",
       "</div>"
      ],
      "text/plain": [
       "       Blue_gmv_total  Black_gvm_total  Blue_gmv_total\n",
       "count    99986.000000     99986.000000    99986.000000\n",
       "mean         2.461325        94.695457        2.461325\n",
       "std        126.682942      1699.044593      126.682942\n",
       "min          0.000000         0.000000        0.000000\n",
       "25%          0.000000         0.000000        0.000000\n",
       "50%          0.000000         0.000000        0.000000\n",
       "75%          0.000000         0.000000        0.000000\n",
       "max      32302.000000    188252.000000    32302.000000"
      ]
     },
     "execution_count": 113,
     "metadata": {},
     "output_type": "execute_result"
    }
   ],
   "source": [
    "df[['Blue_gmv_total', 'Black_gvm_total', 'Blue_gmv_total']].describe()"
   ]
  },
  {
   "cell_type": "markdown",
   "id": "2ceea7e5",
   "metadata": {},
   "source": [
    "Так как у нас много нулевых значений построим гистограммы без них"
   ]
  },
  {
   "cell_type": "code",
   "execution_count": 120,
   "id": "ff44c894",
   "metadata": {},
   "outputs": [
    {
     "data": {
      "image/png": "[encoded data removed]",
      "text/plain": [
       "<Figure size 640x480 with 1 Axes>"
      ]
     },
     "metadata": {},
     "output_type": "display_data"
    }
   ],
   "source": [
    "df[df['Blue_gmv_total'] > 0]['Blue_gmv_total'].plot(kind='hist', bins=100, grid=True, alpha=0.6, color='Blue')\n",
    "plt.legend();"
   ]
  },
  {
   "cell_type": "markdown",
   "id": "0c374955",
   "metadata": {},
   "source": [
    "Тут сложно что-то понять увеличим график"
   ]
  },
  {
   "cell_type": "code",
   "execution_count": 117,
   "id": "b8061482",
   "metadata": {},
   "outputs": [
    {
     "data": {
      "image/png": "[encoded data removed]",
      "text/plain": [
       "<Figure size 640x480 with 1 Axes>"
      ]
     },
     "metadata": {},
     "output_type": "display_data"
    }
   ],
   "source": [
    "df[df['Blue_gmv_total'] > 0]['Blue_gmv_total'].plot(kind='hist', bins=100, grid=True, alpha=0.6, color='Blue')\n",
    "plt.xlim(0, 5000)\n",
    "plt.legend();"
   ]
  },
  {
   "cell_type": "markdown",
   "id": "8729b041",
   "metadata": {},
   "source": [
    "Как мы видим многие пользователи делают мало заказов у компании."
   ]
  },
  {
   "cell_type": "code",
   "execution_count": 121,
   "id": "af4ae67b",
   "metadata": {},
   "outputs": [
    {
     "data": {
      "image/png": "[encoded data removed]",
      "text/plain": [
       "<Figure size 640x480 with 1 Axes>"
      ]
     },
     "metadata": {},
     "output_type": "display_data"
    }
   ],
   "source": [
    "df[df['Black_gvm_total'] > 0]['Black_gvm_total'].plot(kind='hist', bins=100, grid=True, alpha=0.6, color='Black')\n",
    "df[df['Green_gvm_total'] > 0]['Green_gvm_total'].plot(kind='hist', bins=100, grid=True, alpha=0.6, color='Green')\n",
    "plt.legend();"
   ]
  },
  {
   "cell_type": "markdown",
   "id": "7006ef35",
   "metadata": {},
   "source": [
    "На этом графике видно, что общий объём оборота товаров больше у компании Black. Возьмем поменьше интервал по gvm_total"
   ]
  },
  {
   "cell_type": "code",
   "execution_count": 124,
   "id": "9c8eb418",
   "metadata": {},
   "outputs": [
    {
     "data": {
      "image/png": "[encoded data removed]",
      "text/plain": [
       "<Figure size 640x480 with 1 Axes>"
      ]
     },
     "metadata": {},
     "output_type": "display_data"
    }
   ],
   "source": [
    "df[df['Black_gvm_total'] > 0]['Black_gvm_total'].plot(kind='hist', bins=100, grid=True, alpha=0.6, color='Black')\n",
    "df[df['Green_gvm_total'] > 0]['Green_gvm_total'].plot(kind='hist', bins=100, grid=True, alpha=0.6, color='Green')\n",
    "plt.xlim(0, 50000)\n",
    "plt.legend();\n"
   ]
  },
  {
   "cell_type": "markdown",
   "id": "dc71ab63",
   "metadata": {},
   "source": [
    "Немного забегая вперед, проанлизируем построенные мною графики. Видно, что общий объём оборота товаров у Black больше чем у Green. Можно было бы выделить все значения больше 50000 как аномальные. Но скорее всего - это люди, которые являются постоянными клиентами или, возможно, юр. лица (компании). Из-за этого я оставлю данные без изменения. По компании Red данных нет."
   ]
  },
  {
   "cell_type": "markdown",
   "id": "94c30450",
   "metadata": {},
   "source": [
    "Проверим остальные колонки на уникальные значения"
   ]
  },
  {
   "cell_type": "code",
   "execution_count": 38,
   "id": "6ec5d8c7",
   "metadata": {},
   "outputs": [
    {
     "name": "stdout",
     "output_type": "stream",
     "text": [
      "---------------------------\n",
      "HID\n",
      "['00003c7fb5e57ce673f1801f3679f5c25' '00006b602533083e3bebfcbff08613931'\n",
      " '0000736c3f76339196cb1cc759b8363b' ...\n",
      " '325563dbbb35c393be38c5c79373ed180' '3255650825570bcc93bc9b076b0bfbb25e6'\n",
      " '325566ec18c0db59083f5f6bb1b5f93d5']\n",
      "---------------------------\n",
      "active_Red\n",
      "[0. 1.]\n",
      "---------------------------\n",
      "has_Green_id\n",
      "[0. 1. 2.]\n",
      "---------------------------\n",
      "has_Black_id\n",
      "[0. 1. 2.]\n",
      "---------------------------\n",
      "has_Blue_id\n",
      "[1. 0. 2. 3. 4.]\n",
      "---------------------------\n",
      "Blue_activity_count\n",
      "[  2.   0.   1.  17.  13.   5.   6.  26.   8.   4.  27.  19.  12.   9.\n",
      "   3.  20.  10.  23.   7.  16.  14.  15.  53.  32.  11.  18.  24. 119.\n",
      "  49.  39.  21.  35.  72.  30.  71.  28.  42.  34.  41.  22.  29.  36.\n",
      "  90.  40.  43.  51.  44.  25.  31.  45.  67.  33. 101.  74.  46. 111.\n",
      "  66.  38.  63. 100. 237.  59.  37.  47.]\n",
      "---------------------------\n",
      "Green_gvm_order_count\n",
      "[  0.   2.  26.   5.  37.   3.  12.   7.   1.   6.   8.   4.  40.   9.\n",
      "  22.  14.  15.  85.  25.  10.  20.  18.  11.  31.  23.  39.  13.  42.\n",
      " 127.  28. 101.  32.  30.  27.  51.  83.  36.  16.  64.  19.  29.  24.\n",
      "  52.  82.  45.  50.  62.  49.  21.  56.  65. 100.  76.  88.  17.  69.\n",
      " 114.  35. 125.  38. 108. 168.  84.  63.  75.  34.  78.  43.  60.]\n",
      "---------------------------\n",
      "Black_gvm_order_count\n",
      "[ 0.  1.  4.  2.  3.  5.  8. 25.  7. 27.  6. 15.  9. 10. 50. 22. 13. 12.\n",
      " 14. 16. 20. 26. 11. 18. 21. 19. 37. 33. 17. 35. 29. 51. 23. 42. 60. 34.\n",
      " 36.]\n",
      "---------------------------\n",
      "Red_android\n",
      "[0. 1.]\n",
      "---------------------------\n",
      "Green_android\n",
      "[0. 1.]\n",
      "---------------------------\n",
      "Black_android\n",
      "[0. 1.]\n",
      "---------------------------\n",
      "Blue_android\n",
      "[0. 1.]\n",
      "---------------------------\n",
      "Red_apple\n",
      "[0. 1.]\n",
      "---------------------------\n",
      "Green_apple\n",
      "[0. 1.]\n",
      "---------------------------\n",
      "Black_apple\n",
      "[0. 1.]\n",
      "---------------------------\n",
      "Blue_apple\n",
      "[0. 1.]\n",
      "---------------------------\n",
      "is_msk\n",
      "[0. 1.]\n",
      "---------------------------\n",
      "Red_web\n",
      "[0. 1.]\n",
      "---------------------------\n",
      "Green_web\n",
      "[0. 1.]\n",
      "---------------------------\n",
      "Black_web\n",
      "[0. 1.]\n",
      "---------------------------\n",
      "Blue_web\n",
      "[0. 1.]\n"
     ]
    }
   ],
   "source": [
    "for i in df.columns:\n",
    "    if i not in ['Blue_gmv_total', 'Green_gvm_total', 'Black_gvm_total']:\n",
    "        print('---------------------------')\n",
    "        print(i)\n",
    "        print(df[i].unique())"
   ]
  },
  {
   "cell_type": "markdown",
   "id": "f5e6ced6",
   "metadata": {},
   "source": [
    "Аномалий нет можно переходить к анализу"
   ]
  },
  {
   "cell_type": "markdown",
   "id": "e8683842",
   "metadata": {},
   "source": [
    "## Анализ данных"
   ]
  },
  {
   "cell_type": "markdown",
   "id": "49cbf23c",
   "metadata": {},
   "source": [
    "Для начала, я бы хотел посмотреть, сколько скачиваний у каждый компании на разных устройствах.  Для этого построим круговые диаграммы. Также для каждой компании, я бы покзал количество уникальных пользователей, а также пользователей которые зарегистрированы в одной компании\n",
    "\n",
    "Заранее оговарюсь, что у нас нет данных о наличие зарегистрированного аккаунта в Red. Можно было бы скзать, что колонка active_Red - это и есть has_Red_id, но мы будем верить и думать, что данные выгрузили правильно и это не имеет отношение к has_Red_id."
   ]
  },
  {
   "cell_type": "markdown",
   "id": "6ac513fe",
   "metadata": {},
   "source": [
    "### Компания Blue"
   ]
  },
  {
   "cell_type": "markdown",
   "id": "fa86d5c7",
   "metadata": {},
   "source": [
    "Количество уникальных пользователей"
   ]
  },
  {
   "cell_type": "code",
   "execution_count": 97,
   "id": "a6b04e7c",
   "metadata": {},
   "outputs": [
    {
     "data": {
      "text/plain": [
       "13254"
      ]
     },
     "execution_count": 97,
     "metadata": {},
     "output_type": "execute_result"
    }
   ],
   "source": [
    "people_Blue = df[df['has_Blue_id'] != 0]['HID'].count()\n",
    "people_Blue"
   ]
  },
  {
   "cell_type": "markdown",
   "id": "1351dd38",
   "metadata": {},
   "source": [
    "Количество пользователей, у которых есть аккаунт только в этой компании"
   ]
  },
  {
   "cell_type": "code",
   "execution_count": 99,
   "id": "ef3ddec1",
   "metadata": {},
   "outputs": [
    {
     "data": {
      "text/plain": [
       "12841"
      ]
     },
     "execution_count": 99,
     "metadata": {},
     "output_type": "execute_result"
    }
   ],
   "source": [
    "u_people_Blue = df.query('has_Blue_id != 0 and has_Black_id == 0 and has_Green_id == 0')['HID'].count()\n",
    "u_people_Blue"
   ]
  },
  {
   "cell_type": "markdown",
   "id": "6c2ea5c4",
   "metadata": {},
   "source": [
    "Рассчитаем в процентном соотношении "
   ]
  },
  {
   "cell_type": "code",
   "execution_count": 100,
   "id": "c6d8e920",
   "metadata": {},
   "outputs": [
    {
     "name": "stdout",
     "output_type": "stream",
     "text": [
      "96.88 %\n"
     ]
    }
   ],
   "source": [
    "print(round(u_people_Blue / people_Blue * 100, 2), '%')"
   ]
  },
  {
   "cell_type": "markdown",
   "id": "6addb319",
   "metadata": {},
   "source": [
    "Отлично. Почти 100% пользователи только компании Blue. "
   ]
  },
  {
   "cell_type": "code",
   "execution_count": 85,
   "id": "0fa41121",
   "metadata": {},
   "outputs": [
    {
     "data": {
      "image/png": "[encoded data removed]",
      "text/plain": [
       "<Figure size 640x480 with 1 Axes>"
      ]
     },
     "metadata": {},
     "output_type": "display_data"
    }
   ],
   "source": [
    "data_Blue = [df.query('Blue_android == 1')['HID'].count(),\n",
    "             df.query('Blue_apple == 1')['HID'].count(),\n",
    "             df.query('Blue_web == 1')['HID'].count()]\n",
    "\n",
    "name = ['Android', 'Apple', 'ПК']\n",
    "\n",
    "colors = ( \"green\", \"gray\", \"blue\") \n",
    "fig1, ax1 = plt.subplots()\n",
    "explode = (0, 0.1, 0) \n",
    "\n",
    "ax1.pie(data_Blue, colors = colors, explode=explode, labels=name,autopct='%1.1f%%', shadow=True, startangle=90)\n",
    "patches, texts, auto = ax1.pie(data_Blue, colors=colors, shadow=True, startangle=90,explode=explode, autopct='%1.1f%%' )\n",
    "\n",
    "plt.legend(patches, name, loc=\"best\")\n",
    "plt.show()"
   ]
  },
  {
   "cell_type": "markdown",
   "id": "21860a79",
   "metadata": {},
   "source": [
    "Как мы видим у компании Blue больше всего скачивают приложение на __ПК__"
   ]
  },
  {
   "cell_type": "markdown",
   "id": "495d811d",
   "metadata": {},
   "source": [
    "### Компания Black"
   ]
  },
  {
   "cell_type": "markdown",
   "id": "a9ac60f3",
   "metadata": {},
   "source": [
    "Количество уникальных пользователей"
   ]
  },
  {
   "cell_type": "code",
   "execution_count": 101,
   "id": "b6220045",
   "metadata": {},
   "outputs": [
    {
     "data": {
      "text/plain": [
       "1076"
      ]
     },
     "execution_count": 101,
     "metadata": {},
     "output_type": "execute_result"
    }
   ],
   "source": [
    "people_Black = df[df['has_Black_id'] != 0]['HID'].count()\n",
    "people_Black"
   ]
  },
  {
   "cell_type": "markdown",
   "id": "f1c44c1c",
   "metadata": {},
   "source": [
    "Количество пользователей, у которых есть аккаунт только в этой компании"
   ]
  },
  {
   "cell_type": "code",
   "execution_count": 102,
   "id": "777dac37",
   "metadata": {},
   "outputs": [
    {
     "data": {
      "text/plain": [
       "707"
      ]
     },
     "execution_count": 102,
     "metadata": {},
     "output_type": "execute_result"
    }
   ],
   "source": [
    "u_people_Black = df.query('has_Blue_id == 0 and has_Black_id != 0 and has_Green_id == 0')['HID'].count()\n",
    "u_people_Black"
   ]
  },
  {
   "cell_type": "markdown",
   "id": "60cfb628",
   "metadata": {},
   "source": [
    "Рассчитаем в процентном соотношении"
   ]
  },
  {
   "cell_type": "code",
   "execution_count": 103,
   "id": "064a0cd6",
   "metadata": {},
   "outputs": [
    {
     "name": "stdout",
     "output_type": "stream",
     "text": [
      "65.71 %\n"
     ]
    }
   ],
   "source": [
    "print(round(u_people_Black / people_Black * 100, 2), '%')"
   ]
  },
  {
   "cell_type": "markdown",
   "id": "505cf535",
   "metadata": {},
   "source": [
    "Тоже неплохо. Больше половины пользователи только компании Black."
   ]
  },
  {
   "cell_type": "code",
   "execution_count": 89,
   "id": "e766640c",
   "metadata": {},
   "outputs": [
    {
     "data": {
      "image/png": "[encoded data removed]",
      "text/plain": [
       "<Figure size 640x480 with 1 Axes>"
      ]
     },
     "metadata": {},
     "output_type": "display_data"
    }
   ],
   "source": [
    "data_Black = [df.query('Black_android == 1')['HID'].count(),\n",
    "             df.query('Black_apple == 1')['HID'].count(),\n",
    "             df.query('Black_web == 1')['HID'].count()]\n",
    "\n",
    "name = ['Android', 'Apple', 'ПК']\n",
    "\n",
    "colors = ( \"green\", \"gray\", \"blue\") \n",
    "fig1, ax1 = plt.subplots()\n",
    "explode = (0, 0.1, 0) \n",
    "\n",
    "ax1.pie(data_Black, colors = colors, explode=explode, labels=name,autopct='%1.1f%%', shadow=True, startangle=90)\n",
    "patches, texts, auto = ax1.pie(data_Black, colors=colors, shadow=True, startangle=90,explode=explode, autopct='%1.1f%%' )\n",
    "\n",
    "plt.legend(patches, name, loc=\"best\")\n",
    "plt.show()"
   ]
  },
  {
   "cell_type": "markdown",
   "id": "0123d063",
   "metadata": {},
   "source": [
    "Как мы видим у компании Black больше всего скачивают приложение на __Apple__"
   ]
  },
  {
   "cell_type": "markdown",
   "id": "e3add956",
   "metadata": {},
   "source": [
    "### Компания Green"
   ]
  },
  {
   "cell_type": "markdown",
   "id": "57064993",
   "metadata": {},
   "source": [
    "Количество уникальных пользователей"
   ]
  },
  {
   "cell_type": "code",
   "execution_count": 104,
   "id": "f134ad75",
   "metadata": {},
   "outputs": [
    {
     "data": {
      "text/plain": [
       "882"
      ]
     },
     "execution_count": 104,
     "metadata": {},
     "output_type": "execute_result"
    }
   ],
   "source": [
    "people_Green = df[df['has_Green_id'] != 0]['HID'].count()\n",
    "people_Green"
   ]
  },
  {
   "cell_type": "markdown",
   "id": "44b63e5c",
   "metadata": {},
   "source": [
    "Количество пользователей, у которых есть аккаунт только в этой компании"
   ]
  },
  {
   "cell_type": "code",
   "execution_count": 105,
   "id": "c8edbdbf",
   "metadata": {},
   "outputs": [
    {
     "data": {
      "text/plain": [
       "625"
      ]
     },
     "execution_count": 105,
     "metadata": {},
     "output_type": "execute_result"
    }
   ],
   "source": [
    "u_people_Green = df.query('has_Blue_id == 0 and has_Black_id == 0 and has_Green_id != 0')['HID'].count()\n",
    "u_people_Green"
   ]
  },
  {
   "cell_type": "markdown",
   "id": "de7ac2a2",
   "metadata": {},
   "source": [
    "Рассчитаем в процентном соотношении"
   ]
  },
  {
   "cell_type": "code",
   "execution_count": 106,
   "id": "a149f938",
   "metadata": {},
   "outputs": [
    {
     "name": "stdout",
     "output_type": "stream",
     "text": [
      "70.86 %\n"
     ]
    }
   ],
   "source": [
    "print(round(u_people_Green / people_Green * 100, 2), '%')"
   ]
  },
  {
   "cell_type": "markdown",
   "id": "9cf2b7ba",
   "metadata": {},
   "source": [
    "Хороший процетаж. Но людей конечно маловато"
   ]
  },
  {
   "cell_type": "code",
   "execution_count": 93,
   "id": "49facbee",
   "metadata": {},
   "outputs": [
    {
     "data": {
      "image/png": "[encoded data removed]",
      "text/plain": [
       "<Figure size 640x480 with 1 Axes>"
      ]
     },
     "metadata": {},
     "output_type": "display_data"
    }
   ],
   "source": [
    "data_Green = [df.query('Green_android == 1')['HID'].count(),\n",
    "             df.query('Green_apple == 1')['HID'].count(),\n",
    "             df.query('Green_web == 1')['HID'].count()]\n",
    "\n",
    "name = ['Android', 'Apple', 'ПК']\n",
    "\n",
    "colors = ( \"green\", \"gray\", \"blue\") \n",
    "fig1, ax1 = plt.subplots()\n",
    "explode = (0, 0.1, 0) \n",
    "\n",
    "ax1.pie(data_Green, colors = colors, explode=explode, labels=name,autopct='%1.1f%%', shadow=True, startangle=90)\n",
    "patches, texts, auto = ax1.pie(data_Green, colors=colors, shadow=True, startangle=90,explode=explode, autopct='%1.1f%%' )\n",
    "\n",
    "plt.legend(patches, name, loc=\"best\")\n",
    "plt.show()"
   ]
  },
  {
   "cell_type": "markdown",
   "id": "b71204a1",
   "metadata": {},
   "source": [
    "Как мы видим у компании Green больше всего скачивают приложение на __Apple__"
   ]
  },
  {
   "cell_type": "markdown",
   "id": "cdab93a3",
   "metadata": {},
   "source": [
    "### Компания Red"
   ]
  },
  {
   "cell_type": "markdown",
   "id": "b6c62fcf",
   "metadata": {},
   "source": [
    "Для компании Red я выведу только круговую диаграмму "
   ]
  },
  {
   "cell_type": "code",
   "execution_count": 94,
   "id": "ba942d4b",
   "metadata": {},
   "outputs": [
    {
     "data": {
      "image/png": "[encoded data removed]",
      "text/plain": [
       "<Figure size 640x480 with 1 Axes>"
      ]
     },
     "metadata": {},
     "output_type": "display_data"
    }
   ],
   "source": [
    "data_Red = [df.query('Red_android == 1')['HID'].count(),\n",
    "             df.query('Red_apple == 1')['HID'].count(),\n",
    "             df.query('Red_web == 1')['HID'].count()]\n",
    "\n",
    "name = ['Android', 'Apple', 'ПК']\n",
    "\n",
    "colors = ( \"green\", \"gray\", \"blue\") \n",
    "fig1, ax1 = plt.subplots()\n",
    "explode = (0, 0.1, 0) \n",
    "\n",
    "ax1.pie(data_Red, colors = colors, explode=explode, labels=name,autopct='%1.1f%%', shadow=True, startangle=90)\n",
    "patches, texts, auto = ax1.pie(data_Red, colors=colors, shadow=True, startangle=90,explode=explode, autopct='%1.1f%%' )\n",
    "\n",
    "plt.legend(patches, name, loc=\"best\")\n",
    "plt.show()"
   ]
  },
  {
   "cell_type": "markdown",
   "id": "e3eec776",
   "metadata": {},
   "source": [
    "Как мы видим у компании Red больше всего скачивают приложение на __ПК__"
   ]
  },
  {
   "cell_type": "markdown",
   "id": "83b3bd42",
   "metadata": {},
   "source": [
    "### Продолжение анализа"
   ]
  },
  {
   "cell_type": "markdown",
   "id": "158da13f",
   "metadata": {},
   "source": [
    "Посмотрим сколько суммарно скачиваний во всех компаниях на всех платформах"
   ]
  },
  {
   "cell_type": "code",
   "execution_count": 95,
   "id": "0eb94fa5",
   "metadata": {},
   "outputs": [
    {
     "name": "stdout",
     "output_type": "stream",
     "text": [
      "Количество скачиваний в компании Red - 110093\n",
      "Количество скачиваний в компании Blue - 23317\n",
      "Количество скачиваний в компании Black - 4316\n",
      "Количество скачиваний в компании Green - 1357\n"
     ]
    }
   ],
   "source": [
    "print('Количество скачиваний в компании Red -', sum(data_Red))\n",
    "print('Количество скачиваний в компании Blue -', sum(data_Blue))\n",
    "print('Количество скачиваний в компании Black -', sum(data_Black))\n",
    "print('Количество скачиваний в компании Green -', sum(data_Green))"
   ]
  },
  {
   "cell_type": "markdown",
   "id": "096cefa4",
   "metadata": {},
   "source": [
    "Посмотрим сколько клиентов компаний из Москвы"
   ]
  },
  {
   "cell_type": "code",
   "execution_count": 132,
   "id": "25c69ed7",
   "metadata": {},
   "outputs": [
    {
     "data": {
      "image/png": "[encoded data removed]",
      "text/plain": [
       "<Figure size 640x480 with 1 Axes>"
      ]
     },
     "metadata": {},
     "output_type": "display_data"
    }
   ],
   "source": [
    "is_Moscow = [df.query('is_msk == 1 and has_Blue_id==1')['HID'].count(),\n",
    "             df.query('is_msk == 1 and has_Black_id==1')['HID'].count(),\n",
    "             df.query('is_msk == 1 and has_Green_id==1')['HID'].count()]\n",
    "\n",
    "not_is_Moscow = [df.query('is_msk == 0 and has_Blue_id==1')['HID'].count(),\n",
    "                 df.query('is_msk == 0 and has_Black_id==1')['HID'].count(),\n",
    "                 df.query('is_msk == 0 and has_Green_id==1')['HID'].count()]\n",
    "\n",
    "par = ['Blue', 'Black', 'Green']\n",
    "width = 0.3\n",
    "x = np.arange(len(par))\n",
    "fig, ax = plt.subplots()\n",
    "rects1 = ax.bar(x - width/2, is_Moscow, width, label='Из Москвы')\n",
    "rects2 = ax.bar(x + width/2, not_is_Moscow, width, label='Не из Москвы')\n",
    "ax.set_title('В Москве или нет')\n",
    "ax.set_xticks(x)\n",
    "ax.set_xticklabels(par)\n",
    "ax.grid()\n",
    "ax.legend();"
   ]
  },
  {
   "cell_type": "markdown",
   "id": "f65177ce",
   "metadata": {},
   "source": [
    "На этом анализ закончен переходим к выводам"
   ]
  },
  {
   "cell_type": "markdown",
   "id": "daf0b481",
   "metadata": {},
   "source": [
    "## Выводы"
   ]
  },
  {
   "cell_type": "markdown",
   "id": "9c166d6f",
   "metadata": {},
   "source": [
    "__Общие выводы__\n",
    "\n",
    "1) Если раставлять компании по количеству скачиваний, то компания Red явно популярнее своих конкурентов. На втором месте по популяроности скачивания является компания Blue. Самая не популярная компания Green.\n",
    "\n",
    "2) У компании Blue самые преданные покупатели. 96.88 % людей зарегистрированы только в этой компании. \n",
    "\n",
    "3) У нас практически нет данных про компанию Red\n",
    "\n",
    "__Предложения__\n",
    "\n",
    "1) Компании Blue и Red нужно сделать упор на ПК аудиторию, так как она у них преобладает. В свою очередь компании Black и Green нужно сделать упор на пользователей Apple.\n",
    "\n",
    "2) Большенство клиентов компании Blue из Москвы. Они могли бы провести в других городах какие-нибудь мероприятия для привлечения новых пользователей"
   ]
  },
  {
   "cell_type": "code",
   "execution_count": null,
   "id": "32edb04a",
   "metadata": {},
   "outputs": [],
   "source": []
  }
 ],
 "metadata": {
  "kernelspec": {
   "display_name": "Python 3 (ipykernel)",
   "language": "python",
   "name": "python3"
  },
  "language_info": {
   "codemirror_mode": {
    "name": "ipython",
    "version": 3
   },
   "file_extension": ".py",
   "mimetype": "text/x-python",
   "name": "python",
   "nbconvert_exporter": "python",
   "pygments_lexer": "ipython3",
   "version": "3.9.13"
  }
 },
 "nbformat": 4,
 "nbformat_minor": 5
}
